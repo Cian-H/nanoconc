{
 "cells": [
  {
   "cell_type": "code",
   "execution_count": 1,
   "metadata": {},
   "outputs": [
    {
     "name": "stdout",
     "output_type": "stream",
     "text": [
      "\n",
      "Importing modules...\n"
     ]
    },
    {
     "name": "stdout",
     "output_type": "stream",
     "text": [
      "Loading parameters...\n"
     ]
    },
    {
     "name": "stdout",
     "output_type": "stream",
     "text": [
      "Calculating absorbance spectrum...\n",
      "Calculation time: "
     ]
    },
    {
     "name": "stdout",
     "output_type": "stream",
     "text": [
      "  0.325362 seconds (5.42 M allocations: 455.666 MiB, 15.68% gc time)\n"
     ]
    },
    {
     "data": {
      "application/vnd.vegalite.v4+json": {
       "data": {
        "values": [
         {
          "level": 0,
          "sf": "ip:0x0",
          "status": "Runtime dispatch",
          "x1": 1,
          "x2": 304.9
         },
         {
          "level": 1,
          "sf": "(::Base.Threads.var\"#1#2\"{Main.nanoconc.miemfp.var\"#77#threadsfor_fun#20\"{Main.nanoconc.miemfp.var\"#77#threadsfor_fun#19#21\"{Float64, Float64, Matrix{Float64}, Interpolations.Extrapolation{Float64, 1, Interpolations.GriddedInterpolation{Float64, 1, Vector{Float64}, Interpolations.Gridded{Interpolations.Linear{Interpolations.Throw{Interpolations.OnGrid}}}, Tuple{Vector{Float64}}}, Interpolations.Gridded{Interpolations.Linear{Interpolations.Throw{Interpolations.OnGrid}}}, Interpolations.Throw{Nothing}}, Interpolations.Extrapolation{Float64, 1, Interpolations.GriddedInterpolation{Float64, 1, Vector{Float64}, Interpolations.Gridded{Interpolations.Linear{Interpolations.Throw{Interpolations.OnGrid}}}, Tuple{Vector{Float64}}}, Interpolations.Gridded{Interpolations.Linear{Interpolations.Throw{Interpolations.OnGrid}}}, Interpolations.Throw{Nothing}}, Main.nanoconc.miemfp._bhmie, Main.nanoconc.miemfp._mfp, UnitRange{UInt32}}}, Int64})() at threadingconstructs.jl:108",
          "status": "Default",
          "x1": 1,
          "x2": 295.9
         },
         {
          "level": 2,
          "sf": "#77#threadsfor_fun at threadingconstructs.jl:130 [inlined]",
          "status": "Default",
          "x1": 1,
          "x2": 295.9
         },
         {
          "level": 3,
          "sf": "(::Main.nanoconc.miemfp.var\"#77#threadsfor_fun#20\"{Main.nanoconc.miemfp.var\"#77#threadsfor_fun#19#21\"{Float64, Float64, Matrix{Float64}, Interpolations.Extrapolation{Float64, 1, Interpolations.GriddedInterpolation{Float64, 1, Vector{Float64}, Interpolations.Gridded{Interpolations.Linear{Interpolations.Throw{Interpolations.OnGrid}}}, Tuple{Vector{Float64}}}, Interpolations.Gridded{Interpolations.Linear{Interpolations.Throw{Interpolations.OnGrid}}}, Interpolations.Throw{Nothing}}, Interpolations.Extrapolation{Float64, 1, Interpolations.GriddedInterpolation{Float64, 1, Vector{Float64}, Interpolations.Gridded{Interpolations.Linear{Interpolations.Throw{Interpolations.OnGrid}}}, Tuple{Vector{Float64}}}, Interpolations.Gridded{Interpolations.Linear{Interpolations.Throw{Interpolations.OnGrid}}}, Interpolations.Throw{Nothing}}, Main.nanoconc.miemfp._bhmie, Main.nanoconc.miemfp._mfp, UnitRange{UInt32}}})(tid::Int64; onethread::Bool) at threadingconstructs.jl:163",
          "status": "Default",
          "x1": 1,
          "x2": 295.9
         },
         {
          "level": 4,
          "sf": "macro expansion at miemfp.jl:333 [inlined]",
          "status": "Default",
          "x1": 1,
          "x2": 295.9
         },
         {
          "level": 5,
          "sf": "_calc_apparent_cross_section at Memoize.jl:61 [inlined]",
          "status": "Default",
          "x1": 1,
          "x2": 2.9
         },
         {
          "level": 6,
          "sf": "get! at iddict.jl:176 [inlined]",
          "status": "Garbage collection",
          "x1": 1,
          "x2": 2.9
         },
         {
          "level": 5,
          "sf": "_bhmie at miemfp.jl:300 [inlined]",
          "status": "Default",
          "x1": 3,
          "x2": 274.9
         },
         {
          "level": 6,
          "sf": "*(A::Float64, B::Vector{ComplexF64}) at arraymath.jl:21",
          "status": "Default",
          "x1": 3,
          "x2": 3.9
         },
         {
          "level": 6,
          "sf": "bhmie(x::Float64, refrel::ComplexF64, nang::UInt32) at essentials.jl:0",
          "status": "Default",
          "x1": 4,
          "x2": 4.9
         },
         {
          "level": 6,
          "sf": "bhmie(x::Float64, refrel::ComplexF64, nang::UInt32) at miemfp.jl:186",
          "status": "Default",
          "x1": 5,
          "x2": 5.9
         },
         {
          "level": 7,
          "sf": "round at floatfuncs.jl:128 [inlined]",
          "status": "Default",
          "x1": 5,
          "x2": 5.9
         },
         {
          "level": 8,
          "sf": "round at float.jl:395 [inlined]",
          "status": "Default",
          "x1": 5,
          "x2": 5.9
         },
         {
          "level": 6,
          "sf": "bhmie(x::Float64, refrel::ComplexF64, nang::UInt32) at miemfp.jl:188",
          "status": "Default",
          "x1": 6,
          "x2": 8.9
         },
         {
          "level": 7,
          "sf": "materialize at broadcast.jl:873 [inlined]",
          "status": "Default",
          "x1": 6,
          "x2": 8.9
         },
         {
          "level": 8,
          "sf": "copy at broadcast.jl:898 [inlined]",
          "status": "Default",
          "x1": 6,
          "x2": 8.9
         },
         {
          "level": 9,
          "sf": "copyto! at broadcast.jl:926 [inlined]",
          "status": "Default",
          "x1": 6,
          "x2": 6.9
         },
         {
          "level": 10,
          "sf": "copyto! at broadcast.jl:973 [inlined]",
          "status": "Default",
          "x1": 6,
          "x2": 6.9
         },
         {
          "level": 11,
          "sf": "macro expansion at simdloop.jl:75 [inlined]",
          "status": "Default",
          "x1": 6,
          "x2": 6.9
         },
         {
          "level": 12,
          "sf": "< at int.jl:83 [inlined]",
          "status": "Default",
          "x1": 6,
          "x2": 6.9
         },
         {
          "level": 9,
          "sf": "similar at broadcast.jl:211 [inlined]",
          "status": "Default",
          "x1": 7,
          "x2": 8.9
         },
         {
          "level": 10,
          "sf": "similar at broadcast.jl:212 [inlined]",
          "status": "Default",
          "x1": 7,
          "x2": 8.9
         },
         {
          "level": 11,
          "sf": "similar at abstractarray.jl:881 [inlined]",
          "status": "Default",
          "x1": 7,
          "x2": 8.9
         },
         {
          "level": 12,
          "sf": "similar at abstractarray.jl:882 [inlined]",
          "status": "Default",
          "x1": 7,
          "x2": 8.9
         },
         {
          "level": 13,
          "sf": "Array at boot.jl:494 [inlined]",
          "status": "Default",
          "x1": 7,
          "x2": 8.9
         },
         {
          "level": 14,
          "sf": "Array at boot.jl:486 [inlined]",
          "status": "Default",
          "x1": 7,
          "x2": 8.9
         },
         {
          "level": 15,
          "sf": "Array at boot.jl:477 [inlined]",
          "status": "Default",
          "x1": 7,
          "x2": 8.9
         },
         {
          "level": 6,
          "sf": "bhmie(x::Float64, refrel::ComplexF64, nang::UInt32) at miemfp.jl:190",
          "status": "Default",
          "x1": 9,
          "x2": 14.9
         },
         {
          "level": 7,
          "sf": "Array at baseext.jl:23 [inlined]",
          "status": "Default",
          "x1": 9,
          "x2": 14.9
         },
         {
          "level": 8,
          "sf": "Array at boot.jl:477 [inlined]",
          "status": "Garbage collection",
          "x1": 9,
          "x2": 14.9
         },
         {
          "level": 6,
          "sf": "bhmie(x::Float64, refrel::ComplexF64, nang::UInt32) at miemfp.jl:192",
          "status": "Default",
          "x1": 15,
          "x2": 25.9
         },
         {
          "level": 7,
          "sf": "macro expansion at simdloop.jl:75 [inlined]",
          "status": "Default",
          "x1": 15,
          "x2": 15.9
         },
         {
          "level": 8,
          "sf": "< at int.jl:83 [inlined]",
          "status": "Default",
          "x1": 15,
          "x2": 15.9
         },
         {
          "level": 7,
          "sf": "macro expansion at simdloop.jl:77 [inlined]",
          "status": "Default",
          "x1": 16,
          "x2": 25.9
         },
         {
          "level": 8,
          "sf": "macro expansion at array.jl:0 [inlined]",
          "status": "Default",
          "x1": 16,
          "x2": 16.9
         },
         {
          "level": 8,
          "sf": "macro expansion at miemfp.jl:194 [inlined]",
          "status": "Default",
          "x1": 17,
          "x2": 25.9
         },
         {
          "level": 9,
          "sf": "setindex! at array.jl:969 [inlined]",
          "status": "Default",
          "x1": 17,
          "x2": 17.9
         },
         {
          "level": 9,
          "sf": "div_fast at fastmath.jl:229 [inlined]",
          "status": "Default",
          "x1": 18,
          "x2": 23.9
         },
         {
          "level": 10,
          "sf": "abs2_fast at fastmath.jl:197 [inlined]",
          "status": "Default",
          "x1": 18,
          "x2": 20.9
         },
         {
          "level": 11,
          "sf": "add_fast at fastmath.jl:165 [inlined]",
          "status": "Default",
          "x1": 18,
          "x2": 20.9
         },
         {
          "level": 10,
          "sf": "div_fast at fastmath.jl:227 [inlined]",
          "status": "Default",
          "x1": 21,
          "x2": 23.9
         },
         {
          "level": 11,
          "sf": "div_fast at fastmath.jl:168 [inlined]",
          "status": "Default",
          "x1": 21,
          "x2": 23.9
         },
         {
          "level": 9,
          "sf": "maybeview at views.jl:149 [inlined]",
          "status": "Default",
          "x1": 24,
          "x2": 25.9
         },
         {
          "level": 10,
          "sf": "getindex at essentials.jl:13 [inlined]",
          "status": "Default",
          "x1": 24,
          "x2": 25.9
         },
         {
          "level": 6,
          "sf": "bhmie(x::Float64, refrel::ComplexF64, nang::UInt32) at miemfp.jl:198",
          "status": "Default",
          "x1": 26,
          "x2": 26.9
         },
         {
          "level": 7,
          "sf": "cos_fast at fastmath.jl:349 [inlined]",
          "status": "Default",
          "x1": 26,
          "x2": 26.9
         },
         {
          "level": 8,
          "sf": "cos(x::Float64) at trig.jl:104",
          "status": "Default",
          "x1": 26,
          "x2": 26.9
         },
         {
          "level": 9,
          "sf": "cos_kernel at trig.jl:147 [inlined]",
          "status": "Default",
          "x1": 26,
          "x2": 26.9
         },
         {
          "level": 10,
          "sf": "* at float.jl:410 [inlined]",
          "status": "Default",
          "x1": 26,
          "x2": 26.9
         },
         {
          "level": 6,
          "sf": "bhmie(x::Float64, refrel::ComplexF64, nang::UInt32) at miemfp.jl:205",
          "status": "Default",
          "x1": 27,
          "x2": 39.9
         },
         {
          "level": 7,
          "sf": "zeros at array.jl:580 [inlined]",
          "status": "Default",
          "x1": 27,
          "x2": 39.9
         },
         {
          "level": 8,
          "sf": "zeros at array.jl:584 [inlined]",
          "status": "Default",
          "x1": 27,
          "x2": 39.9
         },
         {
          "level": 9,
          "sf": "Array at baseext.jl:36 [inlined]",
          "status": "Default",
          "x1": 27,
          "x2": 39.9
         },
         {
          "level": 10,
          "sf": "Array at boot.jl:486 [inlined]",
          "status": "Default",
          "x1": 27,
          "x2": 39.9
         },
         {
          "level": 11,
          "sf": "Array at boot.jl:477 [inlined]",
          "status": "Garbage collection",
          "x1": 27,
          "x2": 39.9
         },
         {
          "level": 6,
          "sf": "bhmie(x::Float64, refrel::ComplexF64, nang::UInt32) at miemfp.jl:207",
          "status": "Default",
          "x1": 40,
          "x2": 40.9
         },
         {
          "level": 7,
          "sf": "zeros at array.jl:580 [inlined]",
          "status": "Default",
          "x1": 40,
          "x2": 40.9
         },
         {
          "level": 8,
          "sf": "zeros at array.jl:584 [inlined]",
          "status": "Default",
          "x1": 40,
          "x2": 40.9
         },
         {
          "level": 9,
          "sf": "Array at baseext.jl:36 [inlined]",
          "status": "Default",
          "x1": 40,
          "x2": 40.9
         },
         {
          "level": 10,
          "sf": "Array at boot.jl:486 [inlined]",
          "status": "Default",
          "x1": 40,
          "x2": 40.9
         },
         {
          "level": 11,
          "sf": "Array at boot.jl:477 [inlined]",
          "status": "Default",
          "x1": 40,
          "x2": 40.9
         },
         {
          "level": 6,
          "sf": "bhmie(x::Float64, refrel::ComplexF64, nang::UInt32) at miemfp.jl:208",
          "status": "Default",
          "x1": 41,
          "x2": 41.9
         },
         {
          "level": 7,
          "sf": "zeros at array.jl:580 [inlined]",
          "status": "Default",
          "x1": 41,
          "x2": 41.9
         },
         {
          "level": 8,
          "sf": "zeros at array.jl:584 [inlined]",
          "status": "Default",
          "x1": 41,
          "x2": 41.9
         },
         {
          "level": 9,
          "sf": "Array at baseext.jl:36 [inlined]",
          "status": "Default",
          "x1": 41,
          "x2": 41.9
         },
         {
          "level": 10,
          "sf": "Array at boot.jl:486 [inlined]",
          "status": "Default",
          "x1": 41,
          "x2": 41.9
         },
         {
          "level": 11,
          "sf": "Array at boot.jl:477 [inlined]",
          "status": "Garbage collection",
          "x1": 41,
          "x2": 41.9
         },
         {
          "level": 6,
          "sf": "bhmie(x::Float64, refrel::ComplexF64, nang::UInt32) at miemfp.jl:209",
          "status": "Default",
          "x1": 42,
          "x2": 42.9
         },
         {
          "level": 7,
          "sf": "zeros at array.jl:579 [inlined]",
          "status": "Default",
          "x1": 42,
          "x2": 42.9
         },
         {
          "level": 8,
          "sf": "zeros at array.jl:581 [inlined]",
          "status": "Default",
          "x1": 42,
          "x2": 42.9
         },
         {
          "level": 9,
          "sf": "zeros at array.jl:585 [inlined]",
          "status": "Default",
          "x1": 42,
          "x2": 42.9
         },
         {
          "level": 10,
          "sf": "fill! at array.jl:348 [inlined]",
          "status": "Default",
          "x1": 42,
          "x2": 42.9
         },
         {
          "level": 11,
          "sf": "iterate at range.jl:887 [inlined]",
          "status": "Default",
          "x1": 42,
          "x2": 42.9
         },
         {
          "level": 12,
          "sf": "isempty at range.jl:662 [inlined]",
          "status": "Default",
          "x1": 42,
          "x2": 42.9
         },
         {
          "level": 13,
          "sf": "> at operators.jl:369 [inlined]",
          "status": "Default",
          "x1": 42,
          "x2": 42.9
         },
         {
          "level": 14,
          "sf": "< at int.jl:83 [inlined]",
          "status": "Default",
          "x1": 42,
          "x2": 42.9
         },
         {
          "level": 6,
          "sf": "bhmie(x::Float64, refrel::ComplexF64, nang::UInt32) at miemfp.jl:210",
          "status": "Default",
          "x1": 43,
          "x2": 47.9
         },
         {
          "level": 7,
          "sf": "ones at array.jl:579 [inlined]",
          "status": "Default",
          "x1": 43,
          "x2": 47.9
         },
         {
          "level": 8,
          "sf": "ones at array.jl:581 [inlined]",
          "status": "Default",
          "x1": 43,
          "x2": 47.9
         },
         {
          "level": 9,
          "sf": "ones at array.jl:584 [inlined]",
          "status": "Default",
          "x1": 43,
          "x2": 47.9
         },
         {
          "level": 10,
          "sf": "Array at baseext.jl:36 [inlined]",
          "status": "Default",
          "x1": 43,
          "x2": 47.9
         },
         {
          "level": 11,
          "sf": "Array at boot.jl:486 [inlined]",
          "status": "Default",
          "x1": 43,
          "x2": 47.9
         },
         {
          "level": 12,
          "sf": "Array at boot.jl:477 [inlined]",
          "status": "Garbage collection",
          "x1": 43,
          "x2": 47.9
         },
         {
          "level": 6,
          "sf": "bhmie(x::Float64, refrel::ComplexF64, nang::UInt32) at miemfp.jl:211",
          "status": "Default",
          "x1": 48,
          "x2": 49.9
         },
         {
          "level": 7,
          "sf": "similar at abstractarray.jl:880 [inlined]",
          "status": "Default",
          "x1": 48,
          "x2": 49.9
         },
         {
          "level": 8,
          "sf": "similar at abstractarray.jl:881 [inlined]",
          "status": "Default",
          "x1": 48,
          "x2": 49.9
         },
         {
          "level": 9,
          "sf": "similar at abstractarray.jl:882 [inlined]",
          "status": "Default",
          "x1": 48,
          "x2": 49.9
         },
         {
          "level": 10,
          "sf": "Array at boot.jl:486 [inlined]",
          "status": "Default",
          "x1": 48,
          "x2": 49.9
         },
         {
          "level": 11,
          "sf": "Array at boot.jl:477 [inlined]",
          "status": "Default",
          "x1": 48,
          "x2": 49.9
         },
         {
          "level": 6,
          "sf": "bhmie(x::Float64, refrel::ComplexF64, nang::UInt32) at miemfp.jl:212",
          "status": "Default",
          "x1": 50,
          "x2": 265.9
         },
         {
          "level": 7,
          "sf": "macro expansion at simdloop.jl:77 [inlined]",
          "status": "Default",
          "x1": 50,
          "x2": 265.9
         },
         {
          "level": 8,
          "sf": "macro expansion at fastmath.jl:0 [inlined]",
          "status": "Default",
          "x1": 50,
          "x2": 50.9
         },
         {
          "level": 8,
          "sf": "macro expansion at simdloop.jl:0 [inlined]",
          "status": "Default",
          "x1": 51,
          "x2": 79.9
         },
         {
          "level": 9,
          "sf": "*(A::Float64, B::Vector{ComplexF64}) at arraymath.jl:21",
          "status": "Default",
          "x1": 51,
          "x2": 65.9
         },
         {
          "level": 10,
          "sf": "broadcast_preserving_zero_d at broadcast.jl:862 [inlined]",
          "status": "Default",
          "x1": 51,
          "x2": 65.9
         },
         {
          "level": 11,
          "sf": "materialize at broadcast.jl:873 [inlined]",
          "status": "Default",
          "x1": 51,
          "x2": 65.9
         },
         {
          "level": 12,
          "sf": "copy at broadcast.jl:898 [inlined]",
          "status": "Default",
          "x1": 51,
          "x2": 65.9
         },
         {
          "level": 13,
          "sf": "similar at broadcast.jl:211 [inlined]",
          "status": "Default",
          "x1": 51,
          "x2": 65.9
         },
         {
          "level": 14,
          "sf": "similar at broadcast.jl:212 [inlined]",
          "status": "Default",
          "x1": 51,
          "x2": 65.9
         },
         {
          "level": 15,
          "sf": "similar at abstractarray.jl:881 [inlined]",
          "status": "Default",
          "x1": 51,
          "x2": 65.9
         },
         {
          "level": 16,
          "sf": "similar at abstractarray.jl:882 [inlined]",
          "status": "Default",
          "x1": 51,
          "x2": 65.9
         },
         {
          "level": 17,
          "sf": "Array at boot.jl:494 [inlined]",
          "status": "Default",
          "x1": 51,
          "x2": 65.9
         },
         {
          "level": 18,
          "sf": "Array at boot.jl:486 [inlined]",
          "status": "Default",
          "x1": 51,
          "x2": 65.9
         },
         {
          "level": 19,
          "sf": "Array at boot.jl:477 [inlined]",
          "status": "Garbage collection",
          "x1": 51,
          "x2": 65.9
         },
         {
          "level": 9,
          "sf": "-(A::Vector{ComplexF64}, B::Vector{ComplexF64}) at arraymath.jl:8",
          "status": "Default",
          "x1": 66,
          "x2": 78.9
         },
         {
          "level": 10,
          "sf": "broadcast_preserving_zero_d at broadcast.jl:862 [inlined]",
          "status": "Default",
          "x1": 66,
          "x2": 78.9
         },
         {
          "level": 11,
          "sf": "materialize at broadcast.jl:873 [inlined]",
          "status": "Default",
          "x1": 66,
          "x2": 78.9
         },
         {
          "level": 12,
          "sf": "copy at broadcast.jl:898 [inlined]",
          "status": "Default",
          "x1": 66,
          "x2": 78.9
         },
         {
          "level": 13,
          "sf": "copyto! at broadcast.jl:926 [inlined]",
          "status": "Default",
          "x1": 66,
          "x2": 67.9
         },
         {
          "level": 14,
          "sf": "copyto! at broadcast.jl:970 [inlined]",
          "status": "Default",
          "x1": 66,
          "x2": 67.9
         },
         {
          "level": 15,
          "sf": "preprocess at broadcast.jl:953 [inlined]",
          "status": "Default",
          "x1": 66,
          "x2": 67.9
         },
         {
          "level": 16,
          "sf": "preprocess_args at broadcast.jl:956 [inlined]",
          "status": "Default",
          "x1": 66,
          "x2": 67.9
         },
         {
          "level": 17,
          "sf": "size at array.jl:0 [inlined]",
          "status": "Default",
          "x1": 66,
          "x2": 66.9
         },
         {
          "level": 17,
          "sf": "preprocess at broadcast.jl:954 [inlined]",
          "status": "Default",
          "x1": 67,
          "x2": 67.9
         },
         {
          "level": 18,
          "sf": "extrude at broadcast.jl:650 [inlined]",
          "status": "Default",
          "x1": 67,
          "x2": 67.9
         },
         {
          "level": 19,
          "sf": "newindexer at broadcast.jl:599 [inlined]",
          "status": "Default",
          "x1": 67,
          "x2": 67.9
         },
         {
          "level": 20,
          "sf": "axes at abstractarray.jl:98 [inlined]",
          "status": "Default",
          "x1": 67,
          "x2": 67.9
         },
         {
          "level": 21,
          "sf": "size at array.jl:149 [inlined]",
          "status": "Default",
          "x1": 67,
          "x2": 67.9
         },
         {
          "level": 13,
          "sf": "similar at broadcast.jl:211 [inlined]",
          "status": "Default",
          "x1": 68,
          "x2": 78.9
         },
         {
          "level": 14,
          "sf": "similar at broadcast.jl:212 [inlined]",
          "status": "Default",
          "x1": 68,
          "x2": 78.9
         },
         {
          "level": 15,
          "sf": "similar at abstractarray.jl:881 [inlined]",
          "status": "Default",
          "x1": 68,
          "x2": 78.9
         },
         {
          "level": 16,
          "sf": "similar at abstractarray.jl:882 [inlined]",
          "status": "Default",
          "x1": 68,
          "x2": 78.9
         },
         {
          "level": 17,
          "sf": "Array at boot.jl:494 [inlined]",
          "status": "Default",
          "x1": 68,
          "x2": 78.9
         },
         {
          "level": 18,
          "sf": "Array at boot.jl:486 [inlined]",
          "status": "Default",
          "x1": 68,
          "x2": 78.9
         },
         {
          "level": 19,
          "sf": "Array at boot.jl:477 [inlined]",
          "status": "Garbage collection",
          "x1": 68,
          "x2": 78.9
         },
         {
          "level": 9,
          "sf": "-(A::Vector{ComplexF64}, B::Vector{ComplexF64}) at broadcast.jl:0",
          "status": "Default",
          "x1": 79,
          "x2": 79.9
         },
         {
          "level": 8,
          "sf": "macro expansion at miemfp.jl:214 [inlined]",
          "status": "Default",
          "x1": 80,
          "x2": 80.9
         },
         {
          "level": 9,
          "sf": "sub_fast at fastmath.jl:166 [inlined]",
          "status": "Default",
          "x1": 80,
          "x2": 80.9
         },
         {
          "level": 8,
          "sf": "macro expansion at miemfp.jl:220 [inlined]",
          "status": "Default",
          "x1": 81,
          "x2": 81.9
         },
         {
          "level": 9,
          "sf": "add_fast at fastmath.jl:204 [inlined]",
          "status": "Default",
          "x1": 81,
          "x2": 81.9
         },
         {
          "level": 10,
          "sf": "add_fast at fastmath.jl:165 [inlined]",
          "status": "Default",
          "x1": 81,
          "x2": 81.9
         },
         {
          "level": 8,
          "sf": "macro expansion at miemfp.jl:230 [inlined]",
          "status": "Default",
          "x1": 82,
          "x2": 127.9
         },
         {
          "level": 9,
          "sf": "materialize at broadcast.jl:873 [inlined]",
          "status": "Default",
          "x1": 82,
          "x2": 109.9
         },
         {
          "level": 10,
          "sf": "copy at broadcast.jl:898 [inlined]",
          "status": "Default",
          "x1": 82,
          "x2": 109.9
         },
         {
          "level": 11,
          "sf": "copyto! at broadcast.jl:926 [inlined]",
          "status": "Default",
          "x1": 82,
          "x2": 82.9
         },
         {
          "level": 12,
          "sf": "copyto! at broadcast.jl:973 [inlined]",
          "status": "Default",
          "x1": 82,
          "x2": 82.9
         },
         {
          "level": 13,
          "sf": "macro expansion at simdloop.jl:78 [inlined]",
          "status": "Default",
          "x1": 82,
          "x2": 82.9
         },
         {
          "level": 14,
          "sf": "+ at int.jl:87 [inlined]",
          "status": "Default",
          "x1": 82,
          "x2": 82.9
         },
         {
          "level": 11,
          "sf": "similar at broadcast.jl:211 [inlined]",
          "status": "Default",
          "x1": 83,
          "x2": 109.9
         },
         {
          "level": 12,
          "sf": "similar at broadcast.jl:212 [inlined]",
          "status": "Default",
          "x1": 83,
          "x2": 109.9
         },
         {
          "level": 13,
          "sf": "similar at abstractarray.jl:881 [inlined]",
          "status": "Default",
          "x1": 83,
          "x2": 109.9
         },
         {
          "level": 14,
          "sf": "similar at abstractarray.jl:882 [inlined]",
          "status": "Default",
          "x1": 83,
          "x2": 109.9
         },
         {
          "level": 15,
          "sf": "Array at boot.jl:494 [inlined]",
          "status": "Default",
          "x1": 83,
          "x2": 109.9
         },
         {
          "level": 16,
          "sf": "Array at boot.jl:486 [inlined]",
          "status": "Default",
          "x1": 83,
          "x2": 109.9
         },
         {
          "level": 17,
          "sf": "Array at boot.jl:477 [inlined]",
          "status": "Garbage collection",
          "x1": 83,
          "x2": 109.9
         },
         {
          "level": 9,
          "sf": "mul_fast at fastmath.jl:265 [inlined]",
          "status": "Default",
          "x1": 110,
          "x2": 118.9
         },
         {
          "level": 10,
          "sf": "*(A::Int64, B::Vector{Float64}) at arraymath.jl:21",
          "status": "Default",
          "x1": 110,
          "x2": 118.9
         },
         {
          "level": 11,
          "sf": "broadcast_preserving_zero_d at broadcast.jl:862 [inlined]",
          "status": "Default",
          "x1": 110,
          "x2": 118.9
         },
         {
          "level": 12,
          "sf": "materialize at broadcast.jl:873 [inlined]",
          "status": "Default",
          "x1": 110,
          "x2": 118.9
         },
         {
          "level": 13,
          "sf": "copy at broadcast.jl:898 [inlined]",
          "status": "Default",
          "x1": 110,
          "x2": 118.9
         },
         {
          "level": 14,
          "sf": "similar at broadcast.jl:211 [inlined]",
          "status": "Default",
          "x1": 110,
          "x2": 118.9
         },
         {
          "level": 15,
          "sf": "similar at broadcast.jl:212 [inlined]",
          "status": "Default",
          "x1": 110,
          "x2": 118.9
         },
         {
          "level": 16,
          "sf": "similar at abstractarray.jl:881 [inlined]",
          "status": "Default",
          "x1": 110,
          "x2": 118.9
         },
         {
          "level": 17,
          "sf": "similar at abstractarray.jl:882 [inlined]",
          "status": "Default",
          "x1": 110,
          "x2": 118.9
         },
         {
          "level": 18,
          "sf": "Array at boot.jl:494 [inlined]",
          "status": "Default",
          "x1": 110,
          "x2": 118.9
         },
         {
          "level": 19,
          "sf": "Array at boot.jl:486 [inlined]",
          "status": "Default",
          "x1": 110,
          "x2": 118.9
         },
         {
          "level": 20,
          "sf": "Array at boot.jl:477 [inlined]",
          "status": "Default",
          "x1": 110,
          "x2": 118.9
         },
         {
          "level": 9,
          "sf": "sub_fast at fastmath.jl:265 [inlined]",
          "status": "Default",
          "x1": 119,
          "x2": 127.9
         },
         {
          "level": 10,
          "sf": "-(A::Vector{Float64}, B::Vector{Float64}) at arraymath.jl:8",
          "status": "Default",
          "x1": 119,
          "x2": 127.9
         },
         {
          "level": 11,
          "sf": "broadcast_preserving_zero_d at broadcast.jl:862 [inlined]",
          "status": "Default",
          "x1": 119,
          "x2": 127.9
         },
         {
          "level": 12,
          "sf": "materialize at broadcast.jl:873 [inlined]",
          "status": "Default",
          "x1": 119,
          "x2": 127.9
         },
         {
          "level": 13,
          "sf": "copy at broadcast.jl:898 [inlined]",
          "status": "Default",
          "x1": 119,
          "x2": 127.9
         },
         {
          "level": 14,
          "sf": "copyto! at broadcast.jl:926 [inlined]",
          "status": "Default",
          "x1": 119,
          "x2": 119.9
         },
         {
          "level": 15,
          "sf": "copyto! at broadcast.jl:973 [inlined]",
          "status": "Default",
          "x1": 119,
          "x2": 119.9
         },
         {
          "level": 16,
          "sf": "macro expansion at simdloop.jl:77 [inlined]",
          "status": "Default",
          "x1": 119,
          "x2": 119.9
         },
         {
          "level": 17,
          "sf": "macro expansion at broadcast.jl:974 [inlined]",
          "status": "Default",
          "x1": 119,
          "x2": 119.9
         },
         {
          "level": 18,
          "sf": "getindex at broadcast.jl:610 [inlined]",
          "status": "Default",
          "x1": 119,
          "x2": 119.9
         },
         {
          "level": 19,
          "sf": "_broadcast_getindex at broadcast.jl:655 [inlined]",
          "status": "Default",
          "x1": 119,
          "x2": 119.9
         },
         {
          "level": 20,
          "sf": "_getindex at broadcast.jl:679 [inlined]",
          "status": "Default",
          "x1": 119,
          "x2": 119.9
         },
         {
          "level": 21,
          "sf": "_broadcast_getindex at broadcast.jl:649 [inlined]",
          "status": "Default",
          "x1": 119,
          "x2": 119.9
         },
         {
          "level": 22,
          "sf": "getindex at essentials.jl:13 [inlined]",
          "status": "Default",
          "x1": 119,
          "x2": 119.9
         },
         {
          "level": 14,
          "sf": "similar at broadcast.jl:211 [inlined]",
          "status": "Default",
          "x1": 120,
          "x2": 127.9
         },
         {
          "level": 15,
          "sf": "similar at broadcast.jl:212 [inlined]",
          "status": "Default",
          "x1": 120,
          "x2": 127.9
         },
         {
          "level": 16,
          "sf": "similar at abstractarray.jl:881 [inlined]",
          "status": "Default",
          "x1": 120,
          "x2": 127.9
         },
         {
          "level": 17,
          "sf": "similar at abstractarray.jl:882 [inlined]",
          "status": "Default",
          "x1": 120,
          "x2": 127.9
         },
         {
          "level": 18,
          "sf": "Array at boot.jl:494 [inlined]",
          "status": "Default",
          "x1": 120,
          "x2": 127.9
         },
         {
          "level": 19,
          "sf": "Array at boot.jl:486 [inlined]",
          "status": "Default",
          "x1": 120,
          "x2": 127.9
         },
         {
          "level": 20,
          "sf": "Array at boot.jl:477 [inlined]",
          "status": "Garbage collection",
          "x1": 120,
          "x2": 127.9
         },
         {
          "level": 8,
          "sf": "macro expansion at miemfp.jl:231 [inlined]",
          "status": "Default",
          "x1": 128,
          "x2": 168.9
         },
         {
          "level": 9,
          "sf": "div_fast at fastmath.jl:270 [inlined]",
          "status": "Default",
          "x1": 128,
          "x2": 129.9
         },
         {
          "level": 10,
          "sf": "/ at int.jl:97 [inlined]",
          "status": "Default",
          "x1": 128,
          "x2": 129.9
         },
         {
          "level": 11,
          "sf": "float at float.jl:294 [inlined]",
          "status": "Default",
          "x1": 128,
          "x2": 129.9
         },
         {
          "level": 12,
          "sf": "AbstractFloat at float.jl:268 [inlined]",
          "status": "Default",
          "x1": 128,
          "x2": 129.9
         },
         {
          "level": 13,
          "sf": "Float64 at float.jl:159 [inlined]",
          "status": "Default",
          "x1": 128,
          "x2": 129.9
         },
         {
          "level": 9,
          "sf": "mul_fast at fastmath.jl:265 [inlined]",
          "status": "Default",
          "x1": 130,
          "x2": 168.9
         },
         {
          "level": 10,
          "sf": "*(A::ComplexF64, B::Vector{Float64}) at arraymath.jl:21",
          "status": "Default",
          "x1": 130,
          "x2": 165.9
         },
         {
          "level": 11,
          "sf": "broadcast_preserving_zero_d at broadcast.jl:862 [inlined]",
          "status": "Default",
          "x1": 130,
          "x2": 165.9
         },
         {
          "level": 12,
          "sf": "materialize at broadcast.jl:873 [inlined]",
          "status": "Default",
          "x1": 130,
          "x2": 165.9
         },
         {
          "level": 13,
          "sf": "copy at broadcast.jl:898 [inlined]",
          "status": "Default",
          "x1": 130,
          "x2": 165.9
         },
         {
          "level": 14,
          "sf": "copyto! at broadcast.jl:926 [inlined]",
          "status": "Default",
          "x1": 130,
          "x2": 131.9
         },
         {
          "level": 15,
          "sf": "copyto! at broadcast.jl:962 [inlined]",
          "status": "Default",
          "x1": 130,
          "x2": 130.9
         },
         {
          "level": 16,
          "sf": "== at tuple.jl:458 [inlined]",
          "status": "Default",
          "x1": 130,
          "x2": 130.9
         },
         {
          "level": 17,
          "sf": "_eq at tuple.jl:462 [inlined]",
          "status": "Default",
          "x1": 130,
          "x2": 130.9
         },
         {
          "level": 18,
          "sf": "== at range.jl:1119 [inlined]",
          "status": "Default",
          "x1": 130,
          "x2": 130.9
         },
         {
          "level": 19,
          "sf": "== at promotion.jl:499 [inlined]",
          "status": "Default",
          "x1": 130,
          "x2": 130.9
         },
         {
          "level": 15,
          "sf": "copyto! at broadcast.jl:970 [inlined]",
          "status": "Default",
          "x1": 131,
          "x2": 131.9
         },
         {
          "level": 16,
          "sf": "preprocess at broadcast.jl:953 [inlined]",
          "status": "Default",
          "x1": 131,
          "x2": 131.9
         },
         {
          "level": 17,
          "sf": "preprocess_args at broadcast.jl:956 [inlined]",
          "status": "Default",
          "x1": 131,
          "x2": 131.9
         },
         {
          "level": 18,
          "sf": "preprocess_args at broadcast.jl:957 [inlined]",
          "status": "Default",
          "x1": 131,
          "x2": 131.9
         },
         {
          "level": 19,
          "sf": "preprocess at broadcast.jl:954 [inlined]",
          "status": "Default",
          "x1": 131,
          "x2": 131.9
         },
         {
          "level": 20,
          "sf": "extrude at broadcast.jl:650 [inlined]",
          "status": "Default",
          "x1": 131,
          "x2": 131.9
         },
         {
          "level": 21,
          "sf": "newindexer at broadcast.jl:599 [inlined]",
          "status": "Default",
          "x1": 131,
          "x2": 131.9
         },
         {
          "level": 22,
          "sf": "shapeindexer at broadcast.jl:600 [inlined]",
          "status": "Default",
          "x1": 131,
          "x2": 131.9
         },
         {
          "level": 23,
          "sf": "_newindexer at broadcast.jl:605 [inlined]",
          "status": "Default",
          "x1": 131,
          "x2": 131.9
         },
         {
          "level": 24,
          "sf": "!= at operators.jl:269 [inlined]",
          "status": "Default",
          "x1": 131,
          "x2": 131.9
         },
         {
          "level": 25,
          "sf": "== at promotion.jl:499 [inlined]",
          "status": "Default",
          "x1": 131,
          "x2": 131.9
         },
         {
          "level": 14,
          "sf": "similar at broadcast.jl:211 [inlined]",
          "status": "Default",
          "x1": 132,
          "x2": 165.9
         },
         {
          "level": 15,
          "sf": "similar at broadcast.jl:212 [inlined]",
          "status": "Default",
          "x1": 132,
          "x2": 165.9
         },
         {
          "level": 16,
          "sf": "similar at abstractarray.jl:881 [inlined]",
          "status": "Default",
          "x1": 132,
          "x2": 165.9
         },
         {
          "level": 17,
          "sf": "similar at abstractarray.jl:882 [inlined]",
          "status": "Default",
          "x1": 132,
          "x2": 165.9
         },
         {
          "level": 18,
          "sf": "Array at boot.jl:494 [inlined]",
          "status": "Default",
          "x1": 132,
          "x2": 165.9
         },
         {
          "level": 19,
          "sf": "Array at boot.jl:486 [inlined]",
          "status": "Default",
          "x1": 132,
          "x2": 165.9
         },
         {
          "level": 20,
          "sf": "Array at boot.jl:477 [inlined]",
          "status": "Garbage collection",
          "x1": 132,
          "x2": 165.9
         },
         {
          "level": 8,
          "sf": "macro expansion at miemfp.jl:232 [inlined]",
          "status": "Default",
          "x1": 169,
          "x2": 190.9
         },
         {
          "level": 9,
          "sf": "add_fast at fastmath.jl:265 [inlined]",
          "status": "Default",
          "x1": 169,
          "x2": 182.9
         },
         {
          "level": 10,
          "sf": "+(A::Vector{ComplexF64}, Bs::Vector{ComplexF64}) at arraymath.jl:14",
          "status": "Default",
          "x1": 169,
          "x2": 169.9
         },
         {
          "level": 11,
          "sf": "promote_shape at indices.jl:169 [inlined]",
          "status": "Default",
          "x1": 169,
          "x2": 169.9
         },
         {
          "level": 12,
          "sf": "axes at abstractarray.jl:98 [inlined]",
          "status": "Default",
          "x1": 169,
          "x2": 169.9
         },
         {
          "level": 13,
          "sf": "size at array.jl:149 [inlined]",
          "status": "Default",
          "x1": 169,
          "x2": 169.9
         },
         {
          "level": 10,
          "sf": "+(A::Vector{ComplexF64}, Bs::Vector{ComplexF64}) at arraymath.jl:16",
          "status": "Default",
          "x1": 170,
          "x2": 181.9
         },
         {
          "level": 11,
          "sf": "broadcast_preserving_zero_d at broadcast.jl:862 [inlined]",
          "status": "Default",
          "x1": 170,
          "x2": 180.9
         },
         {
          "level": 12,
          "sf": "materialize at broadcast.jl:873 [inlined]",
          "status": "Default",
          "x1": 170,
          "x2": 180.9
         },
         {
          "level": 13,
          "sf": "copy at broadcast.jl:898 [inlined]",
          "status": "Default",
          "x1": 170,
          "x2": 180.9
         },
         {
          "level": 14,
          "sf": "similar at broadcast.jl:211 [inlined]",
          "status": "Default",
          "x1": 170,
          "x2": 180.9
         },
         {
          "level": 15,
          "sf": "similar at broadcast.jl:212 [inlined]",
          "status": "Default",
          "x1": 170,
          "x2": 180.9
         },
         {
          "level": 16,
          "sf": "similar at abstractarray.jl:881 [inlined]",
          "status": "Default",
          "x1": 170,
          "x2": 180.9
         },
         {
          "level": 17,
          "sf": "similar at abstractarray.jl:882 [inlined]",
          "status": "Default",
          "x1": 170,
          "x2": 180.9
         },
         {
          "level": 18,
          "sf": "Array at boot.jl:494 [inlined]",
          "status": "Default",
          "x1": 170,
          "x2": 180.9
         },
         {
          "level": 19,
          "sf": "Array at boot.jl:486 [inlined]",
          "status": "Default",
          "x1": 170,
          "x2": 180.9
         },
         {
          "level": 20,
          "sf": "Array at boot.jl:477 [inlined]",
          "status": "Garbage collection",
          "x1": 170,
          "x2": 180.9
         },
         {
          "level": 9,
          "sf": "mul_fast at fastmath.jl:265 [inlined]",
          "status": "Default",
          "x1": 183,
          "x2": 190.9
         },
         {
          "level": 10,
          "sf": "*(A::Float64, B::Vector{ComplexF64}) at arraymath.jl:21",
          "status": "Default",
          "x1": 183,
          "x2": 189.9
         },
         {
          "level": 11,
          "sf": "broadcast_preserving_zero_d at broadcast.jl:862 [inlined]",
          "status": "Default",
          "x1": 183,
          "x2": 188.9
         },
         {
          "level": 12,
          "sf": "materialize at broadcast.jl:873 [inlined]",
          "status": "Default",
          "x1": 183,
          "x2": 188.9
         },
         {
          "level": 13,
          "sf": "copy at broadcast.jl:898 [inlined]",
          "status": "Default",
          "x1": 183,
          "x2": 188.9
         },
         {
          "level": 14,
          "sf": "similar at broadcast.jl:211 [inlined]",
          "status": "Default",
          "x1": 183,
          "x2": 188.9
         },
         {
          "level": 15,
          "sf": "similar at broadcast.jl:212 [inlined]",
          "status": "Default",
          "x1": 183,
          "x2": 188.9
         },
         {
          "level": 16,
          "sf": "similar at abstractarray.jl:881 [inlined]",
          "status": "Default",
          "x1": 183,
          "x2": 188.9
         },
         {
          "level": 17,
          "sf": "similar at abstractarray.jl:882 [inlined]",
          "status": "Default",
          "x1": 183,
          "x2": 188.9
         },
         {
          "level": 18,
          "sf": "Array at boot.jl:494 [inlined]",
          "status": "Default",
          "x1": 183,
          "x2": 188.9
         },
         {
          "level": 19,
          "sf": "Array at boot.jl:486 [inlined]",
          "status": "Default",
          "x1": 183,
          "x2": 188.9
         },
         {
          "level": 20,
          "sf": "Array at boot.jl:477 [inlined]",
          "status": "Garbage collection",
          "x1": 183,
          "x2": 188.9
         },
         {
          "level": 8,
          "sf": "macro expansion at miemfp.jl:233 [inlined]",
          "status": "Default",
          "x1": 191,
          "x2": 206.9
         },
         {
          "level": 9,
          "sf": "add_fast at fastmath.jl:265 [inlined]",
          "status": "Default",
          "x1": 191,
          "x2": 200.9
         },
         {
          "level": 10,
          "sf": "+(A::Vector{ComplexF64}, Bs::Vector{ComplexF64}) at arraymath.jl:16",
          "status": "Default",
          "x1": 191,
          "x2": 199.9
         },
         {
          "level": 11,
          "sf": "broadcast_preserving_zero_d at broadcast.jl:862 [inlined]",
          "status": "Default",
          "x1": 191,
          "x2": 199.9
         },
         {
          "level": 12,
          "sf": "materialize at broadcast.jl:873 [inlined]",
          "status": "Default",
          "x1": 191,
          "x2": 199.9
         },
         {
          "level": 13,
          "sf": "copy at broadcast.jl:898 [inlined]",
          "status": "Default",
          "x1": 191,
          "x2": 199.9
         },
         {
          "level": 14,
          "sf": "similar at broadcast.jl:211 [inlined]",
          "status": "Default",
          "x1": 191,
          "x2": 199.9
         },
         {
          "level": 15,
          "sf": "similar at broadcast.jl:212 [inlined]",
          "status": "Default",
          "x1": 191,
          "x2": 199.9
         },
         {
          "level": 16,
          "sf": "similar at abstractarray.jl:881 [inlined]",
          "status": "Default",
          "x1": 191,
          "x2": 199.9
         },
         {
          "level": 17,
          "sf": "similar at abstractarray.jl:882 [inlined]",
          "status": "Default",
          "x1": 191,
          "x2": 199.9
         },
         {
          "level": 18,
          "sf": "Array at boot.jl:494 [inlined]",
          "status": "Default",
          "x1": 191,
          "x2": 199.9
         },
         {
          "level": 19,
          "sf": "Array at boot.jl:486 [inlined]",
          "status": "Default",
          "x1": 191,
          "x2": 199.9
         },
         {
          "level": 20,
          "sf": "Array at boot.jl:477 [inlined]",
          "status": "Garbage collection",
          "x1": 191,
          "x2": 199.9
         },
         {
          "level": 9,
          "sf": "mul_fast at fastmath.jl:265 [inlined]",
          "status": "Default",
          "x1": 201,
          "x2": 206.9
         },
         {
          "level": 10,
          "sf": "*(A::Float64, B::Vector{ComplexF64}) at arraymath.jl:21",
          "status": "Default",
          "x1": 201,
          "x2": 206.9
         },
         {
          "level": 11,
          "sf": "broadcast_preserving_zero_d at broadcast.jl:862 [inlined]",
          "status": "Default",
          "x1": 201,
          "x2": 206.9
         },
         {
          "level": 12,
          "sf": "materialize at broadcast.jl:873 [inlined]",
          "status": "Default",
          "x1": 201,
          "x2": 206.9
         },
         {
          "level": 13,
          "sf": "copy at broadcast.jl:898 [inlined]",
          "status": "Default",
          "x1": 201,
          "x2": 206.9
         },
         {
          "level": 14,
          "sf": "copyto! at broadcast.jl:926 [inlined]",
          "status": "Default",
          "x1": 201,
          "x2": 201.9
         },
         {
          "level": 15,
          "sf": "copyto! at broadcast.jl:973 [inlined]",
          "status": "Default",
          "x1": 201,
          "x2": 201.9
         },
         {
          "level": 16,
          "sf": "macro expansion at simdloop.jl:75 [inlined]",
          "status": "Default",
          "x1": 201,
          "x2": 201.9
         },
         {
          "level": 17,
          "sf": "< at int.jl:83 [inlined]",
          "status": "Default",
          "x1": 201,
          "x2": 201.9
         },
         {
          "level": 14,
          "sf": "similar at broadcast.jl:211 [inlined]",
          "status": "Default",
          "x1": 202,
          "x2": 206.9
         },
         {
          "level": 15,
          "sf": "similar at broadcast.jl:212 [inlined]",
          "status": "Default",
          "x1": 202,
          "x2": 206.9
         },
         {
          "level": 16,
          "sf": "similar at abstractarray.jl:881 [inlined]",
          "status": "Default",
          "x1": 202,
          "x2": 206.9
         },
         {
          "level": 17,
          "sf": "similar at abstractarray.jl:882 [inlined]",
          "status": "Default",
          "x1": 202,
          "x2": 206.9
         },
         {
          "level": 18,
          "sf": "Array at boot.jl:494 [inlined]",
          "status": "Default",
          "x1": 202,
          "x2": 206.9
         },
         {
          "level": 19,
          "sf": "Array at boot.jl:486 [inlined]",
          "status": "Default",
          "x1": 202,
          "x2": 206.9
         },
         {
          "level": 20,
          "sf": "Array at boot.jl:477 [inlined]",
          "status": "Garbage collection",
          "x1": 202,
          "x2": 206.9
         },
         {
          "level": 8,
          "sf": "macro expansion at miemfp.jl:236 [inlined]",
          "status": "Default",
          "x1": 207,
          "x2": 220.9
         },
         {
          "level": 9,
          "sf": "mul_fast at fastmath.jl:265 [inlined]",
          "status": "Default",
          "x1": 207,
          "x2": 212.9
         },
         {
          "level": 10,
          "sf": "*(A::Float64, B::Vector{ComplexF64}) at arraymath.jl:21",
          "status": "Default",
          "x1": 207,
          "x2": 212.9
         },
         {
          "level": 11,
          "sf": "broadcast_preserving_zero_d at broadcast.jl:862 [inlined]",
          "status": "Default",
          "x1": 207,
          "x2": 212.9
         },
         {
          "level": 12,
          "sf": "materialize at broadcast.jl:873 [inlined]",
          "status": "Default",
          "x1": 207,
          "x2": 212.9
         },
         {
          "level": 13,
          "sf": "copy at broadcast.jl:898 [inlined]",
          "status": "Default",
          "x1": 207,
          "x2": 212.9
         },
         {
          "level": 14,
          "sf": "similar at broadcast.jl:211 [inlined]",
          "status": "Default",
          "x1": 207,
          "x2": 212.9
         },
         {
          "level": 15,
          "sf": "similar at broadcast.jl:212 [inlined]",
          "status": "Default",
          "x1": 207,
          "x2": 212.9
         },
         {
          "level": 16,
          "sf": "similar at abstractarray.jl:881 [inlined]",
          "status": "Default",
          "x1": 207,
          "x2": 212.9
         },
         {
          "level": 17,
          "sf": "similar at abstractarray.jl:882 [inlined]",
          "status": "Default",
          "x1": 207,
          "x2": 212.9
         },
         {
          "level": 18,
          "sf": "Array at boot.jl:494 [inlined]",
          "status": "Default",
          "x1": 207,
          "x2": 212.9
         },
         {
          "level": 19,
          "sf": "Array at boot.jl:486 [inlined]",
          "status": "Default",
          "x1": 207,
          "x2": 212.9
         },
         {
          "level": 20,
          "sf": "Array at boot.jl:477 [inlined]",
          "status": "Default",
          "x1": 207,
          "x2": 212.9
         },
         {
          "level": 9,
          "sf": "sub_fast at fastmath.jl:265 [inlined]",
          "status": "Default",
          "x1": 213,
          "x2": 220.9
         },
         {
          "level": 10,
          "sf": "-(A::Vector{ComplexF64}, B::Vector{ComplexF64}) at arraymath.jl:7",
          "status": "Default",
          "x1": 213,
          "x2": 213.9
         },
         {
          "level": 11,
          "sf": "promote_shape at indices.jl:169 [inlined]",
          "status": "Default",
          "x1": 213,
          "x2": 213.9
         },
         {
          "level": 12,
          "sf": "axes at abstractarray.jl:98 [inlined]",
          "status": "Default",
          "x1": 213,
          "x2": 213.9
         },
         {
          "level": 13,
          "sf": "size at array.jl:149 [inlined]",
          "status": "Default",
          "x1": 213,
          "x2": 213.9
         },
         {
          "level": 10,
          "sf": "-(A::Vector{ComplexF64}, B::Vector{ComplexF64}) at arraymath.jl:8",
          "status": "Default",
          "x1": 214,
          "x2": 219.9
         },
         {
          "level": 11,
          "sf": "broadcast_preserving_zero_d at broadcast.jl:862 [inlined]",
          "status": "Default",
          "x1": 214,
          "x2": 219.9
         },
         {
          "level": 12,
          "sf": "materialize at broadcast.jl:873 [inlined]",
          "status": "Default",
          "x1": 214,
          "x2": 219.9
         },
         {
          "level": 13,
          "sf": "copy at broadcast.jl:898 [inlined]",
          "status": "Default",
          "x1": 214,
          "x2": 219.9
         },
         {
          "level": 14,
          "sf": "similar at broadcast.jl:211 [inlined]",
          "status": "Default",
          "x1": 214,
          "x2": 219.9
         },
         {
          "level": 15,
          "sf": "similar at broadcast.jl:212 [inlined]",
          "status": "Default",
          "x1": 214,
          "x2": 219.9
         },
         {
          "level": 16,
          "sf": "similar at abstractarray.jl:881 [inlined]",
          "status": "Default",
          "x1": 214,
          "x2": 219.9
         },
         {
          "level": 17,
          "sf": "similar at abstractarray.jl:882 [inlined]",
          "status": "Default",
          "x1": 214,
          "x2": 219.9
         },
         {
          "level": 18,
          "sf": "Array at boot.jl:494 [inlined]",
          "status": "Default",
          "x1": 214,
          "x2": 219.9
         },
         {
          "level": 19,
          "sf": "Array at boot.jl:486 [inlined]",
          "status": "Default",
          "x1": 214,
          "x2": 219.9
         },
         {
          "level": 20,
          "sf": "Array at boot.jl:477 [inlined]",
          "status": "Garbage collection",
          "x1": 214,
          "x2": 219.9
         },
         {
          "level": 10,
          "sf": "-(A::Vector{ComplexF64}, B::Vector{ComplexF64}) at broadcast.jl:0",
          "status": "Default",
          "x1": 220,
          "x2": 220.9
         },
         {
          "level": 8,
          "sf": "macro expansion at miemfp.jl:239 [inlined]",
          "status": "Default",
          "x1": 221,
          "x2": 227.9
         },
         {
          "level": 9,
          "sf": "mul_fast at fastmath.jl:265 [inlined]",
          "status": "Default",
          "x1": 221,
          "x2": 225.9
         },
         {
          "level": 10,
          "sf": "*(A::Float64, B::Vector{ComplexF64}) at arraymath.jl:21",
          "status": "Default",
          "x1": 221,
          "x2": 225.9
         },
         {
          "level": 11,
          "sf": "broadcast_preserving_zero_d at broadcast.jl:862 [inlined]",
          "status": "Default",
          "x1": 221,
          "x2": 224.9
         },
         {
          "level": 12,
          "sf": "materialize at broadcast.jl:873 [inlined]",
          "status": "Default",
          "x1": 221,
          "x2": 224.9
         },
         {
          "level": 13,
          "sf": "copy at broadcast.jl:898 [inlined]",
          "status": "Default",
          "x1": 221,
          "x2": 224.9
         },
         {
          "level": 14,
          "sf": "similar at broadcast.jl:211 [inlined]",
          "status": "Default",
          "x1": 221,
          "x2": 224.9
         },
         {
          "level": 15,
          "sf": "similar at broadcast.jl:212 [inlined]",
          "status": "Default",
          "x1": 221,
          "x2": 224.9
         },
         {
          "level": 16,
          "sf": "similar at abstractarray.jl:881 [inlined]",
          "status": "Default",
          "x1": 221,
          "x2": 224.9
         },
         {
          "level": 17,
          "sf": "similar at abstractarray.jl:882 [inlined]",
          "status": "Default",
          "x1": 221,
          "x2": 224.9
         },
         {
          "level": 18,
          "sf": "Array at boot.jl:494 [inlined]",
          "status": "Default",
          "x1": 221,
          "x2": 224.9
         },
         {
          "level": 19,
          "sf": "Array at boot.jl:486 [inlined]",
          "status": "Default",
          "x1": 221,
          "x2": 224.9
         },
         {
          "level": 20,
          "sf": "Array at boot.jl:477 [inlined]",
          "status": "Default",
          "x1": 221,
          "x2": 224.9
         },
         {
          "level": 9,
          "sf": "sub_fast at fastmath.jl:265 [inlined]",
          "status": "Default",
          "x1": 226,
          "x2": 227.9
         },
         {
          "level": 10,
          "sf": "-(A::Vector{ComplexF64}, B::Vector{ComplexF64}) at arraymath.jl:8",
          "status": "Default",
          "x1": 226,
          "x2": 227.9
         },
         {
          "level": 11,
          "sf": "broadcast_preserving_zero_d at broadcast.jl:862 [inlined]",
          "status": "Default",
          "x1": 226,
          "x2": 227.9
         },
         {
          "level": 12,
          "sf": "materialize at broadcast.jl:873 [inlined]",
          "status": "Default",
          "x1": 226,
          "x2": 227.9
         },
         {
          "level": 13,
          "sf": "copy at broadcast.jl:898 [inlined]",
          "status": "Default",
          "x1": 226,
          "x2": 227.9
         },
         {
          "level": 14,
          "sf": "similar at broadcast.jl:211 [inlined]",
          "status": "Default",
          "x1": 226,
          "x2": 227.9
         },
         {
          "level": 15,
          "sf": "similar at broadcast.jl:212 [inlined]",
          "status": "Default",
          "x1": 226,
          "x2": 227.9
         },
         {
          "level": 16,
          "sf": "similar at abstractarray.jl:881 [inlined]",
          "status": "Default",
          "x1": 226,
          "x2": 227.9
         },
         {
          "level": 17,
          "sf": "similar at abstractarray.jl:882 [inlined]",
          "status": "Default",
          "x1": 226,
          "x2": 227.9
         },
         {
          "level": 18,
          "sf": "Array at boot.jl:494 [inlined]",
          "status": "Default",
          "x1": 226,
          "x2": 227.9
         },
         {
          "level": 19,
          "sf": "Array at boot.jl:486 [inlined]",
          "status": "Default",
          "x1": 226,
          "x2": 227.9
         },
         {
          "level": 20,
          "sf": "Array at boot.jl:477 [inlined]",
          "status": "Default",
          "x1": 226,
          "x2": 227.9
         },
         {
          "level": 8,
          "sf": "macro expansion at miemfp.jl:242 [inlined]",
          "status": "Default",
          "x1": 228,
          "x2": 265.9
         },
         {
          "level": 9,
          "sf": "materialize at broadcast.jl:873 [inlined]",
          "status": "Default",
          "x1": 228,
          "x2": 236.9
         },
         {
          "level": 10,
          "sf": "copy at broadcast.jl:898 [inlined]",
          "status": "Default",
          "x1": 228,
          "x2": 235.9
         },
         {
          "level": 11,
          "sf": "similar at broadcast.jl:211 [inlined]",
          "status": "Default",
          "x1": 228,
          "x2": 235.9
         },
         {
          "level": 12,
          "sf": "similar at broadcast.jl:212 [inlined]",
          "status": "Default",
          "x1": 228,
          "x2": 235.9
         },
         {
          "level": 13,
          "sf": "similar at abstractarray.jl:881 [inlined]",
          "status": "Default",
          "x1": 228,
          "x2": 235.9
         },
         {
          "level": 14,
          "sf": "similar at abstractarray.jl:882 [inlined]",
          "status": "Default",
          "x1": 228,
          "x2": 235.9
         },
         {
          "level": 15,
          "sf": "Array at boot.jl:494 [inlined]",
          "status": "Default",
          "x1": 228,
          "x2": 235.9
         },
         {
          "level": 16,
          "sf": "Array at boot.jl:486 [inlined]",
          "status": "Default",
          "x1": 228,
          "x2": 235.9
         },
         {
          "level": 17,
          "sf": "Array at boot.jl:477 [inlined]",
          "status": "Default",
          "x1": 228,
          "x2": 235.9
         },
         {
          "level": 10,
          "sf": "instantiate at broadcast.jl:294 [inlined]",
          "status": "Default",
          "x1": 236,
          "x2": 236.9
         },
         {
          "level": 11,
          "sf": "combine_axes at broadcast.jl:512 [inlined]",
          "status": "Default",
          "x1": 236,
          "x2": 236.9
         },
         {
          "level": 12,
          "sf": "axes at abstractarray.jl:98 [inlined]",
          "status": "Default",
          "x1": 236,
          "x2": 236.9
         },
         {
          "level": 13,
          "sf": "size at array.jl:149 [inlined]",
          "status": "Default",
          "x1": 236,
          "x2": 236.9
         },
         {
          "level": 9,
          "sf": "div_fast at fastmath.jl:265 [inlined]",
          "status": "Default",
          "x1": 237,
          "x2": 243.9
         },
         {
          "level": 10,
          "sf": "/(A::Vector{Float64}, B::Int64) at arraymath.jl:24",
          "status": "Default",
          "x1": 237,
          "x2": 243.9
         },
         {
          "level": 11,
          "sf": "broadcast_preserving_zero_d at broadcast.jl:862 [inlined]",
          "status": "Default",
          "x1": 237,
          "x2": 243.9
         },
         {
          "level": 12,
          "sf": "materialize at broadcast.jl:873 [inlined]",
          "status": "Default",
          "x1": 237,
          "x2": 243.9
         },
         {
          "level": 13,
          "sf": "copy at broadcast.jl:898 [inlined]",
          "status": "Default",
          "x1": 237,
          "x2": 243.9
         },
         {
          "level": 14,
          "sf": "copyto! at broadcast.jl:926 [inlined]",
          "status": "Default",
          "x1": 237,
          "x2": 237.9
         },
         {
          "level": 15,
          "sf": "copyto! at broadcast.jl:973 [inlined]",
          "status": "Default",
          "x1": 237,
          "x2": 237.9
         },
         {
          "level": 16,
          "sf": "macro expansion at simdloop.jl:77 [inlined]",
          "status": "Default",
          "x1": 237,
          "x2": 237.9
         },
         {
          "level": 17,
          "sf": "macro expansion at broadcast.jl:974 [inlined]",
          "status": "Default",
          "x1": 237,
          "x2": 237.9
         },
         {
          "level": 18,
          "sf": "setindex! at array.jl:969 [inlined]",
          "status": "Default",
          "x1": 237,
          "x2": 237.9
         },
         {
          "level": 14,
          "sf": "similar at broadcast.jl:211 [inlined]",
          "status": "Default",
          "x1": 238,
          "x2": 243.9
         },
         {
          "level": 15,
          "sf": "similar at broadcast.jl:212 [inlined]",
          "status": "Default",
          "x1": 238,
          "x2": 243.9
         },
         {
          "level": 16,
          "sf": "similar at abstractarray.jl:881 [inlined]",
          "status": "Default",
          "x1": 238,
          "x2": 243.9
         },
         {
          "level": 17,
          "sf": "similar at abstractarray.jl:882 [inlined]",
          "status": "Default",
          "x1": 238,
          "x2": 243.9
         },
         {
          "level": 18,
          "sf": "Array at boot.jl:494 [inlined]",
          "status": "Default",
          "x1": 238,
          "x2": 243.9
         },
         {
          "level": 19,
          "sf": "Array at boot.jl:486 [inlined]",
          "status": "Default",
          "x1": 238,
          "x2": 243.9
         },
         {
          "level": 20,
          "sf": "Array at boot.jl:477 [inlined]",
          "status": "Default",
          "x1": 238,
          "x2": 243.9
         },
         {
          "level": 9,
          "sf": "mul_fast at fastmath.jl:265 [inlined]",
          "status": "Default",
          "x1": 244,
          "x2": 250.9
         },
         {
          "level": 10,
          "sf": "*(A::Int64, B::Vector{Float64}) at arraymath.jl:21",
          "status": "Default",
          "x1": 244,
          "x2": 249.9
         },
         {
          "level": 11,
          "sf": "broadcast_preserving_zero_d at broadcast.jl:862 [inlined]",
          "status": "Default",
          "x1": 244,
          "x2": 249.9
         },
         {
          "level": 12,
          "sf": "materialize at broadcast.jl:873 [inlined]",
          "status": "Default",
          "x1": 244,
          "x2": 249.9
         },
         {
          "level": 13,
          "sf": "copy at broadcast.jl:898 [inlined]",
          "status": "Default",
          "x1": 244,
          "x2": 249.9
         },
         {
          "level": 14,
          "sf": "similar at broadcast.jl:211 [inlined]",
          "status": "Default",
          "x1": 244,
          "x2": 249.9
         },
         {
          "level": 15,
          "sf": "similar at broadcast.jl:212 [inlined]",
          "status": "Default",
          "x1": 244,
          "x2": 249.9
         },
         {
          "level": 16,
          "sf": "similar at abstractarray.jl:881 [inlined]",
          "status": "Default",
          "x1": 244,
          "x2": 249.9
         },
         {
          "level": 17,
          "sf": "similar at abstractarray.jl:882 [inlined]",
          "status": "Default",
          "x1": 244,
          "x2": 249.9
         },
         {
          "level": 18,
          "sf": "Array at boot.jl:494 [inlined]",
          "status": "Default",
          "x1": 244,
          "x2": 249.9
         },
         {
          "level": 19,
          "sf": "Array at boot.jl:486 [inlined]",
          "status": "Default",
          "x1": 244,
          "x2": 249.9
         },
         {
          "level": 20,
          "sf": "Array at boot.jl:477 [inlined]",
          "status": "Garbage collection",
          "x1": 244,
          "x2": 249.9
         },
         {
          "level": 9,
          "sf": "sub_fast at fastmath.jl:265 [inlined]",
          "status": "Default",
          "x1": 251,
          "x2": 265.9
         },
         {
          "level": 10,
          "sf": "-(A::Vector{Float64}, B::Vector{Float64}) at arraymath.jl:8",
          "status": "Default",
          "x1": 251,
          "x2": 265.9
         },
         {
          "level": 11,
          "sf": "broadcast_preserving_zero_d at broadcast.jl:862 [inlined]",
          "status": "Default",
          "x1": 251,
          "x2": 264.9
         },
         {
          "level": 12,
          "sf": "materialize at broadcast.jl:873 [inlined]",
          "status": "Default",
          "x1": 251,
          "x2": 264.9
         },
         {
          "level": 13,
          "sf": "copy at broadcast.jl:898 [inlined]",
          "status": "Default",
          "x1": 251,
          "x2": 264.9
         },
         {
          "level": 14,
          "sf": "copyto! at broadcast.jl:926 [inlined]",
          "status": "Default",
          "x1": 251,
          "x2": 252.9
         },
         {
          "level": 15,
          "sf": "copyto! at broadcast.jl:962 [inlined]",
          "status": "Default",
          "x1": 251,
          "x2": 251.9
         },
         {
          "level": 16,
          "sf": "== at tuple.jl:458 [inlined]",
          "status": "Default",
          "x1": 251,
          "x2": 251.9
         },
         {
          "level": 17,
          "sf": "_eq at tuple.jl:462 [inlined]",
          "status": "Default",
          "x1": 251,
          "x2": 251.9
         },
         {
          "level": 18,
          "sf": "== at range.jl:1119 [inlined]",
          "status": "Default",
          "x1": 251,
          "x2": 251.9
         },
         {
          "level": 19,
          "sf": "== at promotion.jl:499 [inlined]",
          "status": "Default",
          "x1": 251,
          "x2": 251.9
         },
         {
          "level": 15,
          "sf": "copyto! at broadcast.jl:970 [inlined]",
          "status": "Default",
          "x1": 252,
          "x2": 252.9
         },
         {
          "level": 16,
          "sf": "preprocess at broadcast.jl:953 [inlined]",
          "status": "Default",
          "x1": 252,
          "x2": 252.9
         },
         {
          "level": 17,
          "sf": "preprocess_args at broadcast.jl:956 [inlined]",
          "status": "Default",
          "x1": 252,
          "x2": 252.9
         },
         {
          "level": 18,
          "sf": "preprocess at broadcast.jl:954 [inlined]",
          "status": "Default",
          "x1": 252,
          "x2": 252.9
         },
         {
          "level": 19,
          "sf": "broadcast_unalias at broadcast.jl:947 [inlined]",
          "status": "Default",
          "x1": 252,
          "x2": 252.9
         },
         {
          "level": 14,
          "sf": "similar at broadcast.jl:211 [inlined]",
          "status": "Default",
          "x1": 253,
          "x2": 264.9
         },
         {
          "level": 15,
          "sf": "similar at broadcast.jl:212 [inlined]",
          "status": "Default",
          "x1": 253,
          "x2": 264.9
         },
         {
          "level": 16,
          "sf": "similar at abstractarray.jl:881 [inlined]",
          "status": "Default",
          "x1": 253,
          "x2": 264.9
         },
         {
          "level": 17,
          "sf": "similar at abstractarray.jl:882 [inlined]",
          "status": "Default",
          "x1": 253,
          "x2": 264.9
         },
         {
          "level": 18,
          "sf": "Array at boot.jl:494 [inlined]",
          "status": "Default",
          "x1": 253,
          "x2": 264.9
         },
         {
          "level": 19,
          "sf": "Array at boot.jl:486 [inlined]",
          "status": "Default",
          "x1": 253,
          "x2": 264.9
         },
         {
          "level": 20,
          "sf": "Array at boot.jl:477 [inlined]",
          "status": "Garbage collection",
          "x1": 253,
          "x2": 264.9
         },
         {
          "level": 6,
          "sf": "bhmie(x::Float64, refrel::ComplexF64, nang::UInt32) at miemfp.jl:249",
          "status": "Default",
          "x1": 266,
          "x2": 269.9
         },
         {
          "level": 7,
          "sf": "getindex at array.jl:944 [inlined]",
          "status": "Default",
          "x1": 266,
          "x2": 266.9
         },
         {
          "level": 8,
          "sf": "_array_for at array.jl:674 [inlined]",
          "status": "Default",
          "x1": 266,
          "x2": 266.9
         },
         {
          "level": 9,
          "sf": "_array_for at array.jl:671 [inlined]",
          "status": "Default",
          "x1": 266,
          "x2": 266.9
         },
         {
          "level": 10,
          "sf": "similar at abstractarray.jl:881 [inlined]",
          "status": "Default",
          "x1": 266,
          "x2": 266.9
         },
         {
          "level": 11,
          "sf": "similar at abstractarray.jl:882 [inlined]",
          "status": "Default",
          "x1": 266,
          "x2": 266.9
         },
         {
          "level": 12,
          "sf": "Array at boot.jl:486 [inlined]",
          "status": "Default",
          "x1": 266,
          "x2": 266.9
         },
         {
          "level": 13,
          "sf": "Array at boot.jl:477 [inlined]",
          "status": "Default",
          "x1": 266,
          "x2": 266.9
         },
         {
          "level": 7,
          "sf": "vcat(::Vector{ComplexF64}, ::Vector{ComplexF64}) at array.jl:1940",
          "status": "Default",
          "x1": 267,
          "x2": 268.9
         },
         {
          "level": 8,
          "sf": "Array at boot.jl:477 [inlined]",
          "status": "Default",
          "x1": 267,
          "x2": 268.9
         },
         {
          "level": 7,
          "sf": "vcat(::Vector{ComplexF64}, ::Vector{ComplexF64}) at array.jl:1947",
          "status": "Default",
          "x1": 269,
          "x2": 269.9
         },
         {
          "level": 8,
          "sf": "iterate at tuple.jl:68 [inlined]",
          "status": "Default",
          "x1": 269,
          "x2": 269.9
         },
         {
          "level": 9,
          "sf": "getindex at tuple.jl:29 [inlined]",
          "status": "Default",
          "x1": 269,
          "x2": 269.9
         },
         {
          "level": 6,
          "sf": "bhmie(x::Float64, refrel::ComplexF64, nang::UInt32) at miemfp.jl:250",
          "status": "Default",
          "x1": 270,
          "x2": 273.9
         },
         {
          "level": 7,
          "sf": "getindex at array.jl:944 [inlined]",
          "status": "Default",
          "x1": 270,
          "x2": 270.9
         },
         {
          "level": 8,
          "sf": "_array_for at array.jl:674 [inlined]",
          "status": "Default",
          "x1": 270,
          "x2": 270.9
         },
         {
          "level": 9,
          "sf": "_array_for at array.jl:671 [inlined]",
          "status": "Default",
          "x1": 270,
          "x2": 270.9
         },
         {
          "level": 10,
          "sf": "similar at abstractarray.jl:881 [inlined]",
          "status": "Default",
          "x1": 270,
          "x2": 270.9
         },
         {
          "level": 11,
          "sf": "similar at abstractarray.jl:882 [inlined]",
          "status": "Default",
          "x1": 270,
          "x2": 270.9
         },
         {
          "level": 12,
          "sf": "Array at boot.jl:486 [inlined]",
          "status": "Default",
          "x1": 270,
          "x2": 270.9
         },
         {
          "level": 13,
          "sf": "Array at boot.jl:477 [inlined]",
          "status": "Default",
          "x1": 270,
          "x2": 270.9
         },
         {
          "level": 7,
          "sf": "vcat(::Vector{ComplexF64}, ::Vector{ComplexF64}) at array.jl:1940",
          "status": "Default",
          "x1": 271,
          "x2": 273.9
         },
         {
          "level": 8,
          "sf": "Array at boot.jl:477 [inlined]",
          "status": "Default",
          "x1": 271,
          "x2": 273.9
         },
         {
          "level": 5,
          "sf": "_mfp at miemfp.jl:312 [inlined]",
          "status": "Default",
          "x1": 275,
          "x2": 295.9
         },
         {
          "level": 6,
          "sf": "mfp(fv::Float64, wavel::Float64, radcor::Float64, omp::Float64, om0::Float64, rn::Float64, rk::Float64) at miemfp.jl:74",
          "status": "Default",
          "x1": 275,
          "x2": 295.9
         },
         {
          "level": 7,
          "sf": "_om_manipulations(wavel::Float64, fv::Float64, radcor::Float64, omp::Float64, om0::Float64) at miemfp.jl:56",
          "status": "Default",
          "x1": 275,
          "x2": 283.9
         },
         {
          "level": 8,
          "sf": "_om_calc at Memoize.jl:61 [inlined]",
          "status": "Default",
          "x1": 275,
          "x2": 283.9
         },
         {
          "level": 9,
          "sf": "get! at iddict.jl:176 [inlined]",
          "status": "Default",
          "x1": 275,
          "x2": 283.9
         },
         {
          "level": 7,
          "sf": "_om_manipulations(wavel::Float64, fv::Float64, radcor::Float64, omp::Float64, om0::Float64) at miemfp.jl:58",
          "status": "Default",
          "x1": 284,
          "x2": 290.9
         },
         {
          "level": 8,
          "sf": "_om_sq_calc at Memoize.jl:61 [inlined]",
          "status": "Default",
          "x1": 284,
          "x2": 290.9
         },
         {
          "level": 9,
          "sf": "get! at iddict.jl:176 [inlined]",
          "status": "Garbage collection",
          "x1": 284,
          "x2": 290.9
         },
         {
          "level": 7,
          "sf": "_om_manipulations(wavel::Float64, fv::Float64, radcor::Float64, omp::Float64, om0::Float64) at miemfp.jl:59",
          "status": "Default",
          "x1": 291,
          "x2": 291.9
         },
         {
          "level": 8,
          "sf": "_om0_sq_calc at Memoize.jl:61 [inlined]",
          "status": "Default",
          "x1": 291,
          "x2": 291.9
         },
         {
          "level": 9,
          "sf": "get! at iddict.jl:176 [inlined]",
          "status": "Default",
          "x1": 291,
          "x2": 291.9
         },
         {
          "level": 7,
          "sf": "_om_manipulations(wavel::Float64, fv::Float64, radcor::Float64, omp::Float64, om0::Float64) at miemfp.jl:60",
          "status": "Default",
          "x1": 292,
          "x2": 294.9
         },
         {
          "level": 8,
          "sf": "_omp_sq_calc at Memoize.jl:61 [inlined]",
          "status": "Default",
          "x1": 292,
          "x2": 294.9
         },
         {
          "level": 9,
          "sf": "get! at iddict.jl:176 [inlined]",
          "status": "Default",
          "x1": 292,
          "x2": 294.9
         },
         {
          "level": 7,
          "sf": "_om_manipulations(wavel::Float64, fv::Float64, radcor::Float64, omp::Float64, om0::Float64) at miemfp.jl:61",
          "status": "Default",
          "x1": 295,
          "x2": 295.9
         },
         {
          "level": 8,
          "sf": "_om0r_sq_calc at Memoize.jl:61 [inlined]",
          "status": "Default",
          "x1": 295,
          "x2": 295.9
         },
         {
          "level": 9,
          "sf": "get! at iddict.jl:176 [inlined]",
          "status": "Default",
          "x1": 295,
          "x2": 295.9
         },
         {
          "level": 1,
          "sf": "_start() at client.jl:522",
          "status": "Default",
          "x1": 299,
          "x2": 304.9
         },
         {
          "level": 2,
          "sf": "exec_options(opts::Base.JLOptions) at client.jl:307",
          "status": "Runtime dispatch",
          "x1": 299,
          "x2": 304.9
         },
         {
          "level": 3,
          "sf": "include(mod::Module, _path::String) at Base.jl:457",
          "status": "Default",
          "x1": 299,
          "x2": 304.9
         },
         {
          "level": 4,
          "sf": "_include(mapexpr::Function, mod::Module, _path::String) at loading.jl:1959",
          "status": "Runtime dispatch",
          "x1": 299,
          "x2": 304.9
         },
         {
          "level": 5,
          "sf": "include_string(mapexpr::typeof(identity), mod::Module, code::String, filename::String) at loading.jl:1899",
          "status": "Default",
          "x1": 299,
          "x2": 304.9
         },
         {
          "level": 6,
          "sf": "eval at boot.jl:370 [inlined]",
          "status": "Default",
          "x1": 299,
          "x2": 304.9
         },
         {
          "level": 7,
          "sf": "top-level scope at notebook.jl:32",
          "status": "Runtime dispatch",
          "x1": 299,
          "x2": 304.9
         },
         {
          "level": 8,
          "sf": "kwcall(::NamedTuple{(:crashreporting_pipename,), Tuple{String}}, ::typeof(VSCodeServer.serve_notebook), pipename::String, outputchannel_logger::Base.CoreLogging.SimpleLogger) at serve_notebook.jl:75",
          "status": "Default",
          "x1": 299,
          "x2": 304.9
         },
         {
          "level": 9,
          "sf": "serve_notebook(pipename::String, outputchannel_logger::Base.CoreLogging.SimpleLogger; crashreporting_pipename::String) at serve_notebook.jl:139",
          "status": "Runtime dispatch",
          "x1": 299,
          "x2": 304.9
         },
         {
          "level": 10,
          "sf": "dispatch_msg(x::VSCodeServer.JSONRPC.JSONRPCEndpoint{Base.PipeEndpoint, Base.PipeEndpoint}, dispatcher::VSCodeServer.JSONRPC.MsgDispatcher, msg::Dict{String, Any}) at typed.jl:67",
          "status": "Runtime dispatch",
          "x1": 299,
          "x2": 304.9
         },
         {
          "level": 11,
          "sf": "notebook_runcell_request(conn::VSCodeServer.JSONRPC.JSONRPCEndpoint{Base.PipeEndpoint, Base.PipeEndpoint}, params::VSCodeServer.NotebookRunCellArguments) at serve_notebook.jl:13",
          "status": "Default",
          "x1": 299,
          "x2": 304.9
         },
         {
          "level": 12,
          "sf": "withpath(f::VSCodeServer.var\"#198#199\"{VSCodeServer.NotebookRunCellArguments, String}, path::String) at repl.jl:249",
          "status": "Default",
          "x1": 299,
          "x2": 304.9
         },
         {
          "level": 13,
          "sf": "(::VSCodeServer.var\"#198#199\"{VSCodeServer.NotebookRunCellArguments, String})() at serve_notebook.jl:19",
          "status": "Default",
          "x1": 299,
          "x2": 304.9
         },
         {
          "level": 14,
          "sf": "invokelatest at essentials.jl:813 [inlined]",
          "status": "Default",
          "x1": 299,
          "x2": 304.9
         },
         {
          "level": 15,
          "sf": "#invokelatest#2 at essentials.jl:816 [inlined]",
          "status": "Runtime dispatch",
          "x1": 299,
          "x2": 304.9
         },
         {
          "level": 16,
          "sf": "include_string(mapexpr::typeof(REPL.softscope), mod::Module, code::String, filename::String) at loading.jl:1899",
          "status": "Default",
          "x1": 299,
          "x2": 304.9
         },
         {
          "level": 17,
          "sf": "eval at boot.jl:370 [inlined]",
          "status": "Runtime dispatch",
          "x1": 299,
          "x2": 304.9
         },
         {
          "level": 18,
          "sf": "abspredict(refmed::Float64, wavel1::Float64, wavel2::Float64, numval::UInt32, particledata::Matrix{Float64}, materialdata::Tuple{Float64, Float64, Float64, Matrix{Float64}}, ppml::Float64, d0::Float64) at nanoconc.jl:275",
          "status": "Default",
          "x1": 299,
          "x2": 299.9
         },
         {
          "level": 19,
          "sf": "materialize at broadcast.jl:873 [inlined]",
          "status": "Default",
          "x1": 299,
          "x2": 299.9
         },
         {
          "level": 20,
          "sf": "copy at broadcast.jl:898 [inlined]",
          "status": "Default",
          "x1": 299,
          "x2": 299.9
         },
         {
          "level": 21,
          "sf": "copyto! at broadcast.jl:926 [inlined]",
          "status": "Default",
          "x1": 299,
          "x2": 299.9
         },
         {
          "level": 22,
          "sf": "copyto! at broadcast.jl:973 [inlined]",
          "status": "Default",
          "x1": 299,
          "x2": 299.9
         },
         {
          "level": 23,
          "sf": "macro expansion at simdloop.jl:77 [inlined]",
          "status": "Default",
          "x1": 299,
          "x2": 299.9
         },
         {
          "level": 24,
          "sf": "macro expansion at broadcast.jl:974 [inlined]",
          "status": "Default",
          "x1": 299,
          "x2": 299.9
         },
         {
          "level": 25,
          "sf": "getindex at broadcast.jl:610 [inlined]",
          "status": "Default",
          "x1": 299,
          "x2": 299.9
         },
         {
          "level": 26,
          "sf": "_broadcast_getindex at broadcast.jl:656 [inlined]",
          "status": "Default",
          "x1": 299,
          "x2": 299.9
         },
         {
          "level": 27,
          "sf": "_broadcast_getindex_evalf at broadcast.jl:683 [inlined]",
          "status": "Default",
          "x1": 299,
          "x2": 299.9
         },
         {
          "level": 28,
          "sf": "(::Main.nanoconc.var\"#predict#22\"{Matrix{Float64}, Float64, Float64})(qext::Float64) at nanoconc.jl:269",
          "status": "Default",
          "x1": 299,
          "x2": 299.9
         },
         {
          "level": 29,
          "sf": "sum at reducedim.jl:994 [inlined]",
          "status": "Default",
          "x1": 299,
          "x2": 299.9
         },
         {
          "level": 30,
          "sf": "#sum#807 at reducedim.jl:994 [inlined]",
          "status": "Default",
          "x1": 299,
          "x2": 299.9
         },
         {
          "level": 31,
          "sf": "_sum at reducedim.jl:998 [inlined]",
          "status": "Default",
          "x1": 299,
          "x2": 299.9
         },
         {
          "level": 32,
          "sf": "#_sum#809 at reducedim.jl:998 [inlined]",
          "status": "Default",
          "x1": 299,
          "x2": 299.9
         },
         {
          "level": 33,
          "sf": "_sum at reducedim.jl:999 [inlined]",
          "status": "Default",
          "x1": 299,
          "x2": 299.9
         },
         {
          "level": 34,
          "sf": "#_sum#810 at reducedim.jl:999 [inlined]",
          "status": "Default",
          "x1": 299,
          "x2": 299.9
         },
         {
          "level": 35,
          "sf": "mapreduce at reducedim.jl:357 [inlined]",
          "status": "Default",
          "x1": 299,
          "x2": 299.9
         },
         {
          "level": 36,
          "sf": "#mapreduce#800 at reducedim.jl:357 [inlined]",
          "status": "Default",
          "x1": 299,
          "x2": 299.9
         },
         {
          "level": 37,
          "sf": "_mapreduce_dim at reducedim.jl:365 [inlined]",
          "status": "Default",
          "x1": 299,
          "x2": 299.9
         },
         {
          "level": 38,
          "sf": "_mapreduce at reduce.jl:437 [inlined]",
          "status": "Default",
          "x1": 299,
          "x2": 299.9
         },
         {
          "level": 39,
          "sf": "+ at int.jl:87 [inlined]",
          "status": "Default",
          "x1": 299,
          "x2": 299.9
         }
        ]
       },
       "encoding": {
        "color": {
         "field": "status",
         "legend": {
          "orient": "bottom",
          "title": null
         },
         "type": "nominal"
        },
        "fillOpacity": {
         "condition": [
          {
           "selection": "highlight",
           "value": 0.6
          },
          {
           "selection": "select",
           "value": 0.5
          }
         ],
         "value": 1
        },
        "strokeWidth": {
         "condition": [
          {
           "selection": "highlight",
           "value": 0.5
          },
          {
           "selection": "select",
           "value": 0.5
          }
         ],
         "value": 0
        },
        "tooltip": {
         "field": "sf",
         "type": "nominal"
        },
        "x": {
         "axis": null,
         "field": "x1",
         "type": "quantitative"
        },
        "x2": {
         "field": "x2",
         "type": "quantitative"
        },
        "y": {
         "axis": null,
         "field": "level",
         "type": "quantitative"
        },
        "y2": {
         "field": "level2",
         "type": "quantitative"
        }
       },
       "height": 400,
       "mark": {
        "stroke": "#505050",
        "type": "rect"
       },
       "selection": {
        "grid": {
         "bind": "scales",
         "type": "interval"
        },
        "highlight": {
         "empty": "none",
         "on": "mouseover",
         "type": "single"
        },
        "select": {
         "empty": "none",
         "type": "multi"
        }
       },
       "title": "Profile Results",
       "transform": [
        {
         "as": "level2",
         "calculate": "datum.level+0.9"
        }
       ],
       "width": 800
      },
      "image/png": "[encoded data removed]",
      "image/svg+xml": [
       "<?xml version=\"1.0\" encoding=\"utf-8\"?>\n",
       "<!DOCTYPE svg PUBLIC \"-//W3C//DTD SVG 1.1//EN\" \"http://www.w3.org/Graphics/SVG/1.1/DTD/svg11.dtd\">\n",
       "<svg xmlns=\"http://www.w3.org/2000/svg\" xmlns:xlink=\"http://www.w3.org/1999/xlink\" version=\"1.1\" class=\"marks\" width=\"810\" height=\"458\" viewBox=\"0 0 810 458\"><rect width=\"810\" height=\"458\" fill=\"white\"/><g fill=\"none\" stroke-miterlimit=\"10\" transform=\"translate(5,22)\"><g class=\"mark-group role-frame root\" role=\"graphics-object\" aria-roledescription=\"group mark container\"><g transform=\"translate(0,0)\"><path class=\"background\" aria-hidden=\"true\" d=\"M0.5,0.5h800v400h-800Z\" stroke=\"#ddd\"/><g><g class=\"mark-rect role-mark marks\" clip-path=\"url(#clip1)\" role=\"graphics-object\" aria-roledescription=\"rect mark container\"><path aria-label=\"x1: 1; x2: 304.9; level: 0; level2: 0.9; status: Runtime dispatch; sf: ip:0x0\" role=\"graphics-symbol\" aria-roledescription=\"rect mark\" d=\"M2.2857142857142856,391h694.6285714285714v9h-694.6285714285714Z\" fill=\"#e45756\" fill-opacity=\"1\" stroke=\"#505050\" stroke-width=\"0\"/><path aria-label=\"x1: 1; x2: 295.9; level: 1; level2: 1.9; status: Default; sf: (::Base.Threads.var&quot;#1#2&quot;{Main.nanoconc.miemfp.var&quot;#77#threadsfor_fun#20&quot;{Main.nanoconc.miemfp.var&quot;#77#threadsfor_fun#19#21&quot;{Float64, Float64, Matrix{Float64}, Interpolations.Extrapolation{Float64, 1, Interpolations.GriddedInterpolation{Float64, 1, Vector{Float64}, Interpolations.Gridded{Interpolations.Linear{Interpolations.Throw{Interpolations.OnGrid}}}, Tuple{Vector{Float64}}}, Interpolations.Gridded{Interpolations.Linear{Interpolations.Throw{Interpolations.OnGrid}}}, Interpolations.Throw{Nothing}}, Interpolations.Extrapolation{Float64, 1, Interpolations.GriddedInterpolation{Float64, 1, Vector{Float64}, Interpolations.Gridded{Interpolations.Linear{Interpolations.Throw{Interpolations.OnGrid}}}, Tuple{Vector{Float64}}}, Interpolations.Gridded{Interpolations.Linear{Interpolations.Throw{Interpolations.OnGrid}}}, Interpolations.Throw{Nothing}}, Main.nanoconc.miemfp._bhmie, Main.nanoconc.miemfp._mfp, UnitRange{UInt32}}}, Int64})() at threadingconstructs.jl:108\" role=\"graphics-symbol\" aria-roledescription=\"rect mark\" d=\"M2.2857142857142856,381h674.0571428571428v9h-674.0571428571428Z\" fill=\"#4c78a8\" fill-opacity=\"1\" stroke=\"#505050\" stroke-width=\"0\"/><path aria-label=\"x1: 1; x2: 295.9; level: 2; level2: 2.9; status: Default; sf: #77#threadsfor_fun at threadingconstructs.jl:130 [inlined]\" role=\"graphics-symbol\" aria-roledescription=\"rect mark\" d=\"M2.2857142857142856,371h674.0571428571428v9h-674.0571428571428Z\" fill=\"#4c78a8\" fill-opacity=\"1\" stroke=\"#505050\" stroke-width=\"0\"/><path aria-label=\"x1: 1; x2: 295.9; level: 3; level2: 3.9; status: Default; sf: (::Main.nanoconc.miemfp.var&quot;#77#threadsfor_fun#20&quot;{Main.nanoconc.miemfp.var&quot;#77#threadsfor_fun#19#21&quot;{Float64, Float64, Matrix{Float64}, Interpolations.Extrapolation{Float64, 1, Interpolations.GriddedInterpolation{Float64, 1, Vector{Float64}, Interpolations.Gridded{Interpolations.Linear{Interpolations.Throw{Interpolations.OnGrid}}}, Tuple{Vector{Float64}}}, Interpolations.Gridded{Interpolations.Linear{Interpolations.Throw{Interpolations.OnGrid}}}, Interpolations.Throw{Nothing}}, Interpolations.Extrapolation{Float64, 1, Interpolations.GriddedInterpolation{Float64, 1, Vector{Float64}, Interpolations.Gridded{Interpolations.Linear{Interpolations.Throw{Interpolations.OnGrid}}}, Tuple{Vector{Float64}}}, Interpolations.Gridded{Interpolations.Linear{Interpolations.Throw{Interpolations.OnGrid}}}, Interpolations.Throw{Nothing}}, Main.nanoconc.miemfp._bhmie, Main.nanoconc.miemfp._mfp, UnitRange{UInt32}}})(tid::Int64; onethread::Bool) at threadingconstructs.jl:163\" role=\"graphics-symbol\" aria-roledescription=\"rect mark\" d=\"M2.2857142857142856,361h674.0571428571428v9h-674.0571428571428Z\" fill=\"#4c78a8\" fill-opacity=\"1\" stroke=\"#505050\" stroke-width=\"0\"/><path aria-label=\"x1: 1; x2: 295.9; level: 4; level2: 4.9; status: Default; sf: macro expansion at miemfp.jl:333 [inlined]\" role=\"graphics-symbol\" aria-roledescription=\"rect mark\" d=\"M2.2857142857142856,351h674.0571428571428v9h-674.0571428571428Z\" fill=\"#4c78a8\" fill-opacity=\"1\" stroke=\"#505050\" stroke-width=\"0\"/><path aria-label=\"x1: 1; x2: 2.9; level: 5; level2: 5.9; status: Default; sf: _calc_apparent_cross_section at Memoize.jl:61 [inlined]\" role=\"graphics-symbol\" aria-roledescription=\"rect mark\" d=\"M2.2857142857142856,341h4.3428571428571425v9h-4.3428571428571425Z\" fill=\"#4c78a8\" fill-opacity=\"1\" stroke=\"#505050\" stroke-width=\"0\"/><path aria-label=\"x1: 1; x2: 2.9; level: 6; level2: 6.9; status: Garbage collection; sf: get! at iddict.jl:176 [inlined]\" role=\"graphics-symbol\" aria-roledescription=\"rect mark\" d=\"M2.2857142857142856,331h4.3428571428571425v9h-4.3428571428571425Z\" fill=\"#f58518\" fill-opacity=\"1\" stroke=\"#505050\" stroke-width=\"0\"/><path aria-label=\"x1: 3; x2: 274.9; level: 5; level2: 5.9; status: Default; sf: _bhmie at miemfp.jl:300 [inlined]\" role=\"graphics-symbol\" aria-roledescription=\"rect mark\" d=\"M6.857142857142858,341h621.4857142857142v9h-621.4857142857142Z\" fill=\"#4c78a8\" fill-opacity=\"1\" stroke=\"#505050\" stroke-width=\"0\"/><path aria-label=\"x1: 3; x2: 3.9; level: 6; level2: 6.9; status: Default; sf: *(A::Float64, B::Vector{ComplexF64}) at arraymath.jl:21\" role=\"graphics-symbol\" aria-roledescription=\"rect mark\" d=\"M6.857142857142858,331h2.057142857142855v9h-2.057142857142855Z\" fill=\"#4c78a8\" fill-opacity=\"1\" stroke=\"#505050\" stroke-width=\"0\"/><path aria-label=\"x1: 4; x2: 4.9; level: 6; level2: 6.9; status: Default; sf: bhmie(x::Float64, refrel::ComplexF64, nang::UInt32) at essentials.jl:0\" role=\"graphics-symbol\" aria-roledescription=\"rect mark\" d=\"M9.142857142857142,331h2.0571428571428587v9h-2.0571428571428587Z\" fill=\"#4c78a8\" fill-opacity=\"1\" stroke=\"#505050\" stroke-width=\"0\"/><path aria-label=\"x1: 5; x2: 5.9; level: 6; level2: 6.9; status: Default; sf: bhmie(x::Float64, refrel::ComplexF64, nang::UInt32) at miemfp.jl:186\" role=\"graphics-symbol\" aria-roledescription=\"rect mark\" d=\"M11.428571428571429,331h2.0571428571428587v9h-2.0571428571428587Z\" fill=\"#4c78a8\" fill-opacity=\"1\" stroke=\"#505050\" stroke-width=\"0\"/><path aria-label=\"x1: 5; x2: 5.9; level: 7; level2: 7.9; status: Default; sf: round at floatfuncs.jl:128 [inlined]\" role=\"graphics-symbol\" aria-roledescription=\"rect mark\" d=\"M11.428571428571429,321h2.0571428571428587v9h-2.0571428571428587Z\" fill=\"#4c78a8\" fill-opacity=\"1\" stroke=\"#505050\" stroke-width=\"0\"/><path aria-label=\"x1: 5; x2: 5.9; level: 8; level2: 8.9; status: Default; sf: round at float.jl:395 [inlined]\" role=\"graphics-symbol\" aria-roledescription=\"rect mark\" d=\"M11.428571428571429,311h2.0571428571428587v9h-2.0571428571428587Z\" fill=\"#4c78a8\" fill-opacity=\"1\" stroke=\"#505050\" stroke-width=\"0\"/><path aria-label=\"x1: 6; x2: 8.9; level: 6; level2: 6.9; status: Default; sf: bhmie(x::Float64, refrel::ComplexF64, nang::UInt32) at miemfp.jl:188\" role=\"graphics-symbol\" aria-roledescription=\"rect mark\" d=\"M13.714285714285715,331h6.628571428571426v9h-6.628571428571426Z\" fill=\"#4c78a8\" fill-opacity=\"1\" stroke=\"#505050\" stroke-width=\"0\"/><path aria-label=\"x1: 6; x2: 8.9; level: 7; level2: 7.9; status: Default; sf: materialize at broadcast.jl:873 [inlined]\" role=\"graphics-symbol\" aria-roledescription=\"rect mark\" d=\"M13.714285714285715,321h6.628571428571426v9h-6.628571428571426Z\" fill=\"#4c78a8\" fill-opacity=\"1\" stroke=\"#505050\" stroke-width=\"0\"/><path aria-label=\"x1: 6; x2: 8.9; level: 8; level2: 8.9; status: Default; sf: copy at broadcast.jl:898 [inlined]\" role=\"graphics-symbol\" aria-roledescription=\"rect mark\" d=\"M13.714285714285715,311h6.628571428571426v9h-6.628571428571426Z\" fill=\"#4c78a8\" fill-opacity=\"1\" stroke=\"#505050\" stroke-width=\"0\"/><path aria-label=\"x1: 6; x2: 6.9; level: 9; level2: 9.9; status: Default; sf: copyto! at broadcast.jl:926 [inlined]\" role=\"graphics-symbol\" aria-roledescription=\"rect mark\" d=\"M13.714285714285715,301h2.057142857142857v9h-2.057142857142857Z\" fill=\"#4c78a8\" fill-opacity=\"1\" stroke=\"#505050\" stroke-width=\"0\"/><path aria-label=\"x1: 6; x2: 6.9; level: 10; level2: 10.9; status: Default; sf: copyto! at broadcast.jl:973 [inlined]\" role=\"graphics-symbol\" aria-roledescription=\"rect mark\" d=\"M13.714285714285715,291h2.057142857142857v9h-2.057142857142857Z\" fill=\"#4c78a8\" fill-opacity=\"1\" stroke=\"#505050\" stroke-width=\"0\"/><path aria-label=\"x1: 6; x2: 6.9; level: 11; level2: 11.9; status: Default; sf: macro expansion at simdloop.jl:75 [inlined]\" role=\"graphics-symbol\" aria-roledescription=\"rect mark\" d=\"M13.714285714285715,281h2.057142857142857v9h-2.057142857142857Z\" fill=\"#4c78a8\" fill-opacity=\"1\" stroke=\"#505050\" stroke-width=\"0\"/><path aria-label=\"x1: 6; x2: 6.9; level: 12; level2: 12.9; status: Default; sf: &lt; at int.jl:83 [inlined]\" role=\"graphics-symbol\" aria-roledescription=\"rect mark\" d=\"M13.714285714285715,271h2.057142857142857v9h-2.057142857142857Z\" fill=\"#4c78a8\" fill-opacity=\"1\" stroke=\"#505050\" stroke-width=\"0\"/><path aria-label=\"x1: 7; x2: 8.9; level: 9; level2: 9.9; status: Default; sf: similar at broadcast.jl:211 [inlined]\" role=\"graphics-symbol\" aria-roledescription=\"rect mark\" d=\"M16,301h4.342857142857142v9h-4.342857142857142Z\" fill=\"#4c78a8\" fill-opacity=\"1\" stroke=\"#505050\" stroke-width=\"0\"/><path aria-label=\"x1: 7; x2: 8.9; level: 10; level2: 10.9; status: Default; sf: similar at broadcast.jl:212 [inlined]\" role=\"graphics-symbol\" aria-roledescription=\"rect mark\" d=\"M16,291h4.342857142857142v9h-4.342857142857142Z\" fill=\"#4c78a8\" fill-opacity=\"1\" stroke=\"#505050\" stroke-width=\"0\"/><path aria-label=\"x1: 7; x2: 8.9; level: 11; level2: 11.9; status: Default; sf: similar at abstractarray.jl:881 [inlined]\" role=\"graphics-symbol\" aria-roledescription=\"rect mark\" d=\"M16,281h4.342857142857142v9h-4.342857142857142Z\" fill=\"#4c78a8\" fill-opacity=\"1\" stroke=\"#505050\" stroke-width=\"0\"/><path aria-label=\"x1: 7; x2: 8.9; level: 12; level2: 12.9; status: Default; sf: similar at abstractarray.jl:882 [inlined]\" role=\"graphics-symbol\" aria-roledescription=\"rect mark\" d=\"M16,271h4.342857142857142v9h-4.342857142857142Z\" fill=\"#4c78a8\" fill-opacity=\"1\" stroke=\"#505050\" stroke-width=\"0\"/><path aria-label=\"x1: 7; x2: 8.9; level: 13; level2: 13.9; status: Default; sf: Array at boot.jl:494 [inlined]\" role=\"graphics-symbol\" aria-roledescription=\"rect mark\" d=\"M16,261h4.342857142857142v9h-4.342857142857142Z\" fill=\"#4c78a8\" fill-opacity=\"1\" stroke=\"#505050\" stroke-width=\"0\"/><path aria-label=\"x1: 7; x2: 8.9; level: 14; level2: 14.9; status: Default; sf: Array at boot.jl:486 [inlined]\" role=\"graphics-symbol\" aria-roledescription=\"rect mark\" d=\"M16,250.99999999999997h4.342857142857142v9.000000000000028h-4.342857142857142Z\" fill=\"#4c78a8\" fill-opacity=\"1\" stroke=\"#505050\" stroke-width=\"0\"/><path aria-label=\"x1: 7; x2: 8.9; level: 15; level2: 15.9; status: Default; sf: Array at boot.jl:477 [inlined]\" role=\"graphics-symbol\" aria-roledescription=\"rect mark\" d=\"M16,241h4.342857142857142v9h-4.342857142857142Z\" fill=\"#4c78a8\" fill-opacity=\"1\" stroke=\"#505050\" stroke-width=\"0\"/><path aria-label=\"x1: 9; x2: 14.9; level: 6; level2: 6.9; status: Default; sf: bhmie(x::Float64, refrel::ComplexF64, nang::UInt32) at miemfp.jl:190\" role=\"graphics-symbol\" aria-roledescription=\"rect mark\" d=\"M20.57142857142857,331h13.485714285714288v9h-13.485714285714288Z\" fill=\"#4c78a8\" fill-opacity=\"1\" stroke=\"#505050\" stroke-width=\"0\"/><path aria-label=\"x1: 9; x2: 14.9; level: 7; level2: 7.9; status: Default; sf: Array at baseext.jl:23 [inlined]\" role=\"graphics-symbol\" aria-roledescription=\"rect mark\" d=\"M20.57142857142857,321h13.485714285714288v9h-13.485714285714288Z\" fill=\"#4c78a8\" fill-opacity=\"1\" stroke=\"#505050\" stroke-width=\"0\"/><path aria-label=\"x1: 9; x2: 14.9; level: 8; level2: 8.9; status: Garbage collection; sf: Array at boot.jl:477 [inlined]\" role=\"graphics-symbol\" aria-roledescription=\"rect mark\" d=\"M20.57142857142857,311h13.485714285714288v9h-13.485714285714288Z\" fill=\"#f58518\" fill-opacity=\"1\" stroke=\"#505050\" stroke-width=\"0\"/><path aria-label=\"x1: 15; x2: 25.9; level: 6; level2: 6.9; status: Default; sf: bhmie(x::Float64, refrel::ComplexF64, nang::UInt32) at miemfp.jl:192\" role=\"graphics-symbol\" aria-roledescription=\"rect mark\" d=\"M34.285714285714285,331h24.91428571428571v9h-24.91428571428571Z\" fill=\"#4c78a8\" fill-opacity=\"1\" stroke=\"#505050\" stroke-width=\"0\"/><path aria-label=\"x1: 15; x2: 15.9; level: 7; level2: 7.9; status: Default; sf: macro expansion at simdloop.jl:75 [inlined]\" role=\"graphics-symbol\" aria-roledescription=\"rect mark\" d=\"M34.285714285714285,321h2.057142857142857v9h-2.057142857142857Z\" fill=\"#4c78a8\" fill-opacity=\"1\" stroke=\"#505050\" stroke-width=\"0\"/><path aria-label=\"x1: 15; x2: 15.9; level: 8; level2: 8.9; status: Default; sf: &lt; at int.jl:83 [inlined]\" role=\"graphics-symbol\" aria-roledescription=\"rect mark\" d=\"M34.285714285714285,311h2.057142857142857v9h-2.057142857142857Z\" fill=\"#4c78a8\" fill-opacity=\"1\" stroke=\"#505050\" stroke-width=\"0\"/><path aria-label=\"x1: 16; x2: 25.9; level: 7; level2: 7.9; status: Default; sf: macro expansion at simdloop.jl:77 [inlined]\" role=\"graphics-symbol\" aria-roledescription=\"rect mark\" d=\"M36.57142857142857,321h22.628571428571426v9h-22.628571428571426Z\" fill=\"#4c78a8\" fill-opacity=\"1\" stroke=\"#505050\" stroke-width=\"0\"/><path aria-label=\"x1: 16; x2: 16.9; level: 8; level2: 8.9; status: Default; sf: macro expansion at array.jl:0 [inlined]\" role=\"graphics-symbol\" aria-roledescription=\"rect mark\" d=\"M36.57142857142857,311h2.057142857142857v9h-2.057142857142857Z\" fill=\"#4c78a8\" fill-opacity=\"1\" stroke=\"#505050\" stroke-width=\"0\"/><path aria-label=\"x1: 17; x2: 25.9; level: 8; level2: 8.9; status: Default; sf: macro expansion at miemfp.jl:194 [inlined]\" role=\"graphics-symbol\" aria-roledescription=\"rect mark\" d=\"M38.857142857142854,311h20.34285714285714v9h-20.34285714285714Z\" fill=\"#4c78a8\" fill-opacity=\"1\" stroke=\"#505050\" stroke-width=\"0\"/><path aria-label=\"x1: 17; x2: 17.9; level: 9; level2: 9.9; status: Default; sf: setindex! at array.jl:969 [inlined]\" role=\"graphics-symbol\" aria-roledescription=\"rect mark\" d=\"M38.857142857142854,301h2.057142857142857v9h-2.057142857142857Z\" fill=\"#4c78a8\" fill-opacity=\"1\" stroke=\"#505050\" stroke-width=\"0\"/><path aria-label=\"x1: 18; x2: 23.9; level: 9; level2: 9.9; status: Default; sf: div_fast at fastmath.jl:229 [inlined]\" role=\"graphics-symbol\" aria-roledescription=\"rect mark\" d=\"M41.14285714285714,301h13.485714285714288v9h-13.485714285714288Z\" fill=\"#4c78a8\" fill-opacity=\"1\" stroke=\"#505050\" stroke-width=\"0\"/><path aria-label=\"x1: 18; x2: 20.9; level: 10; level2: 10.9; status: Default; sf: abs2_fast at fastmath.jl:197 [inlined]\" role=\"graphics-symbol\" aria-roledescription=\"rect mark\" d=\"M41.14285714285714,291h6.628571428571433v9h-6.628571428571433Z\" fill=\"#4c78a8\" fill-opacity=\"1\" stroke=\"#505050\" stroke-width=\"0\"/><path aria-label=\"x1: 18; x2: 20.9; level: 11; level2: 11.9; status: Default; sf: add_fast at fastmath.jl:165 [inlined]\" role=\"graphics-symbol\" aria-roledescription=\"rect mark\" d=\"M41.14285714285714,281h6.628571428571433v9h-6.628571428571433Z\" fill=\"#4c78a8\" fill-opacity=\"1\" stroke=\"#505050\" stroke-width=\"0\"/><path aria-label=\"x1: 21; x2: 23.9; level: 10; level2: 10.9; status: Default; sf: div_fast at fastmath.jl:227 [inlined]\" role=\"graphics-symbol\" aria-roledescription=\"rect mark\" d=\"M48,291h6.628571428571426v9h-6.628571428571426Z\" fill=\"#4c78a8\" fill-opacity=\"1\" stroke=\"#505050\" stroke-width=\"0\"/><path aria-label=\"x1: 21; x2: 23.9; level: 11; level2: 11.9; status: Default; sf: div_fast at fastmath.jl:168 [inlined]\" role=\"graphics-symbol\" aria-roledescription=\"rect mark\" d=\"M48,281h6.628571428571426v9h-6.628571428571426Z\" fill=\"#4c78a8\" fill-opacity=\"1\" stroke=\"#505050\" stroke-width=\"0\"/><path aria-label=\"x1: 24; x2: 25.9; level: 9; level2: 9.9; status: Default; sf: maybeview at views.jl:149 [inlined]\" role=\"graphics-symbol\" aria-roledescription=\"rect mark\" d=\"M54.85714285714286,301h4.3428571428571345v9h-4.3428571428571345Z\" fill=\"#4c78a8\" fill-opacity=\"1\" stroke=\"#505050\" stroke-width=\"0\"/><path aria-label=\"x1: 24; x2: 25.9; level: 10; level2: 10.9; status: Default; sf: getindex at essentials.jl:13 [inlined]\" role=\"graphics-symbol\" aria-roledescription=\"rect mark\" d=\"M54.85714285714286,291h4.3428571428571345v9h-4.3428571428571345Z\" fill=\"#4c78a8\" fill-opacity=\"1\" stroke=\"#505050\" stroke-width=\"0\"/><path aria-label=\"x1: 26; x2: 26.9; level: 6; level2: 6.9; status: Default; sf: bhmie(x::Float64, refrel::ComplexF64, nang::UInt32) at miemfp.jl:198\" role=\"graphics-symbol\" aria-roledescription=\"rect mark\" d=\"M59.42857142857143,331h2.057142857142857v9h-2.057142857142857Z\" fill=\"#4c78a8\" fill-opacity=\"1\" stroke=\"#505050\" stroke-width=\"0\"/><path aria-label=\"x1: 26; x2: 26.9; level: 7; level2: 7.9; status: Default; sf: cos_fast at fastmath.jl:349 [inlined]\" role=\"graphics-symbol\" aria-roledescription=\"rect mark\" d=\"M59.42857142857143,321h2.057142857142857v9h-2.057142857142857Z\" fill=\"#4c78a8\" fill-opacity=\"1\" stroke=\"#505050\" stroke-width=\"0\"/><path aria-label=\"x1: 26; x2: 26.9; level: 8; level2: 8.9; status: Default; sf: cos(x::Float64) at trig.jl:104\" role=\"graphics-symbol\" aria-roledescription=\"rect mark\" d=\"M59.42857142857143,311h2.057142857142857v9h-2.057142857142857Z\" fill=\"#4c78a8\" fill-opacity=\"1\" stroke=\"#505050\" stroke-width=\"0\"/><path aria-label=\"x1: 26; x2: 26.9; level: 9; level2: 9.9; status: Default; sf: cos_kernel at trig.jl:147 [inlined]\" role=\"graphics-symbol\" aria-roledescription=\"rect mark\" d=\"M59.42857142857143,301h2.057142857142857v9h-2.057142857142857Z\" fill=\"#4c78a8\" fill-opacity=\"1\" stroke=\"#505050\" stroke-width=\"0\"/><path aria-label=\"x1: 26; x2: 26.9; level: 10; level2: 10.9; status: Default; sf: * at float.jl:410 [inlined]\" role=\"graphics-symbol\" aria-roledescription=\"rect mark\" d=\"M59.42857142857143,291h2.057142857142857v9h-2.057142857142857Z\" fill=\"#4c78a8\" fill-opacity=\"1\" stroke=\"#505050\" stroke-width=\"0\"/><path aria-label=\"x1: 27; x2: 39.9; level: 6; level2: 6.9; status: Default; sf: bhmie(x::Float64, refrel::ComplexF64, nang::UInt32) at miemfp.jl:205\" role=\"graphics-symbol\" aria-roledescription=\"rect mark\" d=\"M61.71428571428571,331h29.48571428571428v9h-29.48571428571428Z\" fill=\"#4c78a8\" fill-opacity=\"1\" stroke=\"#505050\" stroke-width=\"0\"/><path aria-label=\"x1: 27; x2: 39.9; level: 7; level2: 7.9; status: Default; sf: zeros at array.jl:580 [inlined]\" role=\"graphics-symbol\" aria-roledescription=\"rect mark\" d=\"M61.71428571428571,321h29.48571428571428v9h-29.48571428571428Z\" fill=\"#4c78a8\" fill-opacity=\"1\" stroke=\"#505050\" stroke-width=\"0\"/><path aria-label=\"x1: 27; x2: 39.9; level: 8; level2: 8.9; status: Default; sf: zeros at array.jl:584 [inlined]\" role=\"graphics-symbol\" aria-roledescription=\"rect mark\" d=\"M61.71428571428571,311h29.48571428571428v9h-29.48571428571428Z\" fill=\"#4c78a8\" fill-opacity=\"1\" stroke=\"#505050\" stroke-width=\"0\"/><path aria-label=\"x1: 27; x2: 39.9; level: 9; level2: 9.9; status: Default; sf: Array at baseext.jl:36 [inlined]\" role=\"graphics-symbol\" aria-roledescription=\"rect mark\" d=\"M61.71428571428571,301h29.48571428571428v9h-29.48571428571428Z\" fill=\"#4c78a8\" fill-opacity=\"1\" stroke=\"#505050\" stroke-width=\"0\"/><path aria-label=\"x1: 27; x2: 39.9; level: 10; level2: 10.9; status: Default; sf: Array at boot.jl:486 [inlined]\" role=\"graphics-symbol\" aria-roledescription=\"rect mark\" d=\"M61.71428571428571,291h29.48571428571428v9h-29.48571428571428Z\" fill=\"#4c78a8\" fill-opacity=\"1\" stroke=\"#505050\" stroke-width=\"0\"/><path aria-label=\"x1: 27; x2: 39.9; level: 11; level2: 11.9; status: Garbage collection; sf: Array at boot.jl:477 [inlined]\" role=\"graphics-symbol\" aria-roledescription=\"rect mark\" d=\"M61.71428571428571,281h29.48571428571428v9h-29.48571428571428Z\" fill=\"#f58518\" fill-opacity=\"1\" stroke=\"#505050\" stroke-width=\"0\"/><path aria-label=\"x1: 40; x2: 40.9; level: 6; level2: 6.9; status: Default; sf: bhmie(x::Float64, refrel::ComplexF64, nang::UInt32) at miemfp.jl:207\" role=\"graphics-symbol\" aria-roledescription=\"rect mark\" d=\"M91.42857142857143,331h2.05714285714285v9h-2.05714285714285Z\" fill=\"#4c78a8\" fill-opacity=\"1\" stroke=\"#505050\" stroke-width=\"0\"/><path aria-label=\"x1: 40; x2: 40.9; level: 7; level2: 7.9; status: Default; sf: zeros at array.jl:580 [inlined]\" role=\"graphics-symbol\" aria-roledescription=\"rect mark\" d=\"M91.42857142857143,321h2.05714285714285v9h-2.05714285714285Z\" fill=\"#4c78a8\" fill-opacity=\"1\" stroke=\"#505050\" stroke-width=\"0\"/><path aria-label=\"x1: 40; x2: 40.9; level: 8; level2: 8.9; status: Default; sf: zeros at array.jl:584 [inlined]\" role=\"graphics-symbol\" aria-roledescription=\"rect mark\" d=\"M91.42857142857143,311h2.05714285714285v9h-2.05714285714285Z\" fill=\"#4c78a8\" fill-opacity=\"1\" stroke=\"#505050\" stroke-width=\"0\"/><path aria-label=\"x1: 40; x2: 40.9; level: 9; level2: 9.9; status: Default; sf: Array at baseext.jl:36 [inlined]\" role=\"graphics-symbol\" aria-roledescription=\"rect mark\" d=\"M91.42857142857143,301h2.05714285714285v9h-2.05714285714285Z\" fill=\"#4c78a8\" fill-opacity=\"1\" stroke=\"#505050\" stroke-width=\"0\"/><path aria-label=\"x1: 40; x2: 40.9; level: 10; level2: 10.9; status: Default; sf: Array at boot.jl:486 [inlined]\" role=\"graphics-symbol\" aria-roledescription=\"rect mark\" d=\"M91.42857142857143,291h2.05714285714285v9h-2.05714285714285Z\" fill=\"#4c78a8\" fill-opacity=\"1\" stroke=\"#505050\" stroke-width=\"0\"/><path aria-label=\"x1: 40; x2: 40.9; level: 11; level2: 11.9; status: Default; sf: Array at boot.jl:477 [inlined]\" role=\"graphics-symbol\" aria-roledescription=\"rect mark\" d=\"M91.42857142857143,281h2.05714285714285v9h-2.05714285714285Z\" fill=\"#4c78a8\" fill-opacity=\"1\" stroke=\"#505050\" stroke-width=\"0\"/><path aria-label=\"x1: 41; x2: 41.9; level: 6; level2: 6.9; status: Default; sf: bhmie(x::Float64, refrel::ComplexF64, nang::UInt32) at miemfp.jl:208\" role=\"graphics-symbol\" aria-roledescription=\"rect mark\" d=\"M93.71428571428572,331h2.0571428571428356v9h-2.0571428571428356Z\" fill=\"#4c78a8\" fill-opacity=\"1\" stroke=\"#505050\" stroke-width=\"0\"/><path aria-label=\"x1: 41; x2: 41.9; level: 7; level2: 7.9; status: Default; sf: zeros at array.jl:580 [inlined]\" role=\"graphics-symbol\" aria-roledescription=\"rect mark\" d=\"M93.71428571428572,321h2.0571428571428356v9h-2.0571428571428356Z\" fill=\"#4c78a8\" fill-opacity=\"1\" stroke=\"#505050\" stroke-width=\"0\"/><path aria-label=\"x1: 41; x2: 41.9; level: 8; level2: 8.9; status: Default; sf: zeros at array.jl:584 [inlined]\" role=\"graphics-symbol\" aria-roledescription=\"rect mark\" d=\"M93.71428571428572,311h2.0571428571428356v9h-2.0571428571428356Z\" fill=\"#4c78a8\" fill-opacity=\"1\" stroke=\"#505050\" stroke-width=\"0\"/><path aria-label=\"x1: 41; x2: 41.9; level: 9; level2: 9.9; status: Default; sf: Array at baseext.jl:36 [inlined]\" role=\"graphics-symbol\" aria-roledescription=\"rect mark\" d=\"M93.71428571428572,301h2.0571428571428356v9h-2.0571428571428356Z\" fill=\"#4c78a8\" fill-opacity=\"1\" stroke=\"#505050\" stroke-width=\"0\"/><path aria-label=\"x1: 41; x2: 41.9; level: 10; level2: 10.9; status: Default; sf: Array at boot.jl:486 [inlined]\" role=\"graphics-symbol\" aria-roledescription=\"rect mark\" d=\"M93.71428571428572,291h2.0571428571428356v9h-2.0571428571428356Z\" fill=\"#4c78a8\" fill-opacity=\"1\" stroke=\"#505050\" stroke-width=\"0\"/><path aria-label=\"x1: 41; x2: 41.9; level: 11; level2: 11.9; status: Garbage collection; sf: Array at boot.jl:477 [inlined]\" role=\"graphics-symbol\" aria-roledescription=\"rect mark\" d=\"M93.71428571428572,281h2.0571428571428356v9h-2.0571428571428356Z\" fill=\"#f58518\" fill-opacity=\"1\" stroke=\"#505050\" stroke-width=\"0\"/><path aria-label=\"x1: 42; x2: 42.9; level: 6; level2: 6.9; status: Default; sf: bhmie(x::Float64, refrel::ComplexF64, nang::UInt32) at miemfp.jl:209\" role=\"graphics-symbol\" aria-roledescription=\"rect mark\" d=\"M96,331h2.05714285714285v9h-2.05714285714285Z\" fill=\"#4c78a8\" fill-opacity=\"1\" stroke=\"#505050\" stroke-width=\"0\"/><path aria-label=\"x1: 42; x2: 42.9; level: 7; level2: 7.9; status: Default; sf: zeros at array.jl:579 [inlined]\" role=\"graphics-symbol\" aria-roledescription=\"rect mark\" d=\"M96,321h2.05714285714285v9h-2.05714285714285Z\" fill=\"#4c78a8\" fill-opacity=\"1\" stroke=\"#505050\" stroke-width=\"0\"/><path aria-label=\"x1: 42; x2: 42.9; level: 8; level2: 8.9; status: Default; sf: zeros at array.jl:581 [inlined]\" role=\"graphics-symbol\" aria-roledescription=\"rect mark\" d=\"M96,311h2.05714285714285v9h-2.05714285714285Z\" fill=\"#4c78a8\" fill-opacity=\"1\" stroke=\"#505050\" stroke-width=\"0\"/><path aria-label=\"x1: 42; x2: 42.9; level: 9; level2: 9.9; status: Default; sf: zeros at array.jl:585 [inlined]\" role=\"graphics-symbol\" aria-roledescription=\"rect mark\" d=\"M96,301h2.05714285714285v9h-2.05714285714285Z\" fill=\"#4c78a8\" fill-opacity=\"1\" stroke=\"#505050\" stroke-width=\"0\"/><path aria-label=\"x1: 42; x2: 42.9; level: 10; level2: 10.9; status: Default; sf: fill! at array.jl:348 [inlined]\" role=\"graphics-symbol\" aria-roledescription=\"rect mark\" d=\"M96,291h2.05714285714285v9h-2.05714285714285Z\" fill=\"#4c78a8\" fill-opacity=\"1\" stroke=\"#505050\" stroke-width=\"0\"/><path aria-label=\"x1: 42; x2: 42.9; level: 11; level2: 11.9; status: Default; sf: iterate at range.jl:887 [inlined]\" role=\"graphics-symbol\" aria-roledescription=\"rect mark\" d=\"M96,281h2.05714285714285v9h-2.05714285714285Z\" fill=\"#4c78a8\" fill-opacity=\"1\" stroke=\"#505050\" stroke-width=\"0\"/><path aria-label=\"x1: 42; x2: 42.9; level: 12; level2: 12.9; status: Default; sf: isempty at range.jl:662 [inlined]\" role=\"graphics-symbol\" aria-roledescription=\"rect mark\" d=\"M96,271h2.05714285714285v9h-2.05714285714285Z\" fill=\"#4c78a8\" fill-opacity=\"1\" stroke=\"#505050\" stroke-width=\"0\"/><path aria-label=\"x1: 42; x2: 42.9; level: 13; level2: 13.9; status: Default; sf: &gt; at operators.jl:369 [inlined]\" role=\"graphics-symbol\" aria-roledescription=\"rect mark\" d=\"M96,261h2.05714285714285v9h-2.05714285714285Z\" fill=\"#4c78a8\" fill-opacity=\"1\" stroke=\"#505050\" stroke-width=\"0\"/><path aria-label=\"x1: 42; x2: 42.9; level: 14; level2: 14.9; status: Default; sf: &lt; at int.jl:83 [inlined]\" role=\"graphics-symbol\" aria-roledescription=\"rect mark\" d=\"M96,250.99999999999997h2.05714285714285v9.000000000000028h-2.05714285714285Z\" fill=\"#4c78a8\" fill-opacity=\"1\" stroke=\"#505050\" stroke-width=\"0\"/><path aria-label=\"x1: 43; x2: 47.9; level: 6; level2: 6.9; status: Default; sf: bhmie(x::Float64, refrel::ComplexF64, nang::UInt32) at miemfp.jl:210\" role=\"graphics-symbol\" aria-roledescription=\"rect mark\" d=\"M98.28571428571429,331h11.199999999999989v9h-11.199999999999989Z\" fill=\"#4c78a8\" fill-opacity=\"1\" stroke=\"#505050\" stroke-width=\"0\"/><path aria-label=\"x1: 43; x2: 47.9; level: 7; level2: 7.9; status: Default; sf: ones at array.jl:579 [inlined]\" role=\"graphics-symbol\" aria-roledescription=\"rect mark\" d=\"M98.28571428571429,321h11.199999999999989v9h-11.199999999999989Z\" fill=\"#4c78a8\" fill-opacity=\"1\" stroke=\"#505050\" stroke-width=\"0\"/><path aria-label=\"x1: 43; x2: 47.9; level: 8; level2: 8.9; status: Default; sf: ones at array.jl:581 [inlined]\" role=\"graphics-symbol\" aria-roledescription=\"rect mark\" d=\"M98.28571428571429,311h11.199999999999989v9h-11.199999999999989Z\" fill=\"#4c78a8\" fill-opacity=\"1\" stroke=\"#505050\" stroke-width=\"0\"/><path aria-label=\"x1: 43; x2: 47.9; level: 9; level2: 9.9; status: Default; sf: ones at array.jl:584 [inlined]\" role=\"graphics-symbol\" aria-roledescription=\"rect mark\" d=\"M98.28571428571429,301h11.199999999999989v9h-11.199999999999989Z\" fill=\"#4c78a8\" fill-opacity=\"1\" stroke=\"#505050\" stroke-width=\"0\"/><path aria-label=\"x1: 43; x2: 47.9; level: 10; level2: 10.9; status: Default; sf: Array at baseext.jl:36 [inlined]\" role=\"graphics-symbol\" aria-roledescription=\"rect mark\" d=\"M98.28571428571429,291h11.199999999999989v9h-11.199999999999989Z\" fill=\"#4c78a8\" fill-opacity=\"1\" stroke=\"#505050\" stroke-width=\"0\"/><path aria-label=\"x1: 43; x2: 47.9; level: 11; level2: 11.9; status: Default; sf: Array at boot.jl:486 [inlined]\" role=\"graphics-symbol\" aria-roledescription=\"rect mark\" d=\"M98.28571428571429,281h11.199999999999989v9h-11.199999999999989Z\" fill=\"#4c78a8\" fill-opacity=\"1\" stroke=\"#505050\" stroke-width=\"0\"/><path aria-label=\"x1: 43; x2: 47.9; level: 12; level2: 12.9; status: Garbage collection; sf: Array at boot.jl:477 [inlined]\" role=\"graphics-symbol\" aria-roledescription=\"rect mark\" d=\"M98.28571428571429,271h11.199999999999989v9h-11.199999999999989Z\" fill=\"#f58518\" fill-opacity=\"1\" stroke=\"#505050\" stroke-width=\"0\"/><path aria-label=\"x1: 48; x2: 49.9; level: 6; level2: 6.9; status: Default; sf: bhmie(x::Float64, refrel::ComplexF64, nang::UInt32) at miemfp.jl:211\" role=\"graphics-symbol\" aria-roledescription=\"rect mark\" d=\"M109.71428571428572,331h4.342857142857127v9h-4.342857142857127Z\" fill=\"#4c78a8\" fill-opacity=\"1\" stroke=\"#505050\" stroke-width=\"0\"/><path aria-label=\"x1: 48; x2: 49.9; level: 7; level2: 7.9; status: Default; sf: similar at abstractarray.jl:880 [inlined]\" role=\"graphics-symbol\" aria-roledescription=\"rect mark\" d=\"M109.71428571428572,321h4.342857142857127v9h-4.342857142857127Z\" fill=\"#4c78a8\" fill-opacity=\"1\" stroke=\"#505050\" stroke-width=\"0\"/><path aria-label=\"x1: 48; x2: 49.9; level: 8; level2: 8.9; status: Default; sf: similar at abstractarray.jl:881 [inlined]\" role=\"graphics-symbol\" aria-roledescription=\"rect mark\" d=\"M109.71428571428572,311h4.342857142857127v9h-4.342857142857127Z\" fill=\"#4c78a8\" fill-opacity=\"1\" stroke=\"#505050\" stroke-width=\"0\"/><path aria-label=\"x1: 48; x2: 49.9; level: 9; level2: 9.9; status: Default; sf: similar at abstractarray.jl:882 [inlined]\" role=\"graphics-symbol\" aria-roledescription=\"rect mark\" d=\"M109.71428571428572,301h4.342857142857127v9h-4.342857142857127Z\" fill=\"#4c78a8\" fill-opacity=\"1\" stroke=\"#505050\" stroke-width=\"0\"/><path aria-label=\"x1: 48; x2: 49.9; level: 10; level2: 10.9; status: Default; sf: Array at boot.jl:486 [inlined]\" role=\"graphics-symbol\" aria-roledescription=\"rect mark\" d=\"M109.71428571428572,291h4.342857142857127v9h-4.342857142857127Z\" fill=\"#4c78a8\" fill-opacity=\"1\" stroke=\"#505050\" stroke-width=\"0\"/><path aria-label=\"x1: 48; x2: 49.9; level: 11; level2: 11.9; status: Default; sf: Array at boot.jl:477 [inlined]\" role=\"graphics-symbol\" aria-roledescription=\"rect mark\" d=\"M109.71428571428572,281h4.342857142857127v9h-4.342857142857127Z\" fill=\"#4c78a8\" fill-opacity=\"1\" stroke=\"#505050\" stroke-width=\"0\"/><path aria-label=\"x1: 50; x2: 265.9; level: 6; level2: 6.9; status: Default; sf: bhmie(x::Float64, refrel::ComplexF64, nang::UInt32) at miemfp.jl:212\" role=\"graphics-symbol\" aria-roledescription=\"rect mark\" d=\"M114.28571428571428,331h493.4857142857142v9h-493.4857142857142Z\" fill=\"#4c78a8\" fill-opacity=\"1\" stroke=\"#505050\" stroke-width=\"0\"/><path aria-label=\"x1: 50; x2: 265.9; level: 7; level2: 7.9; status: Default; sf: macro expansion at simdloop.jl:77 [inlined]\" role=\"graphics-symbol\" aria-roledescription=\"rect mark\" d=\"M114.28571428571428,321h493.4857142857142v9h-493.4857142857142Z\" fill=\"#4c78a8\" fill-opacity=\"1\" stroke=\"#505050\" stroke-width=\"0\"/><path aria-label=\"x1: 50; x2: 50.9; level: 8; level2: 8.9; status: Default; sf: macro expansion at fastmath.jl:0 [inlined]\" role=\"graphics-symbol\" aria-roledescription=\"rect mark\" d=\"M114.28571428571428,311h2.057142857142864v9h-2.057142857142864Z\" fill=\"#4c78a8\" fill-opacity=\"1\" stroke=\"#505050\" stroke-width=\"0\"/><path aria-label=\"x1: 51; x2: 79.9; level: 8; level2: 8.9; status: Default; sf: macro expansion at simdloop.jl:0 [inlined]\" role=\"graphics-symbol\" aria-roledescription=\"rect mark\" d=\"M116.57142857142857,311h66.05714285714289v9h-66.05714285714289Z\" fill=\"#4c78a8\" fill-opacity=\"1\" stroke=\"#505050\" stroke-width=\"0\"/><path aria-label=\"x1: 51; x2: 65.9; level: 9; level2: 9.9; status: Default; sf: *(A::Float64, B::Vector{ComplexF64}) at arraymath.jl:21\" role=\"graphics-symbol\" aria-roledescription=\"rect mark\" d=\"M116.57142857142857,301h34.057142857142864v9h-34.057142857142864Z\" fill=\"#4c78a8\" fill-opacity=\"1\" stroke=\"#505050\" stroke-width=\"0\"/><path aria-label=\"x1: 51; x2: 65.9; level: 10; level2: 10.9; status: Default; sf: broadcast_preserving_zero_d at broadcast.jl:862 [inlined]\" role=\"graphics-symbol\" aria-roledescription=\"rect mark\" d=\"M116.57142857142857,291h34.057142857142864v9h-34.057142857142864Z\" fill=\"#4c78a8\" fill-opacity=\"1\" stroke=\"#505050\" stroke-width=\"0\"/><path aria-label=\"x1: 51; x2: 65.9; level: 11; level2: 11.9; status: Default; sf: materialize at broadcast.jl:873 [inlined]\" role=\"graphics-symbol\" aria-roledescription=\"rect mark\" d=\"M116.57142857142857,281h34.057142857142864v9h-34.057142857142864Z\" fill=\"#4c78a8\" fill-opacity=\"1\" stroke=\"#505050\" stroke-width=\"0\"/><path aria-label=\"x1: 51; x2: 65.9; level: 12; level2: 12.9; status: Default; sf: copy at broadcast.jl:898 [inlined]\" role=\"graphics-symbol\" aria-roledescription=\"rect mark\" d=\"M116.57142857142857,271h34.057142857142864v9h-34.057142857142864Z\" fill=\"#4c78a8\" fill-opacity=\"1\" stroke=\"#505050\" stroke-width=\"0\"/><path aria-label=\"x1: 51; x2: 65.9; level: 13; level2: 13.9; status: Default; sf: similar at broadcast.jl:211 [inlined]\" role=\"graphics-symbol\" aria-roledescription=\"rect mark\" d=\"M116.57142857142857,261h34.057142857142864v9h-34.057142857142864Z\" fill=\"#4c78a8\" fill-opacity=\"1\" stroke=\"#505050\" stroke-width=\"0\"/><path aria-label=\"x1: 51; x2: 65.9; level: 14; level2: 14.9; status: Default; sf: similar at broadcast.jl:212 [inlined]\" role=\"graphics-symbol\" aria-roledescription=\"rect mark\" d=\"M116.57142857142857,250.99999999999997h34.057142857142864v9.000000000000028h-34.057142857142864Z\" fill=\"#4c78a8\" fill-opacity=\"1\" stroke=\"#505050\" stroke-width=\"0\"/><path aria-label=\"x1: 51; x2: 65.9; level: 15; level2: 15.9; status: Default; sf: similar at abstractarray.jl:881 [inlined]\" role=\"graphics-symbol\" aria-roledescription=\"rect mark\" d=\"M116.57142857142857,241h34.057142857142864v9h-34.057142857142864Z\" fill=\"#4c78a8\" fill-opacity=\"1\" stroke=\"#505050\" stroke-width=\"0\"/><path aria-label=\"x1: 51; x2: 65.9; level: 16; level2: 16.9; status: Default; sf: similar at abstractarray.jl:882 [inlined]\" role=\"graphics-symbol\" aria-roledescription=\"rect mark\" d=\"M116.57142857142857,231h34.057142857142864v9h-34.057142857142864Z\" fill=\"#4c78a8\" fill-opacity=\"1\" stroke=\"#505050\" stroke-width=\"0\"/><path aria-label=\"x1: 51; x2: 65.9; level: 17; level2: 17.9; status: Default; sf: Array at boot.jl:494 [inlined]\" role=\"graphics-symbol\" aria-roledescription=\"rect mark\" d=\"M116.57142857142857,221h34.057142857142864v8.999999999999972h-34.057142857142864Z\" fill=\"#4c78a8\" fill-opacity=\"1\" stroke=\"#505050\" stroke-width=\"0\"/><path aria-label=\"x1: 51; x2: 65.9; level: 18; level2: 18.9; status: Default; sf: Array at boot.jl:486 [inlined]\" role=\"graphics-symbol\" aria-roledescription=\"rect mark\" d=\"M116.57142857142857,211.00000000000003h34.057142857142864v9h-34.057142857142864Z\" fill=\"#4c78a8\" fill-opacity=\"1\" stroke=\"#505050\" stroke-width=\"0\"/><path aria-label=\"x1: 51; x2: 65.9; level: 19; level2: 19.9; status: Garbage collection; sf: Array at boot.jl:477 [inlined]\" role=\"graphics-symbol\" aria-roledescription=\"rect mark\" d=\"M116.57142857142857,201.00000000000003h34.057142857142864v8.999999999999972h-34.057142857142864Z\" fill=\"#f58518\" fill-opacity=\"1\" stroke=\"#505050\" stroke-width=\"0\"/><path aria-label=\"x1: 66; x2: 78.9; level: 9; level2: 9.9; status: Default; sf: -(A::Vector{ComplexF64}, B::Vector{ComplexF64}) at arraymath.jl:8\" role=\"graphics-symbol\" aria-roledescription=\"rect mark\" d=\"M150.85714285714286,301h29.485714285714295v9h-29.485714285714295Z\" fill=\"#4c78a8\" fill-opacity=\"1\" stroke=\"#505050\" stroke-width=\"0\"/><path aria-label=\"x1: 66; x2: 78.9; level: 10; level2: 10.9; status: Default; sf: broadcast_preserving_zero_d at broadcast.jl:862 [inlined]\" role=\"graphics-symbol\" aria-roledescription=\"rect mark\" d=\"M150.85714285714286,291h29.485714285714295v9h-29.485714285714295Z\" fill=\"#4c78a8\" fill-opacity=\"1\" stroke=\"#505050\" stroke-width=\"0\"/><path aria-label=\"x1: 66; x2: 78.9; level: 11; level2: 11.9; status: Default; sf: materialize at broadcast.jl:873 [inlined]\" role=\"graphics-symbol\" aria-roledescription=\"rect mark\" d=\"M150.85714285714286,281h29.485714285714295v9h-29.485714285714295Z\" fill=\"#4c78a8\" fill-opacity=\"1\" stroke=\"#505050\" stroke-width=\"0\"/><path aria-label=\"x1: 66; x2: 78.9; level: 12; level2: 12.9; status: Default; sf: copy at broadcast.jl:898 [inlined]\" role=\"graphics-symbol\" aria-roledescription=\"rect mark\" d=\"M150.85714285714286,271h29.485714285714295v9h-29.485714285714295Z\" fill=\"#4c78a8\" fill-opacity=\"1\" stroke=\"#505050\" stroke-width=\"0\"/><path aria-label=\"x1: 66; x2: 67.9; level: 13; level2: 13.9; status: Default; sf: copyto! at broadcast.jl:926 [inlined]\" role=\"graphics-symbol\" aria-roledescription=\"rect mark\" d=\"M150.85714285714286,261h4.342857142857156v9h-4.342857142857156Z\" fill=\"#4c78a8\" fill-opacity=\"1\" stroke=\"#505050\" stroke-width=\"0\"/><path aria-label=\"x1: 66; x2: 67.9; level: 14; level2: 14.9; status: Default; sf: copyto! at broadcast.jl:970 [inlined]\" role=\"graphics-symbol\" aria-roledescription=\"rect mark\" d=\"M150.85714285714286,250.99999999999997h4.342857142857156v9.000000000000028h-4.342857142857156Z\" fill=\"#4c78a8\" fill-opacity=\"1\" stroke=\"#505050\" stroke-width=\"0\"/><path aria-label=\"x1: 66; x2: 67.9; level: 15; level2: 15.9; status: Default; sf: preprocess at broadcast.jl:953 [inlined]\" role=\"graphics-symbol\" aria-roledescription=\"rect mark\" d=\"M150.85714285714286,241h4.342857142857156v9h-4.342857142857156Z\" fill=\"#4c78a8\" fill-opacity=\"1\" stroke=\"#505050\" stroke-width=\"0\"/><path aria-label=\"x1: 66; x2: 67.9; level: 16; level2: 16.9; status: Default; sf: preprocess_args at broadcast.jl:956 [inlined]\" role=\"graphics-symbol\" aria-roledescription=\"rect mark\" d=\"M150.85714285714286,231h4.342857142857156v9h-4.342857142857156Z\" fill=\"#4c78a8\" fill-opacity=\"1\" stroke=\"#505050\" stroke-width=\"0\"/><path aria-label=\"x1: 66; x2: 66.9; level: 17; level2: 17.9; status: Default; sf: size at array.jl:0 [inlined]\" role=\"graphics-symbol\" aria-roledescription=\"rect mark\" d=\"M150.85714285714286,221h2.0571428571428783v8.999999999999972h-2.0571428571428783Z\" fill=\"#4c78a8\" fill-opacity=\"1\" stroke=\"#505050\" stroke-width=\"0\"/><path aria-label=\"x1: 67; x2: 67.9; level: 17; level2: 17.9; status: Default; sf: preprocess at broadcast.jl:954 [inlined]\" role=\"graphics-symbol\" aria-roledescription=\"rect mark\" d=\"M153.14285714285714,221h2.0571428571428783v8.999999999999972h-2.0571428571428783Z\" fill=\"#4c78a8\" fill-opacity=\"1\" stroke=\"#505050\" stroke-width=\"0\"/><path aria-label=\"x1: 67; x2: 67.9; level: 18; level2: 18.9; status: Default; sf: extrude at broadcast.jl:650 [inlined]\" role=\"graphics-symbol\" aria-roledescription=\"rect mark\" d=\"M153.14285714285714,211.00000000000003h2.0571428571428783v9h-2.0571428571428783Z\" fill=\"#4c78a8\" fill-opacity=\"1\" stroke=\"#505050\" stroke-width=\"0\"/><path aria-label=\"x1: 67; x2: 67.9; level: 19; level2: 19.9; status: Default; sf: newindexer at broadcast.jl:599 [inlined]\" role=\"graphics-symbol\" aria-roledescription=\"rect mark\" d=\"M153.14285714285714,201.00000000000003h2.0571428571428783v8.999999999999972h-2.0571428571428783Z\" fill=\"#4c78a8\" fill-opacity=\"1\" stroke=\"#505050\" stroke-width=\"0\"/><path aria-label=\"x1: 67; x2: 67.9; level: 20; level2: 20.9; status: Default; sf: axes at abstractarray.jl:98 [inlined]\" role=\"graphics-symbol\" aria-roledescription=\"rect mark\" d=\"M153.14285714285714,191h2.0571428571428783v9h-2.0571428571428783Z\" fill=\"#4c78a8\" fill-opacity=\"1\" stroke=\"#505050\" stroke-width=\"0\"/><path aria-label=\"x1: 67; x2: 67.9; level: 21; level2: 21.9; status: Default; sf: size at array.jl:149 [inlined]\" role=\"graphics-symbol\" aria-roledescription=\"rect mark\" d=\"M153.14285714285714,181h2.0571428571428783v9h-2.0571428571428783Z\" fill=\"#4c78a8\" fill-opacity=\"1\" stroke=\"#505050\" stroke-width=\"0\"/><path aria-label=\"x1: 68; x2: 78.9; level: 13; level2: 13.9; status: Default; sf: similar at broadcast.jl:211 [inlined]\" role=\"graphics-symbol\" aria-roledescription=\"rect mark\" d=\"M155.42857142857142,261h24.91428571428574v9h-24.91428571428574Z\" fill=\"#4c78a8\" fill-opacity=\"1\" stroke=\"#505050\" stroke-width=\"0\"/><path aria-label=\"x1: 68; x2: 78.9; level: 14; level2: 14.9; status: Default; sf: similar at broadcast.jl:212 [inlined]\" role=\"graphics-symbol\" aria-roledescription=\"rect mark\" d=\"M155.42857142857142,250.99999999999997h24.91428571428574v9.000000000000028h-24.91428571428574Z\" fill=\"#4c78a8\" fill-opacity=\"1\" stroke=\"#505050\" stroke-width=\"0\"/><path aria-label=\"x1: 68; x2: 78.9; level: 15; level2: 15.9; status: Default; sf: similar at abstractarray.jl:881 [inlined]\" role=\"graphics-symbol\" aria-roledescription=\"rect mark\" d=\"M155.42857142857142,241h24.91428571428574v9h-24.91428571428574Z\" fill=\"#4c78a8\" fill-opacity=\"1\" stroke=\"#505050\" stroke-width=\"0\"/><path aria-label=\"x1: 68; x2: 78.9; level: 16; level2: 16.9; status: Default; sf: similar at abstractarray.jl:882 [inlined]\" role=\"graphics-symbol\" aria-roledescription=\"rect mark\" d=\"M155.42857142857142,231h24.91428571428574v9h-24.91428571428574Z\" fill=\"#4c78a8\" fill-opacity=\"1\" stroke=\"#505050\" stroke-width=\"0\"/><path aria-label=\"x1: 68; x2: 78.9; level: 17; level2: 17.9; status: Default; sf: Array at boot.jl:494 [inlined]\" role=\"graphics-symbol\" aria-roledescription=\"rect mark\" d=\"M155.42857142857142,221h24.91428571428574v8.999999999999972h-24.91428571428574Z\" fill=\"#4c78a8\" fill-opacity=\"1\" stroke=\"#505050\" stroke-width=\"0\"/><path aria-label=\"x1: 68; x2: 78.9; level: 18; level2: 18.9; status: Default; sf: Array at boot.jl:486 [inlined]\" role=\"graphics-symbol\" aria-roledescription=\"rect mark\" d=\"M155.42857142857142,211.00000000000003h24.91428571428574v9h-24.91428571428574Z\" fill=\"#4c78a8\" fill-opacity=\"1\" stroke=\"#505050\" stroke-width=\"0\"/><path aria-label=\"x1: 68; x2: 78.9; level: 19; level2: 19.9; status: Garbage collection; sf: Array at boot.jl:477 [inlined]\" role=\"graphics-symbol\" aria-roledescription=\"rect mark\" d=\"M155.42857142857142,201.00000000000003h24.91428571428574v8.999999999999972h-24.91428571428574Z\" fill=\"#f58518\" fill-opacity=\"1\" stroke=\"#505050\" stroke-width=\"0\"/><path aria-label=\"x1: 79; x2: 79.9; level: 9; level2: 9.9; status: Default; sf: -(A::Vector{ComplexF64}, B::Vector{ComplexF64}) at broadcast.jl:0\" role=\"graphics-symbol\" aria-roledescription=\"rect mark\" d=\"M180.57142857142856,301h2.0571428571429067v9h-2.0571428571429067Z\" fill=\"#4c78a8\" fill-opacity=\"1\" stroke=\"#505050\" stroke-width=\"0\"/><path aria-label=\"x1: 80; x2: 80.9; level: 8; level2: 8.9; status: Default; sf: macro expansion at miemfp.jl:214 [inlined]\" role=\"graphics-symbol\" aria-roledescription=\"rect mark\" d=\"M182.85714285714286,311h2.05714285714285v9h-2.05714285714285Z\" fill=\"#4c78a8\" fill-opacity=\"1\" stroke=\"#505050\" stroke-width=\"0\"/><path aria-label=\"x1: 80; x2: 80.9; level: 9; level2: 9.9; status: Default; sf: sub_fast at fastmath.jl:166 [inlined]\" role=\"graphics-symbol\" aria-roledescription=\"rect mark\" d=\"M182.85714285714286,301h2.05714285714285v9h-2.05714285714285Z\" fill=\"#4c78a8\" fill-opacity=\"1\" stroke=\"#505050\" stroke-width=\"0\"/><path aria-label=\"x1: 81; x2: 81.9; level: 8; level2: 8.9; status: Default; sf: macro expansion at miemfp.jl:220 [inlined]\" role=\"graphics-symbol\" aria-roledescription=\"rect mark\" d=\"M185.14285714285714,311h2.0571428571428783v9h-2.0571428571428783Z\" fill=\"#4c78a8\" fill-opacity=\"1\" stroke=\"#505050\" stroke-width=\"0\"/><path aria-label=\"x1: 81; x2: 81.9; level: 9; level2: 9.9; status: Default; sf: add_fast at fastmath.jl:204 [inlined]\" role=\"graphics-symbol\" aria-roledescription=\"rect mark\" d=\"M185.14285714285714,301h2.0571428571428783v9h-2.0571428571428783Z\" fill=\"#4c78a8\" fill-opacity=\"1\" stroke=\"#505050\" stroke-width=\"0\"/><path aria-label=\"x1: 81; x2: 81.9; level: 10; level2: 10.9; status: Default; sf: add_fast at fastmath.jl:165 [inlined]\" role=\"graphics-symbol\" aria-roledescription=\"rect mark\" d=\"M185.14285714285714,291h2.0571428571428783v9h-2.0571428571428783Z\" fill=\"#4c78a8\" fill-opacity=\"1\" stroke=\"#505050\" stroke-width=\"0\"/><path aria-label=\"x1: 82; x2: 127.9; level: 8; level2: 8.9; status: Default; sf: macro expansion at miemfp.jl:230 [inlined]\" role=\"graphics-symbol\" aria-roledescription=\"rect mark\" d=\"M187.42857142857144,311h104.91428571428571v9h-104.91428571428571Z\" fill=\"#4c78a8\" fill-opacity=\"1\" stroke=\"#505050\" stroke-width=\"0\"/><path aria-label=\"x1: 82; x2: 109.9; level: 9; level2: 9.9; status: Default; sf: materialize at broadcast.jl:873 [inlined]\" role=\"graphics-symbol\" aria-roledescription=\"rect mark\" d=\"M187.42857142857144,301h63.771428571428544v9h-63.771428571428544Z\" fill=\"#4c78a8\" fill-opacity=\"1\" stroke=\"#505050\" stroke-width=\"0\"/><path aria-label=\"x1: 82; x2: 109.9; level: 10; level2: 10.9; status: Default; sf: copy at broadcast.jl:898 [inlined]\" role=\"graphics-symbol\" aria-roledescription=\"rect mark\" d=\"M187.42857142857144,291h63.771428571428544v9h-63.771428571428544Z\" fill=\"#4c78a8\" fill-opacity=\"1\" stroke=\"#505050\" stroke-width=\"0\"/><path aria-label=\"x1: 82; x2: 82.9; level: 11; level2: 11.9; status: Default; sf: copyto! at broadcast.jl:926 [inlined]\" role=\"graphics-symbol\" aria-roledescription=\"rect mark\" d=\"M187.42857142857144,281h2.05714285714285v9h-2.05714285714285Z\" fill=\"#4c78a8\" fill-opacity=\"1\" stroke=\"#505050\" stroke-width=\"0\"/><path aria-label=\"x1: 82; x2: 82.9; level: 12; level2: 12.9; status: Default; sf: copyto! at broadcast.jl:973 [inlined]\" role=\"graphics-symbol\" aria-roledescription=\"rect mark\" d=\"M187.42857142857144,271h2.05714285714285v9h-2.05714285714285Z\" fill=\"#4c78a8\" fill-opacity=\"1\" stroke=\"#505050\" stroke-width=\"0\"/><path aria-label=\"x1: 82; x2: 82.9; level: 13; level2: 13.9; status: Default; sf: macro expansion at simdloop.jl:78 [inlined]\" role=\"graphics-symbol\" aria-roledescription=\"rect mark\" d=\"M187.42857142857144,261h2.05714285714285v9h-2.05714285714285Z\" fill=\"#4c78a8\" fill-opacity=\"1\" stroke=\"#505050\" stroke-width=\"0\"/><path aria-label=\"x1: 82; x2: 82.9; level: 14; level2: 14.9; status: Default; sf: + at int.jl:87 [inlined]\" role=\"graphics-symbol\" aria-roledescription=\"rect mark\" d=\"M187.42857142857144,250.99999999999997h2.05714285714285v9.000000000000028h-2.05714285714285Z\" fill=\"#4c78a8\" fill-opacity=\"1\" stroke=\"#505050\" stroke-width=\"0\"/><path aria-label=\"x1: 83; x2: 109.9; level: 11; level2: 11.9; status: Default; sf: similar at broadcast.jl:211 [inlined]\" role=\"graphics-symbol\" aria-roledescription=\"rect mark\" d=\"M189.71428571428572,281h61.485714285714266v9h-61.485714285714266Z\" fill=\"#4c78a8\" fill-opacity=\"1\" stroke=\"#505050\" stroke-width=\"0\"/><path aria-label=\"x1: 83; x2: 109.9; level: 12; level2: 12.9; status: Default; sf: similar at broadcast.jl:212 [inlined]\" role=\"graphics-symbol\" aria-roledescription=\"rect mark\" d=\"M189.71428571428572,271h61.485714285714266v9h-61.485714285714266Z\" fill=\"#4c78a8\" fill-opacity=\"1\" stroke=\"#505050\" stroke-width=\"0\"/><path aria-label=\"x1: 83; x2: 109.9; level: 13; level2: 13.9; status: Default; sf: similar at abstractarray.jl:881 [inlined]\" role=\"graphics-symbol\" aria-roledescription=\"rect mark\" d=\"M189.71428571428572,261h61.485714285714266v9h-61.485714285714266Z\" fill=\"#4c78a8\" fill-opacity=\"1\" stroke=\"#505050\" stroke-width=\"0\"/><path aria-label=\"x1: 83; x2: 109.9; level: 14; level2: 14.9; status: Default; sf: similar at abstractarray.jl:882 [inlined]\" role=\"graphics-symbol\" aria-roledescription=\"rect mark\" d=\"M189.71428571428572,250.99999999999997h61.485714285714266v9.000000000000028h-61.485714285714266Z\" fill=\"#4c78a8\" fill-opacity=\"1\" stroke=\"#505050\" stroke-width=\"0\"/><path aria-label=\"x1: 83; x2: 109.9; level: 15; level2: 15.9; status: Default; sf: Array at boot.jl:494 [inlined]\" role=\"graphics-symbol\" aria-roledescription=\"rect mark\" d=\"M189.71428571428572,241h61.485714285714266v9h-61.485714285714266Z\" fill=\"#4c78a8\" fill-opacity=\"1\" stroke=\"#505050\" stroke-width=\"0\"/><path aria-label=\"x1: 83; x2: 109.9; level: 16; level2: 16.9; status: Default; sf: Array at boot.jl:486 [inlined]\" role=\"graphics-symbol\" aria-roledescription=\"rect mark\" d=\"M189.71428571428572,231h61.485714285714266v9h-61.485714285714266Z\" fill=\"#4c78a8\" fill-opacity=\"1\" stroke=\"#505050\" stroke-width=\"0\"/><path aria-label=\"x1: 83; x2: 109.9; level: 17; level2: 17.9; status: Garbage collection; sf: Array at boot.jl:477 [inlined]\" role=\"graphics-symbol\" aria-roledescription=\"rect mark\" d=\"M189.71428571428572,221h61.485714285714266v8.999999999999972h-61.485714285714266Z\" fill=\"#f58518\" fill-opacity=\"1\" stroke=\"#505050\" stroke-width=\"0\"/><path aria-label=\"x1: 110; x2: 118.9; level: 9; level2: 9.9; status: Default; sf: mul_fast at fastmath.jl:265 [inlined]\" role=\"graphics-symbol\" aria-roledescription=\"rect mark\" d=\"M251.42857142857142,301h20.342857142857184v9h-20.342857142857184Z\" fill=\"#4c78a8\" fill-opacity=\"1\" stroke=\"#505050\" stroke-width=\"0\"/><path aria-label=\"x1: 110; x2: 118.9; level: 10; level2: 10.9; status: Default; sf: *(A::Int64, B::Vector{Float64}) at arraymath.jl:21\" role=\"graphics-symbol\" aria-roledescription=\"rect mark\" d=\"M251.42857142857142,291h20.342857142857184v9h-20.342857142857184Z\" fill=\"#4c78a8\" fill-opacity=\"1\" stroke=\"#505050\" stroke-width=\"0\"/><path aria-label=\"x1: 110; x2: 118.9; level: 11; level2: 11.9; status: Default; sf: broadcast_preserving_zero_d at broadcast.jl:862 [inlined]\" role=\"graphics-symbol\" aria-roledescription=\"rect mark\" d=\"M251.42857142857142,281h20.342857142857184v9h-20.342857142857184Z\" fill=\"#4c78a8\" fill-opacity=\"1\" stroke=\"#505050\" stroke-width=\"0\"/><path aria-label=\"x1: 110; x2: 118.9; level: 12; level2: 12.9; status: Default; sf: materialize at broadcast.jl:873 [inlined]\" role=\"graphics-symbol\" aria-roledescription=\"rect mark\" d=\"M251.42857142857142,271h20.342857142857184v9h-20.342857142857184Z\" fill=\"#4c78a8\" fill-opacity=\"1\" stroke=\"#505050\" stroke-width=\"0\"/><path aria-label=\"x1: 110; x2: 118.9; level: 13; level2: 13.9; status: Default; sf: copy at broadcast.jl:898 [inlined]\" role=\"graphics-symbol\" aria-roledescription=\"rect mark\" d=\"M251.42857142857142,261h20.342857142857184v9h-20.342857142857184Z\" fill=\"#4c78a8\" fill-opacity=\"1\" stroke=\"#505050\" stroke-width=\"0\"/><path aria-label=\"x1: 110; x2: 118.9; level: 14; level2: 14.9; status: Default; sf: similar at broadcast.jl:211 [inlined]\" role=\"graphics-symbol\" aria-roledescription=\"rect mark\" d=\"M251.42857142857142,250.99999999999997h20.342857142857184v9.000000000000028h-20.342857142857184Z\" fill=\"#4c78a8\" fill-opacity=\"1\" stroke=\"#505050\" stroke-width=\"0\"/><path aria-label=\"x1: 110; x2: 118.9; level: 15; level2: 15.9; status: Default; sf: similar at broadcast.jl:212 [inlined]\" role=\"graphics-symbol\" aria-roledescription=\"rect mark\" d=\"M251.42857142857142,241h20.342857142857184v9h-20.342857142857184Z\" fill=\"#4c78a8\" fill-opacity=\"1\" stroke=\"#505050\" stroke-width=\"0\"/><path aria-label=\"x1: 110; x2: 118.9; level: 16; level2: 16.9; status: Default; sf: similar at abstractarray.jl:881 [inlined]\" role=\"graphics-symbol\" aria-roledescription=\"rect mark\" d=\"M251.42857142857142,231h20.342857142857184v9h-20.342857142857184Z\" fill=\"#4c78a8\" fill-opacity=\"1\" stroke=\"#505050\" stroke-width=\"0\"/><path aria-label=\"x1: 110; x2: 118.9; level: 17; level2: 17.9; status: Default; sf: similar at abstractarray.jl:882 [inlined]\" role=\"graphics-symbol\" aria-roledescription=\"rect mark\" d=\"M251.42857142857142,221h20.342857142857184v8.999999999999972h-20.342857142857184Z\" fill=\"#4c78a8\" fill-opacity=\"1\" stroke=\"#505050\" stroke-width=\"0\"/><path aria-label=\"x1: 110; x2: 118.9; level: 18; level2: 18.9; status: Default; sf: Array at boot.jl:494 [inlined]\" role=\"graphics-symbol\" aria-roledescription=\"rect mark\" d=\"M251.42857142857142,211.00000000000003h20.342857142857184v9h-20.342857142857184Z\" fill=\"#4c78a8\" fill-opacity=\"1\" stroke=\"#505050\" stroke-width=\"0\"/><path aria-label=\"x1: 110; x2: 118.9; level: 19; level2: 19.9; status: Default; sf: Array at boot.jl:486 [inlined]\" role=\"graphics-symbol\" aria-roledescription=\"rect mark\" d=\"M251.42857142857142,201.00000000000003h20.342857142857184v8.999999999999972h-20.342857142857184Z\" fill=\"#4c78a8\" fill-opacity=\"1\" stroke=\"#505050\" stroke-width=\"0\"/><path aria-label=\"x1: 110; x2: 118.9; level: 20; level2: 20.9; status: Default; sf: Array at boot.jl:477 [inlined]\" role=\"graphics-symbol\" aria-roledescription=\"rect mark\" d=\"M251.42857142857142,191h20.342857142857184v9h-20.342857142857184Z\" fill=\"#4c78a8\" fill-opacity=\"1\" stroke=\"#505050\" stroke-width=\"0\"/><path aria-label=\"x1: 119; x2: 127.9; level: 9; level2: 9.9; status: Default; sf: sub_fast at fastmath.jl:265 [inlined]\" role=\"graphics-symbol\" aria-roledescription=\"rect mark\" d=\"M272,301h20.342857142857156v9h-20.342857142857156Z\" fill=\"#4c78a8\" fill-opacity=\"1\" stroke=\"#505050\" stroke-width=\"0\"/><path aria-label=\"x1: 119; x2: 127.9; level: 10; level2: 10.9; status: Default; sf: -(A::Vector{Float64}, B::Vector{Float64}) at arraymath.jl:8\" role=\"graphics-symbol\" aria-roledescription=\"rect mark\" d=\"M272,291h20.342857142857156v9h-20.342857142857156Z\" fill=\"#4c78a8\" fill-opacity=\"1\" stroke=\"#505050\" stroke-width=\"0\"/><path aria-label=\"x1: 119; x2: 127.9; level: 11; level2: 11.9; status: Default; sf: broadcast_preserving_zero_d at broadcast.jl:862 [inlined]\" role=\"graphics-symbol\" aria-roledescription=\"rect mark\" d=\"M272,281h20.342857142857156v9h-20.342857142857156Z\" fill=\"#4c78a8\" fill-opacity=\"1\" stroke=\"#505050\" stroke-width=\"0\"/><path aria-label=\"x1: 119; x2: 127.9; level: 12; level2: 12.9; status: Default; sf: materialize at broadcast.jl:873 [inlined]\" role=\"graphics-symbol\" aria-roledescription=\"rect mark\" d=\"M272,271h20.342857142857156v9h-20.342857142857156Z\" fill=\"#4c78a8\" fill-opacity=\"1\" stroke=\"#505050\" stroke-width=\"0\"/><path aria-label=\"x1: 119; x2: 127.9; level: 13; level2: 13.9; status: Default; sf: copy at broadcast.jl:898 [inlined]\" role=\"graphics-symbol\" aria-roledescription=\"rect mark\" d=\"M272,261h20.342857142857156v9h-20.342857142857156Z\" fill=\"#4c78a8\" fill-opacity=\"1\" stroke=\"#505050\" stroke-width=\"0\"/><path aria-label=\"x1: 119; x2: 119.9; level: 14; level2: 14.9; status: Default; sf: copyto! at broadcast.jl:926 [inlined]\" role=\"graphics-symbol\" aria-roledescription=\"rect mark\" d=\"M272,250.99999999999997h2.0571428571428783v9.000000000000028h-2.0571428571428783Z\" fill=\"#4c78a8\" fill-opacity=\"1\" stroke=\"#505050\" stroke-width=\"0\"/><path aria-label=\"x1: 119; x2: 119.9; level: 15; level2: 15.9; status: Default; sf: copyto! at broadcast.jl:973 [inlined]\" role=\"graphics-symbol\" aria-roledescription=\"rect mark\" d=\"M272,241h2.0571428571428783v9h-2.0571428571428783Z\" fill=\"#4c78a8\" fill-opacity=\"1\" stroke=\"#505050\" stroke-width=\"0\"/><path aria-label=\"x1: 119; x2: 119.9; level: 16; level2: 16.9; status: Default; sf: macro expansion at simdloop.jl:77 [inlined]\" role=\"graphics-symbol\" aria-roledescription=\"rect mark\" d=\"M272,231h2.0571428571428783v9h-2.0571428571428783Z\" fill=\"#4c78a8\" fill-opacity=\"1\" stroke=\"#505050\" stroke-width=\"0\"/><path aria-label=\"x1: 119; x2: 119.9; level: 17; level2: 17.9; status: Default; sf: macro expansion at broadcast.jl:974 [inlined]\" role=\"graphics-symbol\" aria-roledescription=\"rect mark\" d=\"M272,221h2.0571428571428783v8.999999999999972h-2.0571428571428783Z\" fill=\"#4c78a8\" fill-opacity=\"1\" stroke=\"#505050\" stroke-width=\"0\"/><path aria-label=\"x1: 119; x2: 119.9; level: 18; level2: 18.9; status: Default; sf: getindex at broadcast.jl:610 [inlined]\" role=\"graphics-symbol\" aria-roledescription=\"rect mark\" d=\"M272,211.00000000000003h2.0571428571428783v9h-2.0571428571428783Z\" fill=\"#4c78a8\" fill-opacity=\"1\" stroke=\"#505050\" stroke-width=\"0\"/><path aria-label=\"x1: 119; x2: 119.9; level: 19; level2: 19.9; status: Default; sf: _broadcast_getindex at broadcast.jl:655 [inlined]\" role=\"graphics-symbol\" aria-roledescription=\"rect mark\" d=\"M272,201.00000000000003h2.0571428571428783v8.999999999999972h-2.0571428571428783Z\" fill=\"#4c78a8\" fill-opacity=\"1\" stroke=\"#505050\" stroke-width=\"0\"/><path aria-label=\"x1: 119; x2: 119.9; level: 20; level2: 20.9; status: Default; sf: _getindex at broadcast.jl:679 [inlined]\" role=\"graphics-symbol\" aria-roledescription=\"rect mark\" d=\"M272,191h2.0571428571428783v9h-2.0571428571428783Z\" fill=\"#4c78a8\" fill-opacity=\"1\" stroke=\"#505050\" stroke-width=\"0\"/><path aria-label=\"x1: 119; x2: 119.9; level: 21; level2: 21.9; status: Default; sf: _broadcast_getindex at broadcast.jl:649 [inlined]\" role=\"graphics-symbol\" aria-roledescription=\"rect mark\" d=\"M272,181h2.0571428571428783v9h-2.0571428571428783Z\" fill=\"#4c78a8\" fill-opacity=\"1\" stroke=\"#505050\" stroke-width=\"0\"/><path aria-label=\"x1: 119; x2: 119.9; level: 22; level2: 22.9; status: Default; sf: getindex at essentials.jl:13 [inlined]\" role=\"graphics-symbol\" aria-roledescription=\"rect mark\" d=\"M272,171h2.0571428571428783v8.999999999999972h-2.0571428571428783Z\" fill=\"#4c78a8\" fill-opacity=\"1\" stroke=\"#505050\" stroke-width=\"0\"/><path aria-label=\"x1: 120; x2: 127.9; level: 14; level2: 14.9; status: Default; sf: similar at broadcast.jl:211 [inlined]\" role=\"graphics-symbol\" aria-roledescription=\"rect mark\" d=\"M274.2857142857143,250.99999999999997h18.05714285714288v9.000000000000028h-18.05714285714288Z\" fill=\"#4c78a8\" fill-opacity=\"1\" stroke=\"#505050\" stroke-width=\"0\"/><path aria-label=\"x1: 120; x2: 127.9; level: 15; level2: 15.9; status: Default; sf: similar at broadcast.jl:212 [inlined]\" role=\"graphics-symbol\" aria-roledescription=\"rect mark\" d=\"M274.2857142857143,241h18.05714285714288v9h-18.05714285714288Z\" fill=\"#4c78a8\" fill-opacity=\"1\" stroke=\"#505050\" stroke-width=\"0\"/><path aria-label=\"x1: 120; x2: 127.9; level: 16; level2: 16.9; status: Default; sf: similar at abstractarray.jl:881 [inlined]\" role=\"graphics-symbol\" aria-roledescription=\"rect mark\" d=\"M274.2857142857143,231h18.05714285714288v9h-18.05714285714288Z\" fill=\"#4c78a8\" fill-opacity=\"1\" stroke=\"#505050\" stroke-width=\"0\"/><path aria-label=\"x1: 120; x2: 127.9; level: 17; level2: 17.9; status: Default; sf: similar at abstractarray.jl:882 [inlined]\" role=\"graphics-symbol\" aria-roledescription=\"rect mark\" d=\"M274.2857142857143,221h18.05714285714288v8.999999999999972h-18.05714285714288Z\" fill=\"#4c78a8\" fill-opacity=\"1\" stroke=\"#505050\" stroke-width=\"0\"/><path aria-label=\"x1: 120; x2: 127.9; level: 18; level2: 18.9; status: Default; sf: Array at boot.jl:494 [inlined]\" role=\"graphics-symbol\" aria-roledescription=\"rect mark\" d=\"M274.2857142857143,211.00000000000003h18.05714285714288v9h-18.05714285714288Z\" fill=\"#4c78a8\" fill-opacity=\"1\" stroke=\"#505050\" stroke-width=\"0\"/><path aria-label=\"x1: 120; x2: 127.9; level: 19; level2: 19.9; status: Default; sf: Array at boot.jl:486 [inlined]\" role=\"graphics-symbol\" aria-roledescription=\"rect mark\" d=\"M274.2857142857143,201.00000000000003h18.05714285714288v8.999999999999972h-18.05714285714288Z\" fill=\"#4c78a8\" fill-opacity=\"1\" stroke=\"#505050\" stroke-width=\"0\"/><path aria-label=\"x1: 120; x2: 127.9; level: 20; level2: 20.9; status: Garbage collection; sf: Array at boot.jl:477 [inlined]\" role=\"graphics-symbol\" aria-roledescription=\"rect mark\" d=\"M274.2857142857143,191h18.05714285714288v9h-18.05714285714288Z\" fill=\"#f58518\" fill-opacity=\"1\" stroke=\"#505050\" stroke-width=\"0\"/><path aria-label=\"x1: 128; x2: 168.9; level: 8; level2: 8.9; status: Default; sf: macro expansion at miemfp.jl:231 [inlined]\" role=\"graphics-symbol\" aria-roledescription=\"rect mark\" d=\"M292.57142857142856,311h93.48571428571432v9h-93.48571428571432Z\" fill=\"#4c78a8\" fill-opacity=\"1\" stroke=\"#505050\" stroke-width=\"0\"/><path aria-label=\"x1: 128; x2: 129.9; level: 9; level2: 9.9; status: Default; sf: div_fast at fastmath.jl:270 [inlined]\" role=\"graphics-symbol\" aria-roledescription=\"rect mark\" d=\"M292.57142857142856,301h4.342857142857156v9h-4.342857142857156Z\" fill=\"#4c78a8\" fill-opacity=\"1\" stroke=\"#505050\" stroke-width=\"0\"/><path aria-label=\"x1: 128; x2: 129.9; level: 10; level2: 10.9; status: Default; sf: / at int.jl:97 [inlined]\" role=\"graphics-symbol\" aria-roledescription=\"rect mark\" d=\"M292.57142857142856,291h4.342857142857156v9h-4.342857142857156Z\" fill=\"#4c78a8\" fill-opacity=\"1\" stroke=\"#505050\" stroke-width=\"0\"/><path aria-label=\"x1: 128; x2: 129.9; level: 11; level2: 11.9; status: Default; sf: float at float.jl:294 [inlined]\" role=\"graphics-symbol\" aria-roledescription=\"rect mark\" d=\"M292.57142857142856,281h4.342857142857156v9h-4.342857142857156Z\" fill=\"#4c78a8\" fill-opacity=\"1\" stroke=\"#505050\" stroke-width=\"0\"/><path aria-label=\"x1: 128; x2: 129.9; level: 12; level2: 12.9; status: Default; sf: AbstractFloat at float.jl:268 [inlined]\" role=\"graphics-symbol\" aria-roledescription=\"rect mark\" d=\"M292.57142857142856,271h4.342857142857156v9h-4.342857142857156Z\" fill=\"#4c78a8\" fill-opacity=\"1\" stroke=\"#505050\" stroke-width=\"0\"/><path aria-label=\"x1: 128; x2: 129.9; level: 13; level2: 13.9; status: Default; sf: Float64 at float.jl:159 [inlined]\" role=\"graphics-symbol\" aria-roledescription=\"rect mark\" d=\"M292.57142857142856,261h4.342857142857156v9h-4.342857142857156Z\" fill=\"#4c78a8\" fill-opacity=\"1\" stroke=\"#505050\" stroke-width=\"0\"/><path aria-label=\"x1: 130; x2: 168.9; level: 9; level2: 9.9; status: Default; sf: mul_fast at fastmath.jl:265 [inlined]\" role=\"graphics-symbol\" aria-roledescription=\"rect mark\" d=\"M297.14285714285717,301h88.91428571428571v9h-88.91428571428571Z\" fill=\"#4c78a8\" fill-opacity=\"1\" stroke=\"#505050\" stroke-width=\"0\"/><path aria-label=\"x1: 130; x2: 165.9; level: 10; level2: 10.9; status: Default; sf: *(A::ComplexF64, B::Vector{Float64}) at arraymath.jl:21\" role=\"graphics-symbol\" aria-roledescription=\"rect mark\" d=\"M297.14285714285717,291h82.05714285714288v9h-82.05714285714288Z\" fill=\"#4c78a8\" fill-opacity=\"1\" stroke=\"#505050\" stroke-width=\"0\"/><path aria-label=\"x1: 130; x2: 165.9; level: 11; level2: 11.9; status: Default; sf: broadcast_preserving_zero_d at broadcast.jl:862 [inlined]\" role=\"graphics-symbol\" aria-roledescription=\"rect mark\" d=\"M297.14285714285717,281h82.05714285714288v9h-82.05714285714288Z\" fill=\"#4c78a8\" fill-opacity=\"1\" stroke=\"#505050\" stroke-width=\"0\"/><path aria-label=\"x1: 130; x2: 165.9; level: 12; level2: 12.9; status: Default; sf: materialize at broadcast.jl:873 [inlined]\" role=\"graphics-symbol\" aria-roledescription=\"rect mark\" d=\"M297.14285714285717,271h82.05714285714288v9h-82.05714285714288Z\" fill=\"#4c78a8\" fill-opacity=\"1\" stroke=\"#505050\" stroke-width=\"0\"/><path aria-label=\"x1: 130; x2: 165.9; level: 13; level2: 13.9; status: Default; sf: copy at broadcast.jl:898 [inlined]\" role=\"graphics-symbol\" aria-roledescription=\"rect mark\" d=\"M297.14285714285717,261h82.05714285714288v9h-82.05714285714288Z\" fill=\"#4c78a8\" fill-opacity=\"1\" stroke=\"#505050\" stroke-width=\"0\"/><path aria-label=\"x1: 130; x2: 131.9; level: 14; level2: 14.9; status: Default; sf: copyto! at broadcast.jl:926 [inlined]\" role=\"graphics-symbol\" aria-roledescription=\"rect mark\" d=\"M297.14285714285717,250.99999999999997h4.342857142857156v9.000000000000028h-4.342857142857156Z\" fill=\"#4c78a8\" fill-opacity=\"1\" stroke=\"#505050\" stroke-width=\"0\"/><path aria-label=\"x1: 130; x2: 130.9; level: 15; level2: 15.9; status: Default; sf: copyto! at broadcast.jl:962 [inlined]\" role=\"graphics-symbol\" aria-roledescription=\"rect mark\" d=\"M297.14285714285717,241h2.0571428571428214v9h-2.0571428571428214Z\" fill=\"#4c78a8\" fill-opacity=\"1\" stroke=\"#505050\" stroke-width=\"0\"/><path aria-label=\"x1: 130; x2: 130.9; level: 16; level2: 16.9; status: Default; sf: == at tuple.jl:458 [inlined]\" role=\"graphics-symbol\" aria-roledescription=\"rect mark\" d=\"M297.14285714285717,231h2.0571428571428214v9h-2.0571428571428214Z\" fill=\"#4c78a8\" fill-opacity=\"1\" stroke=\"#505050\" stroke-width=\"0\"/><path aria-label=\"x1: 130; x2: 130.9; level: 17; level2: 17.9; status: Default; sf: _eq at tuple.jl:462 [inlined]\" role=\"graphics-symbol\" aria-roledescription=\"rect mark\" d=\"M297.14285714285717,221h2.0571428571428214v8.999999999999972h-2.0571428571428214Z\" fill=\"#4c78a8\" fill-opacity=\"1\" stroke=\"#505050\" stroke-width=\"0\"/><path aria-label=\"x1: 130; x2: 130.9; level: 18; level2: 18.9; status: Default; sf: == at range.jl:1119 [inlined]\" role=\"graphics-symbol\" aria-roledescription=\"rect mark\" d=\"M297.14285714285717,211.00000000000003h2.0571428571428214v9h-2.0571428571428214Z\" fill=\"#4c78a8\" fill-opacity=\"1\" stroke=\"#505050\" stroke-width=\"0\"/><path aria-label=\"x1: 130; x2: 130.9; level: 19; level2: 19.9; status: Default; sf: == at promotion.jl:499 [inlined]\" role=\"graphics-symbol\" aria-roledescription=\"rect mark\" d=\"M297.14285714285717,201.00000000000003h2.0571428571428214v8.999999999999972h-2.0571428571428214Z\" fill=\"#4c78a8\" fill-opacity=\"1\" stroke=\"#505050\" stroke-width=\"0\"/><path aria-label=\"x1: 131; x2: 131.9; level: 15; level2: 15.9; status: Default; sf: copyto! at broadcast.jl:970 [inlined]\" role=\"graphics-symbol\" aria-roledescription=\"rect mark\" d=\"M299.42857142857144,241h2.0571428571428783v9h-2.0571428571428783Z\" fill=\"#4c78a8\" fill-opacity=\"1\" stroke=\"#505050\" stroke-width=\"0\"/><path aria-label=\"x1: 131; x2: 131.9; level: 16; level2: 16.9; status: Default; sf: preprocess at broadcast.jl:953 [inlined]\" role=\"graphics-symbol\" aria-roledescription=\"rect mark\" d=\"M299.42857142857144,231h2.0571428571428783v9h-2.0571428571428783Z\" fill=\"#4c78a8\" fill-opacity=\"1\" stroke=\"#505050\" stroke-width=\"0\"/><path aria-label=\"x1: 131; x2: 131.9; level: 17; level2: 17.9; status: Default; sf: preprocess_args at broadcast.jl:956 [inlined]\" role=\"graphics-symbol\" aria-roledescription=\"rect mark\" d=\"M299.42857142857144,221h2.0571428571428783v8.999999999999972h-2.0571428571428783Z\" fill=\"#4c78a8\" fill-opacity=\"1\" stroke=\"#505050\" stroke-width=\"0\"/><path aria-label=\"x1: 131; x2: 131.9; level: 18; level2: 18.9; status: Default; sf: preprocess_args at broadcast.jl:957 [inlined]\" role=\"graphics-symbol\" aria-roledescription=\"rect mark\" d=\"M299.42857142857144,211.00000000000003h2.0571428571428783v9h-2.0571428571428783Z\" fill=\"#4c78a8\" fill-opacity=\"1\" stroke=\"#505050\" stroke-width=\"0\"/><path aria-label=\"x1: 131; x2: 131.9; level: 19; level2: 19.9; status: Default; sf: preprocess at broadcast.jl:954 [inlined]\" role=\"graphics-symbol\" aria-roledescription=\"rect mark\" d=\"M299.42857142857144,201.00000000000003h2.0571428571428783v8.999999999999972h-2.0571428571428783Z\" fill=\"#4c78a8\" fill-opacity=\"1\" stroke=\"#505050\" stroke-width=\"0\"/><path aria-label=\"x1: 131; x2: 131.9; level: 20; level2: 20.9; status: Default; sf: extrude at broadcast.jl:650 [inlined]\" role=\"graphics-symbol\" aria-roledescription=\"rect mark\" d=\"M299.42857142857144,191h2.0571428571428783v9h-2.0571428571428783Z\" fill=\"#4c78a8\" fill-opacity=\"1\" stroke=\"#505050\" stroke-width=\"0\"/><path aria-label=\"x1: 131; x2: 131.9; level: 21; level2: 21.9; status: Default; sf: newindexer at broadcast.jl:599 [inlined]\" role=\"graphics-symbol\" aria-roledescription=\"rect mark\" d=\"M299.42857142857144,181h2.0571428571428783v9h-2.0571428571428783Z\" fill=\"#4c78a8\" fill-opacity=\"1\" stroke=\"#505050\" stroke-width=\"0\"/><path aria-label=\"x1: 131; x2: 131.9; level: 22; level2: 22.9; status: Default; sf: shapeindexer at broadcast.jl:600 [inlined]\" role=\"graphics-symbol\" aria-roledescription=\"rect mark\" d=\"M299.42857142857144,171h2.0571428571428783v8.999999999999972h-2.0571428571428783Z\" fill=\"#4c78a8\" fill-opacity=\"1\" stroke=\"#505050\" stroke-width=\"0\"/><path aria-label=\"x1: 131; x2: 131.9; level: 23; level2: 23.9; status: Default; sf: _newindexer at broadcast.jl:605 [inlined]\" role=\"graphics-symbol\" aria-roledescription=\"rect mark\" d=\"M299.42857142857144,161.00000000000003h2.0571428571428783v9h-2.0571428571428783Z\" fill=\"#4c78a8\" fill-opacity=\"1\" stroke=\"#505050\" stroke-width=\"0\"/><path aria-label=\"x1: 131; x2: 131.9; level: 24; level2: 24.9; status: Default; sf: != at operators.jl:269 [inlined]\" role=\"graphics-symbol\" aria-roledescription=\"rect mark\" d=\"M299.42857142857144,151.00000000000003h2.0571428571428783v8.999999999999972h-2.0571428571428783Z\" fill=\"#4c78a8\" fill-opacity=\"1\" stroke=\"#505050\" stroke-width=\"0\"/><path aria-label=\"x1: 131; x2: 131.9; level: 25; level2: 25.9; status: Default; sf: == at promotion.jl:499 [inlined]\" role=\"graphics-symbol\" aria-roledescription=\"rect mark\" d=\"M299.42857142857144,141h2.0571428571428783v9h-2.0571428571428783Z\" fill=\"#4c78a8\" fill-opacity=\"1\" stroke=\"#505050\" stroke-width=\"0\"/><path aria-label=\"x1: 132; x2: 165.9; level: 14; level2: 14.9; status: Default; sf: similar at broadcast.jl:211 [inlined]\" role=\"graphics-symbol\" aria-roledescription=\"rect mark\" d=\"M301.7142857142857,250.99999999999997h77.48571428571432v9.000000000000028h-77.48571428571432Z\" fill=\"#4c78a8\" fill-opacity=\"1\" stroke=\"#505050\" stroke-width=\"0\"/><path aria-label=\"x1: 132; x2: 165.9; level: 15; level2: 15.9; status: Default; sf: similar at broadcast.jl:212 [inlined]\" role=\"graphics-symbol\" aria-roledescription=\"rect mark\" d=\"M301.7142857142857,241h77.48571428571432v9h-77.48571428571432Z\" fill=\"#4c78a8\" fill-opacity=\"1\" stroke=\"#505050\" stroke-width=\"0\"/><path aria-label=\"x1: 132; x2: 165.9; level: 16; level2: 16.9; status: Default; sf: similar at abstractarray.jl:881 [inlined]\" role=\"graphics-symbol\" aria-roledescription=\"rect mark\" d=\"M301.7142857142857,231h77.48571428571432v9h-77.48571428571432Z\" fill=\"#4c78a8\" fill-opacity=\"1\" stroke=\"#505050\" stroke-width=\"0\"/><path aria-label=\"x1: 132; x2: 165.9; level: 17; level2: 17.9; status: Default; sf: similar at abstractarray.jl:882 [inlined]\" role=\"graphics-symbol\" aria-roledescription=\"rect mark\" d=\"M301.7142857142857,221h77.48571428571432v8.999999999999972h-77.48571428571432Z\" fill=\"#4c78a8\" fill-opacity=\"1\" stroke=\"#505050\" stroke-width=\"0\"/><path aria-label=\"x1: 132; x2: 165.9; level: 18; level2: 18.9; status: Default; sf: Array at boot.jl:494 [inlined]\" role=\"graphics-symbol\" aria-roledescription=\"rect mark\" d=\"M301.7142857142857,211.00000000000003h77.48571428571432v9h-77.48571428571432Z\" fill=\"#4c78a8\" fill-opacity=\"1\" stroke=\"#505050\" stroke-width=\"0\"/><path aria-label=\"x1: 132; x2: 165.9; level: 19; level2: 19.9; status: Default; sf: Array at boot.jl:486 [inlined]\" role=\"graphics-symbol\" aria-roledescription=\"rect mark\" d=\"M301.7142857142857,201.00000000000003h77.48571428571432v8.999999999999972h-77.48571428571432Z\" fill=\"#4c78a8\" fill-opacity=\"1\" stroke=\"#505050\" stroke-width=\"0\"/><path aria-label=\"x1: 132; x2: 165.9; level: 20; level2: 20.9; status: Garbage collection; sf: Array at boot.jl:477 [inlined]\" role=\"graphics-symbol\" aria-roledescription=\"rect mark\" d=\"M301.7142857142857,191h77.48571428571432v9h-77.48571428571432Z\" fill=\"#f58518\" fill-opacity=\"1\" stroke=\"#505050\" stroke-width=\"0\"/><path aria-label=\"x1: 169; x2: 190.9; level: 8; level2: 8.9; status: Default; sf: macro expansion at miemfp.jl:232 [inlined]\" role=\"graphics-symbol\" aria-roledescription=\"rect mark\" d=\"M386.2857142857143,311h50.057142857142935v9h-50.057142857142935Z\" fill=\"#4c78a8\" fill-opacity=\"1\" stroke=\"#505050\" stroke-width=\"0\"/><path aria-label=\"x1: 169; x2: 182.9; level: 9; level2: 9.9; status: Default; sf: add_fast at fastmath.jl:265 [inlined]\" role=\"graphics-symbol\" aria-roledescription=\"rect mark\" d=\"M386.2857142857143,301h31.7714285714286v9h-31.7714285714286Z\" fill=\"#4c78a8\" fill-opacity=\"1\" stroke=\"#505050\" stroke-width=\"0\"/><path aria-label=\"x1: 169; x2: 169.9; level: 10; level2: 10.9; status: Default; sf: +(A::Vector{ComplexF64}, Bs::Vector{ComplexF64}) at arraymath.jl:14\" role=\"graphics-symbol\" aria-roledescription=\"rect mark\" d=\"M386.2857142857143,291h2.0571428571428783v9h-2.0571428571428783Z\" fill=\"#4c78a8\" fill-opacity=\"1\" stroke=\"#505050\" stroke-width=\"0\"/><path aria-label=\"x1: 169; x2: 169.9; level: 11; level2: 11.9; status: Default; sf: promote_shape at indices.jl:169 [inlined]\" role=\"graphics-symbol\" aria-roledescription=\"rect mark\" d=\"M386.2857142857143,281h2.0571428571428783v9h-2.0571428571428783Z\" fill=\"#4c78a8\" fill-opacity=\"1\" stroke=\"#505050\" stroke-width=\"0\"/><path aria-label=\"x1: 169; x2: 169.9; level: 12; level2: 12.9; status: Default; sf: axes at abstractarray.jl:98 [inlined]\" role=\"graphics-symbol\" aria-roledescription=\"rect mark\" d=\"M386.2857142857143,271h2.0571428571428783v9h-2.0571428571428783Z\" fill=\"#4c78a8\" fill-opacity=\"1\" stroke=\"#505050\" stroke-width=\"0\"/><path aria-label=\"x1: 169; x2: 169.9; level: 13; level2: 13.9; status: Default; sf: size at array.jl:149 [inlined]\" role=\"graphics-symbol\" aria-roledescription=\"rect mark\" d=\"M386.2857142857143,261h2.0571428571428783v9h-2.0571428571428783Z\" fill=\"#4c78a8\" fill-opacity=\"1\" stroke=\"#505050\" stroke-width=\"0\"/><path aria-label=\"x1: 170; x2: 181.9; level: 10; level2: 10.9; status: Default; sf: +(A::Vector{ComplexF64}, Bs::Vector{ComplexF64}) at arraymath.jl:16\" role=\"graphics-symbol\" aria-roledescription=\"rect mark\" d=\"M388.57142857142856,291h27.19999999999999v9h-27.19999999999999Z\" fill=\"#4c78a8\" fill-opacity=\"1\" stroke=\"#505050\" stroke-width=\"0\"/><path aria-label=\"x1: 170; x2: 180.9; level: 11; level2: 11.9; status: Default; sf: broadcast_preserving_zero_d at broadcast.jl:862 [inlined]\" role=\"graphics-symbol\" aria-roledescription=\"rect mark\" d=\"M388.57142857142856,281h24.914285714285768v9h-24.914285714285768Z\" fill=\"#4c78a8\" fill-opacity=\"1\" stroke=\"#505050\" stroke-width=\"0\"/><path aria-label=\"x1: 170; x2: 180.9; level: 12; level2: 12.9; status: Default; sf: materialize at broadcast.jl:873 [inlined]\" role=\"graphics-symbol\" aria-roledescription=\"rect mark\" d=\"M388.57142857142856,271h24.914285714285768v9h-24.914285714285768Z\" fill=\"#4c78a8\" fill-opacity=\"1\" stroke=\"#505050\" stroke-width=\"0\"/><path aria-label=\"x1: 170; x2: 180.9; level: 13; level2: 13.9; status: Default; sf: copy at broadcast.jl:898 [inlined]\" role=\"graphics-symbol\" aria-roledescription=\"rect mark\" d=\"M388.57142857142856,261h24.914285714285768v9h-24.914285714285768Z\" fill=\"#4c78a8\" fill-opacity=\"1\" stroke=\"#505050\" stroke-width=\"0\"/><path aria-label=\"x1: 170; x2: 180.9; level: 14; level2: 14.9; status: Default; sf: similar at broadcast.jl:211 [inlined]\" role=\"graphics-symbol\" aria-roledescription=\"rect mark\" d=\"M388.57142857142856,250.99999999999997h24.914285714285768v9.000000000000028h-24.914285714285768Z\" fill=\"#4c78a8\" fill-opacity=\"1\" stroke=\"#505050\" stroke-width=\"0\"/><path aria-label=\"x1: 170; x2: 180.9; level: 15; level2: 15.9; status: Default; sf: similar at broadcast.jl:212 [inlined]\" role=\"graphics-symbol\" aria-roledescription=\"rect mark\" d=\"M388.57142857142856,241h24.914285714285768v9h-24.914285714285768Z\" fill=\"#4c78a8\" fill-opacity=\"1\" stroke=\"#505050\" stroke-width=\"0\"/><path aria-label=\"x1: 170; x2: 180.9; level: 16; level2: 16.9; status: Default; sf: similar at abstractarray.jl:881 [inlined]\" role=\"graphics-symbol\" aria-roledescription=\"rect mark\" d=\"M388.57142857142856,231h24.914285714285768v9h-24.914285714285768Z\" fill=\"#4c78a8\" fill-opacity=\"1\" stroke=\"#505050\" stroke-width=\"0\"/><path aria-label=\"x1: 170; x2: 180.9; level: 17; level2: 17.9; status: Default; sf: similar at abstractarray.jl:882 [inlined]\" role=\"graphics-symbol\" aria-roledescription=\"rect mark\" d=\"M388.57142857142856,221h24.914285714285768v8.999999999999972h-24.914285714285768Z\" fill=\"#4c78a8\" fill-opacity=\"1\" stroke=\"#505050\" stroke-width=\"0\"/><path aria-label=\"x1: 170; x2: 180.9; level: 18; level2: 18.9; status: Default; sf: Array at boot.jl:494 [inlined]\" role=\"graphics-symbol\" aria-roledescription=\"rect mark\" d=\"M388.57142857142856,211.00000000000003h24.914285714285768v9h-24.914285714285768Z\" fill=\"#4c78a8\" fill-opacity=\"1\" stroke=\"#505050\" stroke-width=\"0\"/><path aria-label=\"x1: 170; x2: 180.9; level: 19; level2: 19.9; status: Default; sf: Array at boot.jl:486 [inlined]\" role=\"graphics-symbol\" aria-roledescription=\"rect mark\" d=\"M388.57142857142856,201.00000000000003h24.914285714285768v8.999999999999972h-24.914285714285768Z\" fill=\"#4c78a8\" fill-opacity=\"1\" stroke=\"#505050\" stroke-width=\"0\"/><path aria-label=\"x1: 170; x2: 180.9; level: 20; level2: 20.9; status: Garbage collection; sf: Array at boot.jl:477 [inlined]\" role=\"graphics-symbol\" aria-roledescription=\"rect mark\" d=\"M388.57142857142856,191h24.914285714285768v9h-24.914285714285768Z\" fill=\"#f58518\" fill-opacity=\"1\" stroke=\"#505050\" stroke-width=\"0\"/><path aria-label=\"x1: 183; x2: 190.9; level: 9; level2: 9.9; status: Default; sf: mul_fast at fastmath.jl:265 [inlined]\" role=\"graphics-symbol\" aria-roledescription=\"rect mark\" d=\"M418.28571428571433,301h18.05714285714288v9h-18.05714285714288Z\" fill=\"#4c78a8\" fill-opacity=\"1\" stroke=\"#505050\" stroke-width=\"0\"/><path aria-label=\"x1: 183; x2: 189.9; level: 10; level2: 10.9; status: Default; sf: *(A::Float64, B::Vector{ComplexF64}) at arraymath.jl:21\" role=\"graphics-symbol\" aria-roledescription=\"rect mark\" d=\"M418.28571428571433,291h15.771428571428544v9h-15.771428571428544Z\" fill=\"#4c78a8\" fill-opacity=\"1\" stroke=\"#505050\" stroke-width=\"0\"/><path aria-label=\"x1: 183; x2: 188.9; level: 11; level2: 11.9; status: Default; sf: broadcast_preserving_zero_d at broadcast.jl:862 [inlined]\" role=\"graphics-symbol\" aria-roledescription=\"rect mark\" d=\"M418.28571428571433,281h13.48571428571421v9h-13.48571428571421Z\" fill=\"#4c78a8\" fill-opacity=\"1\" stroke=\"#505050\" stroke-width=\"0\"/><path aria-label=\"x1: 183; x2: 188.9; level: 12; level2: 12.9; status: Default; sf: materialize at broadcast.jl:873 [inlined]\" role=\"graphics-symbol\" aria-roledescription=\"rect mark\" d=\"M418.28571428571433,271h13.48571428571421v9h-13.48571428571421Z\" fill=\"#4c78a8\" fill-opacity=\"1\" stroke=\"#505050\" stroke-width=\"0\"/><path aria-label=\"x1: 183; x2: 188.9; level: 13; level2: 13.9; status: Default; sf: copy at broadcast.jl:898 [inlined]\" role=\"graphics-symbol\" aria-roledescription=\"rect mark\" d=\"M418.28571428571433,261h13.48571428571421v9h-13.48571428571421Z\" fill=\"#4c78a8\" fill-opacity=\"1\" stroke=\"#505050\" stroke-width=\"0\"/><path aria-label=\"x1: 183; x2: 188.9; level: 14; level2: 14.9; status: Default; sf: similar at broadcast.jl:211 [inlined]\" role=\"graphics-symbol\" aria-roledescription=\"rect mark\" d=\"M418.28571428571433,250.99999999999997h13.48571428571421v9.000000000000028h-13.48571428571421Z\" fill=\"#4c78a8\" fill-opacity=\"1\" stroke=\"#505050\" stroke-width=\"0\"/><path aria-label=\"x1: 183; x2: 188.9; level: 15; level2: 15.9; status: Default; sf: similar at broadcast.jl:212 [inlined]\" role=\"graphics-symbol\" aria-roledescription=\"rect mark\" d=\"M418.28571428571433,241h13.48571428571421v9h-13.48571428571421Z\" fill=\"#4c78a8\" fill-opacity=\"1\" stroke=\"#505050\" stroke-width=\"0\"/><path aria-label=\"x1: 183; x2: 188.9; level: 16; level2: 16.9; status: Default; sf: similar at abstractarray.jl:881 [inlined]\" role=\"graphics-symbol\" aria-roledescription=\"rect mark\" d=\"M418.28571428571433,231h13.48571428571421v9h-13.48571428571421Z\" fill=\"#4c78a8\" fill-opacity=\"1\" stroke=\"#505050\" stroke-width=\"0\"/><path aria-label=\"x1: 183; x2: 188.9; level: 17; level2: 17.9; status: Default; sf: similar at abstractarray.jl:882 [inlined]\" role=\"graphics-symbol\" aria-roledescription=\"rect mark\" d=\"M418.28571428571433,221h13.48571428571421v8.999999999999972h-13.48571428571421Z\" fill=\"#4c78a8\" fill-opacity=\"1\" stroke=\"#505050\" stroke-width=\"0\"/><path aria-label=\"x1: 183; x2: 188.9; level: 18; level2: 18.9; status: Default; sf: Array at boot.jl:494 [inlined]\" role=\"graphics-symbol\" aria-roledescription=\"rect mark\" d=\"M418.28571428571433,211.00000000000003h13.48571428571421v9h-13.48571428571421Z\" fill=\"#4c78a8\" fill-opacity=\"1\" stroke=\"#505050\" stroke-width=\"0\"/><path aria-label=\"x1: 183; x2: 188.9; level: 19; level2: 19.9; status: Default; sf: Array at boot.jl:486 [inlined]\" role=\"graphics-symbol\" aria-roledescription=\"rect mark\" d=\"M418.28571428571433,201.00000000000003h13.48571428571421v8.999999999999972h-13.48571428571421Z\" fill=\"#4c78a8\" fill-opacity=\"1\" stroke=\"#505050\" stroke-width=\"0\"/><path aria-label=\"x1: 183; x2: 188.9; level: 20; level2: 20.9; status: Garbage collection; sf: Array at boot.jl:477 [inlined]\" role=\"graphics-symbol\" aria-roledescription=\"rect mark\" d=\"M418.28571428571433,191h13.48571428571421v9h-13.48571428571421Z\" fill=\"#f58518\" fill-opacity=\"1\" stroke=\"#505050\" stroke-width=\"0\"/><path aria-label=\"x1: 191; x2: 206.9; level: 8; level2: 8.9; status: Default; sf: macro expansion at miemfp.jl:233 [inlined]\" role=\"graphics-symbol\" aria-roledescription=\"rect mark\" d=\"M436.57142857142856,311h36.34285714285721v9h-36.34285714285721Z\" fill=\"#4c78a8\" fill-opacity=\"1\" stroke=\"#505050\" stroke-width=\"0\"/><path aria-label=\"x1: 191; x2: 200.9; level: 9; level2: 9.9; status: Default; sf: add_fast at fastmath.jl:265 [inlined]\" role=\"graphics-symbol\" aria-roledescription=\"rect mark\" d=\"M436.57142857142856,301h22.62857142857149v9h-22.62857142857149Z\" fill=\"#4c78a8\" fill-opacity=\"1\" stroke=\"#505050\" stroke-width=\"0\"/><path aria-label=\"x1: 191; x2: 199.9; level: 10; level2: 10.9; status: Default; sf: +(A::Vector{ComplexF64}, Bs::Vector{ComplexF64}) at arraymath.jl:16\" role=\"graphics-symbol\" aria-roledescription=\"rect mark\" d=\"M436.57142857142856,291h20.342857142857156v9h-20.342857142857156Z\" fill=\"#4c78a8\" fill-opacity=\"1\" stroke=\"#505050\" stroke-width=\"0\"/><path aria-label=\"x1: 191; x2: 199.9; level: 11; level2: 11.9; status: Default; sf: broadcast_preserving_zero_d at broadcast.jl:862 [inlined]\" role=\"graphics-symbol\" aria-roledescription=\"rect mark\" d=\"M436.57142857142856,281h20.342857142857156v9h-20.342857142857156Z\" fill=\"#4c78a8\" fill-opacity=\"1\" stroke=\"#505050\" stroke-width=\"0\"/><path aria-label=\"x1: 191; x2: 199.9; level: 12; level2: 12.9; status: Default; sf: materialize at broadcast.jl:873 [inlined]\" role=\"graphics-symbol\" aria-roledescription=\"rect mark\" d=\"M436.57142857142856,271h20.342857142857156v9h-20.342857142857156Z\" fill=\"#4c78a8\" fill-opacity=\"1\" stroke=\"#505050\" stroke-width=\"0\"/><path aria-label=\"x1: 191; x2: 199.9; level: 13; level2: 13.9; status: Default; sf: copy at broadcast.jl:898 [inlined]\" role=\"graphics-symbol\" aria-roledescription=\"rect mark\" d=\"M436.57142857142856,261h20.342857142857156v9h-20.342857142857156Z\" fill=\"#4c78a8\" fill-opacity=\"1\" stroke=\"#505050\" stroke-width=\"0\"/><path aria-label=\"x1: 191; x2: 199.9; level: 14; level2: 14.9; status: Default; sf: similar at broadcast.jl:211 [inlined]\" role=\"graphics-symbol\" aria-roledescription=\"rect mark\" d=\"M436.57142857142856,250.99999999999997h20.342857142857156v9.000000000000028h-20.342857142857156Z\" fill=\"#4c78a8\" fill-opacity=\"1\" stroke=\"#505050\" stroke-width=\"0\"/><path aria-label=\"x1: 191; x2: 199.9; level: 15; level2: 15.9; status: Default; sf: similar at broadcast.jl:212 [inlined]\" role=\"graphics-symbol\" aria-roledescription=\"rect mark\" d=\"M436.57142857142856,241h20.342857142857156v9h-20.342857142857156Z\" fill=\"#4c78a8\" fill-opacity=\"1\" stroke=\"#505050\" stroke-width=\"0\"/><path aria-label=\"x1: 191; x2: 199.9; level: 16; level2: 16.9; status: Default; sf: similar at abstractarray.jl:881 [inlined]\" role=\"graphics-symbol\" aria-roledescription=\"rect mark\" d=\"M436.57142857142856,231h20.342857142857156v9h-20.342857142857156Z\" fill=\"#4c78a8\" fill-opacity=\"1\" stroke=\"#505050\" stroke-width=\"0\"/><path aria-label=\"x1: 191; x2: 199.9; level: 17; level2: 17.9; status: Default; sf: similar at abstractarray.jl:882 [inlined]\" role=\"graphics-symbol\" aria-roledescription=\"rect mark\" d=\"M436.57142857142856,221h20.342857142857156v8.999999999999972h-20.342857142857156Z\" fill=\"#4c78a8\" fill-opacity=\"1\" stroke=\"#505050\" stroke-width=\"0\"/><path aria-label=\"x1: 191; x2: 199.9; level: 18; level2: 18.9; status: Default; sf: Array at boot.jl:494 [inlined]\" role=\"graphics-symbol\" aria-roledescription=\"rect mark\" d=\"M436.57142857142856,211.00000000000003h20.342857142857156v9h-20.342857142857156Z\" fill=\"#4c78a8\" fill-opacity=\"1\" stroke=\"#505050\" stroke-width=\"0\"/><path aria-label=\"x1: 191; x2: 199.9; level: 19; level2: 19.9; status: Default; sf: Array at boot.jl:486 [inlined]\" role=\"graphics-symbol\" aria-roledescription=\"rect mark\" d=\"M436.57142857142856,201.00000000000003h20.342857142857156v8.999999999999972h-20.342857142857156Z\" fill=\"#4c78a8\" fill-opacity=\"1\" stroke=\"#505050\" stroke-width=\"0\"/><path aria-label=\"x1: 191; x2: 199.9; level: 20; level2: 20.9; status: Garbage collection; sf: Array at boot.jl:477 [inlined]\" role=\"graphics-symbol\" aria-roledescription=\"rect mark\" d=\"M436.57142857142856,191h20.342857142857156v9h-20.342857142857156Z\" fill=\"#f58518\" fill-opacity=\"1\" stroke=\"#505050\" stroke-width=\"0\"/><path aria-label=\"x1: 201; x2: 206.9; level: 9; level2: 9.9; status: Default; sf: mul_fast at fastmath.jl:265 [inlined]\" role=\"graphics-symbol\" aria-roledescription=\"rect mark\" d=\"M459.42857142857144,301h13.485714285714323v9h-13.485714285714323Z\" fill=\"#4c78a8\" fill-opacity=\"1\" stroke=\"#505050\" stroke-width=\"0\"/><path aria-label=\"x1: 201; x2: 206.9; level: 10; level2: 10.9; status: Default; sf: *(A::Float64, B::Vector{ComplexF64}) at arraymath.jl:21\" role=\"graphics-symbol\" aria-roledescription=\"rect mark\" d=\"M459.42857142857144,291h13.485714285714323v9h-13.485714285714323Z\" fill=\"#4c78a8\" fill-opacity=\"1\" stroke=\"#505050\" stroke-width=\"0\"/><path aria-label=\"x1: 201; x2: 206.9; level: 11; level2: 11.9; status: Default; sf: broadcast_preserving_zero_d at broadcast.jl:862 [inlined]\" role=\"graphics-symbol\" aria-roledescription=\"rect mark\" d=\"M459.42857142857144,281h13.485714285714323v9h-13.485714285714323Z\" fill=\"#4c78a8\" fill-opacity=\"1\" stroke=\"#505050\" stroke-width=\"0\"/><path aria-label=\"x1: 201; x2: 206.9; level: 12; level2: 12.9; status: Default; sf: materialize at broadcast.jl:873 [inlined]\" role=\"graphics-symbol\" aria-roledescription=\"rect mark\" d=\"M459.42857142857144,271h13.485714285714323v9h-13.485714285714323Z\" fill=\"#4c78a8\" fill-opacity=\"1\" stroke=\"#505050\" stroke-width=\"0\"/><path aria-label=\"x1: 201; x2: 206.9; level: 13; level2: 13.9; status: Default; sf: copy at broadcast.jl:898 [inlined]\" role=\"graphics-symbol\" aria-roledescription=\"rect mark\" d=\"M459.42857142857144,261h13.485714285714323v9h-13.485714285714323Z\" fill=\"#4c78a8\" fill-opacity=\"1\" stroke=\"#505050\" stroke-width=\"0\"/><path aria-label=\"x1: 201; x2: 201.9; level: 14; level2: 14.9; status: Default; sf: copyto! at broadcast.jl:926 [inlined]\" role=\"graphics-symbol\" aria-roledescription=\"rect mark\" d=\"M459.42857142857144,250.99999999999997h2.0571428571428214v9.000000000000028h-2.0571428571428214Z\" fill=\"#4c78a8\" fill-opacity=\"1\" stroke=\"#505050\" stroke-width=\"0\"/><path aria-label=\"x1: 201; x2: 201.9; level: 15; level2: 15.9; status: Default; sf: copyto! at broadcast.jl:973 [inlined]\" role=\"graphics-symbol\" aria-roledescription=\"rect mark\" d=\"M459.42857142857144,241h2.0571428571428214v9h-2.0571428571428214Z\" fill=\"#4c78a8\" fill-opacity=\"1\" stroke=\"#505050\" stroke-width=\"0\"/><path aria-label=\"x1: 201; x2: 201.9; level: 16; level2: 16.9; status: Default; sf: macro expansion at simdloop.jl:75 [inlined]\" role=\"graphics-symbol\" aria-roledescription=\"rect mark\" d=\"M459.42857142857144,231h2.0571428571428214v9h-2.0571428571428214Z\" fill=\"#4c78a8\" fill-opacity=\"1\" stroke=\"#505050\" stroke-width=\"0\"/><path aria-label=\"x1: 201; x2: 201.9; level: 17; level2: 17.9; status: Default; sf: &lt; at int.jl:83 [inlined]\" role=\"graphics-symbol\" aria-roledescription=\"rect mark\" d=\"M459.42857142857144,221h2.0571428571428214v8.999999999999972h-2.0571428571428214Z\" fill=\"#4c78a8\" fill-opacity=\"1\" stroke=\"#505050\" stroke-width=\"0\"/><path aria-label=\"x1: 202; x2: 206.9; level: 14; level2: 14.9; status: Default; sf: similar at broadcast.jl:211 [inlined]\" role=\"graphics-symbol\" aria-roledescription=\"rect mark\" d=\"M461.7142857142857,250.99999999999997h11.200000000000045v9.000000000000028h-11.200000000000045Z\" fill=\"#4c78a8\" fill-opacity=\"1\" stroke=\"#505050\" stroke-width=\"0\"/><path aria-label=\"x1: 202; x2: 206.9; level: 15; level2: 15.9; status: Default; sf: similar at broadcast.jl:212 [inlined]\" role=\"graphics-symbol\" aria-roledescription=\"rect mark\" d=\"M461.7142857142857,241h11.200000000000045v9h-11.200000000000045Z\" fill=\"#4c78a8\" fill-opacity=\"1\" stroke=\"#505050\" stroke-width=\"0\"/><path aria-label=\"x1: 202; x2: 206.9; level: 16; level2: 16.9; status: Default; sf: similar at abstractarray.jl:881 [inlined]\" role=\"graphics-symbol\" aria-roledescription=\"rect mark\" d=\"M461.7142857142857,231h11.200000000000045v9h-11.200000000000045Z\" fill=\"#4c78a8\" fill-opacity=\"1\" stroke=\"#505050\" stroke-width=\"0\"/><path aria-label=\"x1: 202; x2: 206.9; level: 17; level2: 17.9; status: Default; sf: similar at abstractarray.jl:882 [inlined]\" role=\"graphics-symbol\" aria-roledescription=\"rect mark\" d=\"M461.7142857142857,221h11.200000000000045v8.999999999999972h-11.200000000000045Z\" fill=\"#4c78a8\" fill-opacity=\"1\" stroke=\"#505050\" stroke-width=\"0\"/><path aria-label=\"x1: 202; x2: 206.9; level: 18; level2: 18.9; status: Default; sf: Array at boot.jl:494 [inlined]\" role=\"graphics-symbol\" aria-roledescription=\"rect mark\" d=\"M461.7142857142857,211.00000000000003h11.200000000000045v9h-11.200000000000045Z\" fill=\"#4c78a8\" fill-opacity=\"1\" stroke=\"#505050\" stroke-width=\"0\"/><path aria-label=\"x1: 202; x2: 206.9; level: 19; level2: 19.9; status: Default; sf: Array at boot.jl:486 [inlined]\" role=\"graphics-symbol\" aria-roledescription=\"rect mark\" d=\"M461.7142857142857,201.00000000000003h11.200000000000045v8.999999999999972h-11.200000000000045Z\" fill=\"#4c78a8\" fill-opacity=\"1\" stroke=\"#505050\" stroke-width=\"0\"/><path aria-label=\"x1: 202; x2: 206.9; level: 20; level2: 20.9; status: Garbage collection; sf: Array at boot.jl:477 [inlined]\" role=\"graphics-symbol\" aria-roledescription=\"rect mark\" d=\"M461.7142857142857,191h11.200000000000045v9h-11.200000000000045Z\" fill=\"#f58518\" fill-opacity=\"1\" stroke=\"#505050\" stroke-width=\"0\"/><path aria-label=\"x1: 207; x2: 220.9; level: 8; level2: 8.9; status: Default; sf: macro expansion at miemfp.jl:236 [inlined]\" role=\"graphics-symbol\" aria-roledescription=\"rect mark\" d=\"M473.1428571428571,311h31.7714285714286v9h-31.7714285714286Z\" fill=\"#4c78a8\" fill-opacity=\"1\" stroke=\"#505050\" stroke-width=\"0\"/><path aria-label=\"x1: 207; x2: 212.9; level: 9; level2: 9.9; status: Default; sf: mul_fast at fastmath.jl:265 [inlined]\" role=\"graphics-symbol\" aria-roledescription=\"rect mark\" d=\"M473.1428571428571,301h13.485714285714323v9h-13.485714285714323Z\" fill=\"#4c78a8\" fill-opacity=\"1\" stroke=\"#505050\" stroke-width=\"0\"/><path aria-label=\"x1: 207; x2: 212.9; level: 10; level2: 10.9; status: Default; sf: *(A::Float64, B::Vector{ComplexF64}) at arraymath.jl:21\" role=\"graphics-symbol\" aria-roledescription=\"rect mark\" d=\"M473.1428571428571,291h13.485714285714323v9h-13.485714285714323Z\" fill=\"#4c78a8\" fill-opacity=\"1\" stroke=\"#505050\" stroke-width=\"0\"/><path aria-label=\"x1: 207; x2: 212.9; level: 11; level2: 11.9; status: Default; sf: broadcast_preserving_zero_d at broadcast.jl:862 [inlined]\" role=\"graphics-symbol\" aria-roledescription=\"rect mark\" d=\"M473.1428571428571,281h13.485714285714323v9h-13.485714285714323Z\" fill=\"#4c78a8\" fill-opacity=\"1\" stroke=\"#505050\" stroke-width=\"0\"/><path aria-label=\"x1: 207; x2: 212.9; level: 12; level2: 12.9; status: Default; sf: materialize at broadcast.jl:873 [inlined]\" role=\"graphics-symbol\" aria-roledescription=\"rect mark\" d=\"M473.1428571428571,271h13.485714285714323v9h-13.485714285714323Z\" fill=\"#4c78a8\" fill-opacity=\"1\" stroke=\"#505050\" stroke-width=\"0\"/><path aria-label=\"x1: 207; x2: 212.9; level: 13; level2: 13.9; status: Default; sf: copy at broadcast.jl:898 [inlined]\" role=\"graphics-symbol\" aria-roledescription=\"rect mark\" d=\"M473.1428571428571,261h13.485714285714323v9h-13.485714285714323Z\" fill=\"#4c78a8\" fill-opacity=\"1\" stroke=\"#505050\" stroke-width=\"0\"/><path aria-label=\"x1: 207; x2: 212.9; level: 14; level2: 14.9; status: Default; sf: similar at broadcast.jl:211 [inlined]\" role=\"graphics-symbol\" aria-roledescription=\"rect mark\" d=\"M473.1428571428571,250.99999999999997h13.485714285714323v9.000000000000028h-13.485714285714323Z\" fill=\"#4c78a8\" fill-opacity=\"1\" stroke=\"#505050\" stroke-width=\"0\"/><path aria-label=\"x1: 207; x2: 212.9; level: 15; level2: 15.9; status: Default; sf: similar at broadcast.jl:212 [inlined]\" role=\"graphics-symbol\" aria-roledescription=\"rect mark\" d=\"M473.1428571428571,241h13.485714285714323v9h-13.485714285714323Z\" fill=\"#4c78a8\" fill-opacity=\"1\" stroke=\"#505050\" stroke-width=\"0\"/><path aria-label=\"x1: 207; x2: 212.9; level: 16; level2: 16.9; status: Default; sf: similar at abstractarray.jl:881 [inlined]\" role=\"graphics-symbol\" aria-roledescription=\"rect mark\" d=\"M473.1428571428571,231h13.485714285714323v9h-13.485714285714323Z\" fill=\"#4c78a8\" fill-opacity=\"1\" stroke=\"#505050\" stroke-width=\"0\"/><path aria-label=\"x1: 207; x2: 212.9; level: 17; level2: 17.9; status: Default; sf: similar at abstractarray.jl:882 [inlined]\" role=\"graphics-symbol\" aria-roledescription=\"rect mark\" d=\"M473.1428571428571,221h13.485714285714323v8.999999999999972h-13.485714285714323Z\" fill=\"#4c78a8\" fill-opacity=\"1\" stroke=\"#505050\" stroke-width=\"0\"/><path aria-label=\"x1: 207; x2: 212.9; level: 18; level2: 18.9; status: Default; sf: Array at boot.jl:494 [inlined]\" role=\"graphics-symbol\" aria-roledescription=\"rect mark\" d=\"M473.1428571428571,211.00000000000003h13.485714285714323v9h-13.485714285714323Z\" fill=\"#4c78a8\" fill-opacity=\"1\" stroke=\"#505050\" stroke-width=\"0\"/><path aria-label=\"x1: 207; x2: 212.9; level: 19; level2: 19.9; status: Default; sf: Array at boot.jl:486 [inlined]\" role=\"graphics-symbol\" aria-roledescription=\"rect mark\" d=\"M473.1428571428571,201.00000000000003h13.485714285714323v8.999999999999972h-13.485714285714323Z\" fill=\"#4c78a8\" fill-opacity=\"1\" stroke=\"#505050\" stroke-width=\"0\"/><path aria-label=\"x1: 207; x2: 212.9; level: 20; level2: 20.9; status: Default; sf: Array at boot.jl:477 [inlined]\" role=\"graphics-symbol\" aria-roledescription=\"rect mark\" d=\"M473.1428571428571,191h13.485714285714323v9h-13.485714285714323Z\" fill=\"#4c78a8\" fill-opacity=\"1\" stroke=\"#505050\" stroke-width=\"0\"/><path aria-label=\"x1: 213; x2: 220.9; level: 9; level2: 9.9; status: Default; sf: sub_fast at fastmath.jl:265 [inlined]\" role=\"graphics-symbol\" aria-roledescription=\"rect mark\" d=\"M486.85714285714283,301h18.05714285714288v9h-18.05714285714288Z\" fill=\"#4c78a8\" fill-opacity=\"1\" stroke=\"#505050\" stroke-width=\"0\"/><path aria-label=\"x1: 213; x2: 213.9; level: 10; level2: 10.9; status: Default; sf: -(A::Vector{ComplexF64}, B::Vector{ComplexF64}) at arraymath.jl:7\" role=\"graphics-symbol\" aria-roledescription=\"rect mark\" d=\"M486.85714285714283,291h2.057142857142935v9h-2.057142857142935Z\" fill=\"#4c78a8\" fill-opacity=\"1\" stroke=\"#505050\" stroke-width=\"0\"/><path aria-label=\"x1: 213; x2: 213.9; level: 11; level2: 11.9; status: Default; sf: promote_shape at indices.jl:169 [inlined]\" role=\"graphics-symbol\" aria-roledescription=\"rect mark\" d=\"M486.85714285714283,281h2.057142857142935v9h-2.057142857142935Z\" fill=\"#4c78a8\" fill-opacity=\"1\" stroke=\"#505050\" stroke-width=\"0\"/><path aria-label=\"x1: 213; x2: 213.9; level: 12; level2: 12.9; status: Default; sf: axes at abstractarray.jl:98 [inlined]\" role=\"graphics-symbol\" aria-roledescription=\"rect mark\" d=\"M486.85714285714283,271h2.057142857142935v9h-2.057142857142935Z\" fill=\"#4c78a8\" fill-opacity=\"1\" stroke=\"#505050\" stroke-width=\"0\"/><path aria-label=\"x1: 213; x2: 213.9; level: 13; level2: 13.9; status: Default; sf: size at array.jl:149 [inlined]\" role=\"graphics-symbol\" aria-roledescription=\"rect mark\" d=\"M486.85714285714283,261h2.057142857142935v9h-2.057142857142935Z\" fill=\"#4c78a8\" fill-opacity=\"1\" stroke=\"#505050\" stroke-width=\"0\"/><path aria-label=\"x1: 214; x2: 219.9; level: 10; level2: 10.9; status: Default; sf: -(A::Vector{ComplexF64}, B::Vector{ComplexF64}) at arraymath.jl:8\" role=\"graphics-symbol\" aria-roledescription=\"rect mark\" d=\"M489.14285714285717,291h13.485714285714323v9h-13.485714285714323Z\" fill=\"#4c78a8\" fill-opacity=\"1\" stroke=\"#505050\" stroke-width=\"0\"/><path aria-label=\"x1: 214; x2: 219.9; level: 11; level2: 11.9; status: Default; sf: broadcast_preserving_zero_d at broadcast.jl:862 [inlined]\" role=\"graphics-symbol\" aria-roledescription=\"rect mark\" d=\"M489.14285714285717,281h13.485714285714323v9h-13.485714285714323Z\" fill=\"#4c78a8\" fill-opacity=\"1\" stroke=\"#505050\" stroke-width=\"0\"/><path aria-label=\"x1: 214; x2: 219.9; level: 12; level2: 12.9; status: Default; sf: materialize at broadcast.jl:873 [inlined]\" role=\"graphics-symbol\" aria-roledescription=\"rect mark\" d=\"M489.14285714285717,271h13.485714285714323v9h-13.485714285714323Z\" fill=\"#4c78a8\" fill-opacity=\"1\" stroke=\"#505050\" stroke-width=\"0\"/><path aria-label=\"x1: 214; x2: 219.9; level: 13; level2: 13.9; status: Default; sf: copy at broadcast.jl:898 [inlined]\" role=\"graphics-symbol\" aria-roledescription=\"rect mark\" d=\"M489.14285714285717,261h13.485714285714323v9h-13.485714285714323Z\" fill=\"#4c78a8\" fill-opacity=\"1\" stroke=\"#505050\" stroke-width=\"0\"/><path aria-label=\"x1: 214; x2: 219.9; level: 14; level2: 14.9; status: Default; sf: similar at broadcast.jl:211 [inlined]\" role=\"graphics-symbol\" aria-roledescription=\"rect mark\" d=\"M489.14285714285717,250.99999999999997h13.485714285714323v9.000000000000028h-13.485714285714323Z\" fill=\"#4c78a8\" fill-opacity=\"1\" stroke=\"#505050\" stroke-width=\"0\"/><path aria-label=\"x1: 214; x2: 219.9; level: 15; level2: 15.9; status: Default; sf: similar at broadcast.jl:212 [inlined]\" role=\"graphics-symbol\" aria-roledescription=\"rect mark\" d=\"M489.14285714285717,241h13.485714285714323v9h-13.485714285714323Z\" fill=\"#4c78a8\" fill-opacity=\"1\" stroke=\"#505050\" stroke-width=\"0\"/><path aria-label=\"x1: 214; x2: 219.9; level: 16; level2: 16.9; status: Default; sf: similar at abstractarray.jl:881 [inlined]\" role=\"graphics-symbol\" aria-roledescription=\"rect mark\" d=\"M489.14285714285717,231h13.485714285714323v9h-13.485714285714323Z\" fill=\"#4c78a8\" fill-opacity=\"1\" stroke=\"#505050\" stroke-width=\"0\"/><path aria-label=\"x1: 214; x2: 219.9; level: 17; level2: 17.9; status: Default; sf: similar at abstractarray.jl:882 [inlined]\" role=\"graphics-symbol\" aria-roledescription=\"rect mark\" d=\"M489.14285714285717,221h13.485714285714323v8.999999999999972h-13.485714285714323Z\" fill=\"#4c78a8\" fill-opacity=\"1\" stroke=\"#505050\" stroke-width=\"0\"/><path aria-label=\"x1: 214; x2: 219.9; level: 18; level2: 18.9; status: Default; sf: Array at boot.jl:494 [inlined]\" role=\"graphics-symbol\" aria-roledescription=\"rect mark\" d=\"M489.14285714285717,211.00000000000003h13.485714285714323v9h-13.485714285714323Z\" fill=\"#4c78a8\" fill-opacity=\"1\" stroke=\"#505050\" stroke-width=\"0\"/><path aria-label=\"x1: 214; x2: 219.9; level: 19; level2: 19.9; status: Default; sf: Array at boot.jl:486 [inlined]\" role=\"graphics-symbol\" aria-roledescription=\"rect mark\" d=\"M489.14285714285717,201.00000000000003h13.485714285714323v8.999999999999972h-13.485714285714323Z\" fill=\"#4c78a8\" fill-opacity=\"1\" stroke=\"#505050\" stroke-width=\"0\"/><path aria-label=\"x1: 214; x2: 219.9; level: 20; level2: 20.9; status: Garbage collection; sf: Array at boot.jl:477 [inlined]\" role=\"graphics-symbol\" aria-roledescription=\"rect mark\" d=\"M489.14285714285717,191h13.485714285714323v9h-13.485714285714323Z\" fill=\"#f58518\" fill-opacity=\"1\" stroke=\"#505050\" stroke-width=\"0\"/><path aria-label=\"x1: 220; x2: 220.9; level: 10; level2: 10.9; status: Default; sf: -(A::Vector{ComplexF64}, B::Vector{ComplexF64}) at broadcast.jl:0\" role=\"graphics-symbol\" aria-roledescription=\"rect mark\" d=\"M502.85714285714283,291h2.0571428571428783v9h-2.0571428571428783Z\" fill=\"#4c78a8\" fill-opacity=\"1\" stroke=\"#505050\" stroke-width=\"0\"/><path aria-label=\"x1: 221; x2: 227.9; level: 8; level2: 8.9; status: Default; sf: macro expansion at miemfp.jl:239 [inlined]\" role=\"graphics-symbol\" aria-roledescription=\"rect mark\" d=\"M505.14285714285717,311h15.771428571428544v9h-15.771428571428544Z\" fill=\"#4c78a8\" fill-opacity=\"1\" stroke=\"#505050\" stroke-width=\"0\"/><path aria-label=\"x1: 221; x2: 225.9; level: 9; level2: 9.9; status: Default; sf: mul_fast at fastmath.jl:265 [inlined]\" role=\"graphics-symbol\" aria-roledescription=\"rect mark\" d=\"M505.14285714285717,301h11.199999999999989v9h-11.199999999999989Z\" fill=\"#4c78a8\" fill-opacity=\"1\" stroke=\"#505050\" stroke-width=\"0\"/><path aria-label=\"x1: 221; x2: 225.9; level: 10; level2: 10.9; status: Default; sf: *(A::Float64, B::Vector{ComplexF64}) at arraymath.jl:21\" role=\"graphics-symbol\" aria-roledescription=\"rect mark\" d=\"M505.14285714285717,291h11.199999999999989v9h-11.199999999999989Z\" fill=\"#4c78a8\" fill-opacity=\"1\" stroke=\"#505050\" stroke-width=\"0\"/><path aria-label=\"x1: 221; x2: 224.9; level: 11; level2: 11.9; status: Default; sf: broadcast_preserving_zero_d at broadcast.jl:862 [inlined]\" role=\"graphics-symbol\" aria-roledescription=\"rect mark\" d=\"M505.14285714285717,281h8.914285714285654v9h-8.914285714285654Z\" fill=\"#4c78a8\" fill-opacity=\"1\" stroke=\"#505050\" stroke-width=\"0\"/><path aria-label=\"x1: 221; x2: 224.9; level: 12; level2: 12.9; status: Default; sf: materialize at broadcast.jl:873 [inlined]\" role=\"graphics-symbol\" aria-roledescription=\"rect mark\" d=\"M505.14285714285717,271h8.914285714285654v9h-8.914285714285654Z\" fill=\"#4c78a8\" fill-opacity=\"1\" stroke=\"#505050\" stroke-width=\"0\"/><path aria-label=\"x1: 221; x2: 224.9; level: 13; level2: 13.9; status: Default; sf: copy at broadcast.jl:898 [inlined]\" role=\"graphics-symbol\" aria-roledescription=\"rect mark\" d=\"M505.14285714285717,261h8.914285714285654v9h-8.914285714285654Z\" fill=\"#4c78a8\" fill-opacity=\"1\" stroke=\"#505050\" stroke-width=\"0\"/><path aria-label=\"x1: 221; x2: 224.9; level: 14; level2: 14.9; status: Default; sf: similar at broadcast.jl:211 [inlined]\" role=\"graphics-symbol\" aria-roledescription=\"rect mark\" d=\"M505.14285714285717,250.99999999999997h8.914285714285654v9.000000000000028h-8.914285714285654Z\" fill=\"#4c78a8\" fill-opacity=\"1\" stroke=\"#505050\" stroke-width=\"0\"/><path aria-label=\"x1: 221; x2: 224.9; level: 15; level2: 15.9; status: Default; sf: similar at broadcast.jl:212 [inlined]\" role=\"graphics-symbol\" aria-roledescription=\"rect mark\" d=\"M505.14285714285717,241h8.914285714285654v9h-8.914285714285654Z\" fill=\"#4c78a8\" fill-opacity=\"1\" stroke=\"#505050\" stroke-width=\"0\"/><path aria-label=\"x1: 221; x2: 224.9; level: 16; level2: 16.9; status: Default; sf: similar at abstractarray.jl:881 [inlined]\" role=\"graphics-symbol\" aria-roledescription=\"rect mark\" d=\"M505.14285714285717,231h8.914285714285654v9h-8.914285714285654Z\" fill=\"#4c78a8\" fill-opacity=\"1\" stroke=\"#505050\" stroke-width=\"0\"/><path aria-label=\"x1: 221; x2: 224.9; level: 17; level2: 17.9; status: Default; sf: similar at abstractarray.jl:882 [inlined]\" role=\"graphics-symbol\" aria-roledescription=\"rect mark\" d=\"M505.14285714285717,221h8.914285714285654v8.999999999999972h-8.914285714285654Z\" fill=\"#4c78a8\" fill-opacity=\"1\" stroke=\"#505050\" stroke-width=\"0\"/><path aria-label=\"x1: 221; x2: 224.9; level: 18; level2: 18.9; status: Default; sf: Array at boot.jl:494 [inlined]\" role=\"graphics-symbol\" aria-roledescription=\"rect mark\" d=\"M505.14285714285717,211.00000000000003h8.914285714285654v9h-8.914285714285654Z\" fill=\"#4c78a8\" fill-opacity=\"1\" stroke=\"#505050\" stroke-width=\"0\"/><path aria-label=\"x1: 221; x2: 224.9; level: 19; level2: 19.9; status: Default; sf: Array at boot.jl:486 [inlined]\" role=\"graphics-symbol\" aria-roledescription=\"rect mark\" d=\"M505.14285714285717,201.00000000000003h8.914285714285654v8.999999999999972h-8.914285714285654Z\" fill=\"#4c78a8\" fill-opacity=\"1\" stroke=\"#505050\" stroke-width=\"0\"/><path aria-label=\"x1: 221; x2: 224.9; level: 20; level2: 20.9; status: Default; sf: Array at boot.jl:477 [inlined]\" role=\"graphics-symbol\" aria-roledescription=\"rect mark\" d=\"M505.14285714285717,191h8.914285714285654v9h-8.914285714285654Z\" fill=\"#4c78a8\" fill-opacity=\"1\" stroke=\"#505050\" stroke-width=\"0\"/><path aria-label=\"x1: 226; x2: 227.9; level: 9; level2: 9.9; status: Default; sf: sub_fast at fastmath.jl:265 [inlined]\" role=\"graphics-symbol\" aria-roledescription=\"rect mark\" d=\"M516.5714285714286,301h4.342857142857156v9h-4.342857142857156Z\" fill=\"#4c78a8\" fill-opacity=\"1\" stroke=\"#505050\" stroke-width=\"0\"/><path aria-label=\"x1: 226; x2: 227.9; level: 10; level2: 10.9; status: Default; sf: -(A::Vector{ComplexF64}, B::Vector{ComplexF64}) at arraymath.jl:8\" role=\"graphics-symbol\" aria-roledescription=\"rect mark\" d=\"M516.5714285714286,291h4.342857142857156v9h-4.342857142857156Z\" fill=\"#4c78a8\" fill-opacity=\"1\" stroke=\"#505050\" stroke-width=\"0\"/><path aria-label=\"x1: 226; x2: 227.9; level: 11; level2: 11.9; status: Default; sf: broadcast_preserving_zero_d at broadcast.jl:862 [inlined]\" role=\"graphics-symbol\" aria-roledescription=\"rect mark\" d=\"M516.5714285714286,281h4.342857142857156v9h-4.342857142857156Z\" fill=\"#4c78a8\" fill-opacity=\"1\" stroke=\"#505050\" stroke-width=\"0\"/><path aria-label=\"x1: 226; x2: 227.9; level: 12; level2: 12.9; status: Default; sf: materialize at broadcast.jl:873 [inlined]\" role=\"graphics-symbol\" aria-roledescription=\"rect mark\" d=\"M516.5714285714286,271h4.342857142857156v9h-4.342857142857156Z\" fill=\"#4c78a8\" fill-opacity=\"1\" stroke=\"#505050\" stroke-width=\"0\"/><path aria-label=\"x1: 226; x2: 227.9; level: 13; level2: 13.9; status: Default; sf: copy at broadcast.jl:898 [inlined]\" role=\"graphics-symbol\" aria-roledescription=\"rect mark\" d=\"M516.5714285714286,261h4.342857142857156v9h-4.342857142857156Z\" fill=\"#4c78a8\" fill-opacity=\"1\" stroke=\"#505050\" stroke-width=\"0\"/><path aria-label=\"x1: 226; x2: 227.9; level: 14; level2: 14.9; status: Default; sf: similar at broadcast.jl:211 [inlined]\" role=\"graphics-symbol\" aria-roledescription=\"rect mark\" d=\"M516.5714285714286,250.99999999999997h4.342857142857156v9.000000000000028h-4.342857142857156Z\" fill=\"#4c78a8\" fill-opacity=\"1\" stroke=\"#505050\" stroke-width=\"0\"/><path aria-label=\"x1: 226; x2: 227.9; level: 15; level2: 15.9; status: Default; sf: similar at broadcast.jl:212 [inlined]\" role=\"graphics-symbol\" aria-roledescription=\"rect mark\" d=\"M516.5714285714286,241h4.342857142857156v9h-4.342857142857156Z\" fill=\"#4c78a8\" fill-opacity=\"1\" stroke=\"#505050\" stroke-width=\"0\"/><path aria-label=\"x1: 226; x2: 227.9; level: 16; level2: 16.9; status: Default; sf: similar at abstractarray.jl:881 [inlined]\" role=\"graphics-symbol\" aria-roledescription=\"rect mark\" d=\"M516.5714285714286,231h4.342857142857156v9h-4.342857142857156Z\" fill=\"#4c78a8\" fill-opacity=\"1\" stroke=\"#505050\" stroke-width=\"0\"/><path aria-label=\"x1: 226; x2: 227.9; level: 17; level2: 17.9; status: Default; sf: similar at abstractarray.jl:882 [inlined]\" role=\"graphics-symbol\" aria-roledescription=\"rect mark\" d=\"M516.5714285714286,221h4.342857142857156v8.999999999999972h-4.342857142857156Z\" fill=\"#4c78a8\" fill-opacity=\"1\" stroke=\"#505050\" stroke-width=\"0\"/><path aria-label=\"x1: 226; x2: 227.9; level: 18; level2: 18.9; status: Default; sf: Array at boot.jl:494 [inlined]\" role=\"graphics-symbol\" aria-roledescription=\"rect mark\" d=\"M516.5714285714286,211.00000000000003h4.342857142857156v9h-4.342857142857156Z\" fill=\"#4c78a8\" fill-opacity=\"1\" stroke=\"#505050\" stroke-width=\"0\"/><path aria-label=\"x1: 226; x2: 227.9; level: 19; level2: 19.9; status: Default; sf: Array at boot.jl:486 [inlined]\" role=\"graphics-symbol\" aria-roledescription=\"rect mark\" d=\"M516.5714285714286,201.00000000000003h4.342857142857156v8.999999999999972h-4.342857142857156Z\" fill=\"#4c78a8\" fill-opacity=\"1\" stroke=\"#505050\" stroke-width=\"0\"/><path aria-label=\"x1: 226; x2: 227.9; level: 20; level2: 20.9; status: Default; sf: Array at boot.jl:477 [inlined]\" role=\"graphics-symbol\" aria-roledescription=\"rect mark\" d=\"M516.5714285714286,191h4.342857142857156v9h-4.342857142857156Z\" fill=\"#4c78a8\" fill-opacity=\"1\" stroke=\"#505050\" stroke-width=\"0\"/><path aria-label=\"x1: 228; x2: 265.9; level: 8; level2: 8.9; status: Default; sf: macro expansion at miemfp.jl:242 [inlined]\" role=\"graphics-symbol\" aria-roledescription=\"rect mark\" d=\"M521.1428571428572,311h86.62857142857126v9h-86.62857142857126Z\" fill=\"#4c78a8\" fill-opacity=\"1\" stroke=\"#505050\" stroke-width=\"0\"/><path aria-label=\"x1: 228; x2: 236.9; level: 9; level2: 9.9; status: Default; sf: materialize at broadcast.jl:873 [inlined]\" role=\"graphics-symbol\" aria-roledescription=\"rect mark\" d=\"M521.1428571428572,301h20.342857142857042v9h-20.342857142857042Z\" fill=\"#4c78a8\" fill-opacity=\"1\" stroke=\"#505050\" stroke-width=\"0\"/><path aria-label=\"x1: 228; x2: 235.9; level: 10; level2: 10.9; status: Default; sf: copy at broadcast.jl:898 [inlined]\" role=\"graphics-symbol\" aria-roledescription=\"rect mark\" d=\"M521.1428571428572,291h18.05714285714282v9h-18.05714285714282Z\" fill=\"#4c78a8\" fill-opacity=\"1\" stroke=\"#505050\" stroke-width=\"0\"/><path aria-label=\"x1: 228; x2: 235.9; level: 11; level2: 11.9; status: Default; sf: similar at broadcast.jl:211 [inlined]\" role=\"graphics-symbol\" aria-roledescription=\"rect mark\" d=\"M521.1428571428572,281h18.05714285714282v9h-18.05714285714282Z\" fill=\"#4c78a8\" fill-opacity=\"1\" stroke=\"#505050\" stroke-width=\"0\"/><path aria-label=\"x1: 228; x2: 235.9; level: 12; level2: 12.9; status: Default; sf: similar at broadcast.jl:212 [inlined]\" role=\"graphics-symbol\" aria-roledescription=\"rect mark\" d=\"M521.1428571428572,271h18.05714285714282v9h-18.05714285714282Z\" fill=\"#4c78a8\" fill-opacity=\"1\" stroke=\"#505050\" stroke-width=\"0\"/><path aria-label=\"x1: 228; x2: 235.9; level: 13; level2: 13.9; status: Default; sf: similar at abstractarray.jl:881 [inlined]\" role=\"graphics-symbol\" aria-roledescription=\"rect mark\" d=\"M521.1428571428572,261h18.05714285714282v9h-18.05714285714282Z\" fill=\"#4c78a8\" fill-opacity=\"1\" stroke=\"#505050\" stroke-width=\"0\"/><path aria-label=\"x1: 228; x2: 235.9; level: 14; level2: 14.9; status: Default; sf: similar at abstractarray.jl:882 [inlined]\" role=\"graphics-symbol\" aria-roledescription=\"rect mark\" d=\"M521.1428571428572,250.99999999999997h18.05714285714282v9.000000000000028h-18.05714285714282Z\" fill=\"#4c78a8\" fill-opacity=\"1\" stroke=\"#505050\" stroke-width=\"0\"/><path aria-label=\"x1: 228; x2: 235.9; level: 15; level2: 15.9; status: Default; sf: Array at boot.jl:494 [inlined]\" role=\"graphics-symbol\" aria-roledescription=\"rect mark\" d=\"M521.1428571428572,241h18.05714285714282v9h-18.05714285714282Z\" fill=\"#4c78a8\" fill-opacity=\"1\" stroke=\"#505050\" stroke-width=\"0\"/><path aria-label=\"x1: 228; x2: 235.9; level: 16; level2: 16.9; status: Default; sf: Array at boot.jl:486 [inlined]\" role=\"graphics-symbol\" aria-roledescription=\"rect mark\" d=\"M521.1428571428572,231h18.05714285714282v9h-18.05714285714282Z\" fill=\"#4c78a8\" fill-opacity=\"1\" stroke=\"#505050\" stroke-width=\"0\"/><path aria-label=\"x1: 228; x2: 235.9; level: 17; level2: 17.9; status: Default; sf: Array at boot.jl:477 [inlined]\" role=\"graphics-symbol\" aria-roledescription=\"rect mark\" d=\"M521.1428571428572,221h18.05714285714282v8.999999999999972h-18.05714285714282Z\" fill=\"#4c78a8\" fill-opacity=\"1\" stroke=\"#505050\" stroke-width=\"0\"/><path aria-label=\"x1: 236; x2: 236.9; level: 10; level2: 10.9; status: Default; sf: instantiate at broadcast.jl:294 [inlined]\" role=\"graphics-symbol\" aria-roledescription=\"rect mark\" d=\"M539.4285714285714,291h2.0571428571428214v9h-2.0571428571428214Z\" fill=\"#4c78a8\" fill-opacity=\"1\" stroke=\"#505050\" stroke-width=\"0\"/><path aria-label=\"x1: 236; x2: 236.9; level: 11; level2: 11.9; status: Default; sf: combine_axes at broadcast.jl:512 [inlined]\" role=\"graphics-symbol\" aria-roledescription=\"rect mark\" d=\"M539.4285714285714,281h2.0571428571428214v9h-2.0571428571428214Z\" fill=\"#4c78a8\" fill-opacity=\"1\" stroke=\"#505050\" stroke-width=\"0\"/><path aria-label=\"x1: 236; x2: 236.9; level: 12; level2: 12.9; status: Default; sf: axes at abstractarray.jl:98 [inlined]\" role=\"graphics-symbol\" aria-roledescription=\"rect mark\" d=\"M539.4285714285714,271h2.0571428571428214v9h-2.0571428571428214Z\" fill=\"#4c78a8\" fill-opacity=\"1\" stroke=\"#505050\" stroke-width=\"0\"/><path aria-label=\"x1: 236; x2: 236.9; level: 13; level2: 13.9; status: Default; sf: size at array.jl:149 [inlined]\" role=\"graphics-symbol\" aria-roledescription=\"rect mark\" d=\"M539.4285714285714,261h2.0571428571428214v9h-2.0571428571428214Z\" fill=\"#4c78a8\" fill-opacity=\"1\" stroke=\"#505050\" stroke-width=\"0\"/><path aria-label=\"x1: 237; x2: 243.9; level: 9; level2: 9.9; status: Default; sf: div_fast at fastmath.jl:265 [inlined]\" role=\"graphics-symbol\" aria-roledescription=\"rect mark\" d=\"M541.7142857142858,301h15.771428571428487v9h-15.771428571428487Z\" fill=\"#4c78a8\" fill-opacity=\"1\" stroke=\"#505050\" stroke-width=\"0\"/><path aria-label=\"x1: 237; x2: 243.9; level: 10; level2: 10.9; status: Default; sf: /(A::Vector{Float64}, B::Int64) at arraymath.jl:24\" role=\"graphics-symbol\" aria-roledescription=\"rect mark\" d=\"M541.7142857142858,291h15.771428571428487v9h-15.771428571428487Z\" fill=\"#4c78a8\" fill-opacity=\"1\" stroke=\"#505050\" stroke-width=\"0\"/><path aria-label=\"x1: 237; x2: 243.9; level: 11; level2: 11.9; status: Default; sf: broadcast_preserving_zero_d at broadcast.jl:862 [inlined]\" role=\"graphics-symbol\" aria-roledescription=\"rect mark\" d=\"M541.7142857142858,281h15.771428571428487v9h-15.771428571428487Z\" fill=\"#4c78a8\" fill-opacity=\"1\" stroke=\"#505050\" stroke-width=\"0\"/><path aria-label=\"x1: 237; x2: 243.9; level: 12; level2: 12.9; status: Default; sf: materialize at broadcast.jl:873 [inlined]\" role=\"graphics-symbol\" aria-roledescription=\"rect mark\" d=\"M541.7142857142858,271h15.771428571428487v9h-15.771428571428487Z\" fill=\"#4c78a8\" fill-opacity=\"1\" stroke=\"#505050\" stroke-width=\"0\"/><path aria-label=\"x1: 237; x2: 243.9; level: 13; level2: 13.9; status: Default; sf: copy at broadcast.jl:898 [inlined]\" role=\"graphics-symbol\" aria-roledescription=\"rect mark\" d=\"M541.7142857142858,261h15.771428571428487v9h-15.771428571428487Z\" fill=\"#4c78a8\" fill-opacity=\"1\" stroke=\"#505050\" stroke-width=\"0\"/><path aria-label=\"x1: 237; x2: 237.9; level: 14; level2: 14.9; status: Default; sf: copyto! at broadcast.jl:926 [inlined]\" role=\"graphics-symbol\" aria-roledescription=\"rect mark\" d=\"M541.7142857142858,250.99999999999997h2.0571428571428214v9.000000000000028h-2.0571428571428214Z\" fill=\"#4c78a8\" fill-opacity=\"1\" stroke=\"#505050\" stroke-width=\"0\"/><path aria-label=\"x1: 237; x2: 237.9; level: 15; level2: 15.9; status: Default; sf: copyto! at broadcast.jl:973 [inlined]\" role=\"graphics-symbol\" aria-roledescription=\"rect mark\" d=\"M541.7142857142858,241h2.0571428571428214v9h-2.0571428571428214Z\" fill=\"#4c78a8\" fill-opacity=\"1\" stroke=\"#505050\" stroke-width=\"0\"/><path aria-label=\"x1: 237; x2: 237.9; level: 16; level2: 16.9; status: Default; sf: macro expansion at simdloop.jl:77 [inlined]\" role=\"graphics-symbol\" aria-roledescription=\"rect mark\" d=\"M541.7142857142858,231h2.0571428571428214v9h-2.0571428571428214Z\" fill=\"#4c78a8\" fill-opacity=\"1\" stroke=\"#505050\" stroke-width=\"0\"/><path aria-label=\"x1: 237; x2: 237.9; level: 17; level2: 17.9; status: Default; sf: macro expansion at broadcast.jl:974 [inlined]\" role=\"graphics-symbol\" aria-roledescription=\"rect mark\" d=\"M541.7142857142858,221h2.0571428571428214v8.999999999999972h-2.0571428571428214Z\" fill=\"#4c78a8\" fill-opacity=\"1\" stroke=\"#505050\" stroke-width=\"0\"/><path aria-label=\"x1: 237; x2: 237.9; level: 18; level2: 18.9; status: Default; sf: setindex! at array.jl:969 [inlined]\" role=\"graphics-symbol\" aria-roledescription=\"rect mark\" d=\"M541.7142857142858,211.00000000000003h2.0571428571428214v9h-2.0571428571428214Z\" fill=\"#4c78a8\" fill-opacity=\"1\" stroke=\"#505050\" stroke-width=\"0\"/><path aria-label=\"x1: 238; x2: 243.9; level: 14; level2: 14.9; status: Default; sf: similar at broadcast.jl:211 [inlined]\" role=\"graphics-symbol\" aria-roledescription=\"rect mark\" d=\"M544,250.99999999999997h13.485714285714266v9.000000000000028h-13.485714285714266Z\" fill=\"#4c78a8\" fill-opacity=\"1\" stroke=\"#505050\" stroke-width=\"0\"/><path aria-label=\"x1: 238; x2: 243.9; level: 15; level2: 15.9; status: Default; sf: similar at broadcast.jl:212 [inlined]\" role=\"graphics-symbol\" aria-roledescription=\"rect mark\" d=\"M544,241h13.485714285714266v9h-13.485714285714266Z\" fill=\"#4c78a8\" fill-opacity=\"1\" stroke=\"#505050\" stroke-width=\"0\"/><path aria-label=\"x1: 238; x2: 243.9; level: 16; level2: 16.9; status: Default; sf: similar at abstractarray.jl:881 [inlined]\" role=\"graphics-symbol\" aria-roledescription=\"rect mark\" d=\"M544,231h13.485714285714266v9h-13.485714285714266Z\" fill=\"#4c78a8\" fill-opacity=\"1\" stroke=\"#505050\" stroke-width=\"0\"/><path aria-label=\"x1: 238; x2: 243.9; level: 17; level2: 17.9; status: Default; sf: similar at abstractarray.jl:882 [inlined]\" role=\"graphics-symbol\" aria-roledescription=\"rect mark\" d=\"M544,221h13.485714285714266v8.999999999999972h-13.485714285714266Z\" fill=\"#4c78a8\" fill-opacity=\"1\" stroke=\"#505050\" stroke-width=\"0\"/><path aria-label=\"x1: 238; x2: 243.9; level: 18; level2: 18.9; status: Default; sf: Array at boot.jl:494 [inlined]\" role=\"graphics-symbol\" aria-roledescription=\"rect mark\" d=\"M544,211.00000000000003h13.485714285714266v9h-13.485714285714266Z\" fill=\"#4c78a8\" fill-opacity=\"1\" stroke=\"#505050\" stroke-width=\"0\"/><path aria-label=\"x1: 238; x2: 243.9; level: 19; level2: 19.9; status: Default; sf: Array at boot.jl:486 [inlined]\" role=\"graphics-symbol\" aria-roledescription=\"rect mark\" d=\"M544,201.00000000000003h13.485714285714266v8.999999999999972h-13.485714285714266Z\" fill=\"#4c78a8\" fill-opacity=\"1\" stroke=\"#505050\" stroke-width=\"0\"/><path aria-label=\"x1: 238; x2: 243.9; level: 20; level2: 20.9; status: Default; sf: Array at boot.jl:477 [inlined]\" role=\"graphics-symbol\" aria-roledescription=\"rect mark\" d=\"M544,191h13.485714285714266v9h-13.485714285714266Z\" fill=\"#4c78a8\" fill-opacity=\"1\" stroke=\"#505050\" stroke-width=\"0\"/><path aria-label=\"x1: 244; x2: 250.9; level: 9; level2: 9.9; status: Default; sf: mul_fast at fastmath.jl:265 [inlined]\" role=\"graphics-symbol\" aria-roledescription=\"rect mark\" d=\"M557.7142857142858,301h15.771428571428487v9h-15.771428571428487Z\" fill=\"#4c78a8\" fill-opacity=\"1\" stroke=\"#505050\" stroke-width=\"0\"/><path aria-label=\"x1: 244; x2: 249.9; level: 10; level2: 10.9; status: Default; sf: *(A::Int64, B::Vector{Float64}) at arraymath.jl:21\" role=\"graphics-symbol\" aria-roledescription=\"rect mark\" d=\"M557.7142857142858,291h13.485714285714153v9h-13.485714285714153Z\" fill=\"#4c78a8\" fill-opacity=\"1\" stroke=\"#505050\" stroke-width=\"0\"/><path aria-label=\"x1: 244; x2: 249.9; level: 11; level2: 11.9; status: Default; sf: broadcast_preserving_zero_d at broadcast.jl:862 [inlined]\" role=\"graphics-symbol\" aria-roledescription=\"rect mark\" d=\"M557.7142857142858,281h13.485714285714153v9h-13.485714285714153Z\" fill=\"#4c78a8\" fill-opacity=\"1\" stroke=\"#505050\" stroke-width=\"0\"/><path aria-label=\"x1: 244; x2: 249.9; level: 12; level2: 12.9; status: Default; sf: materialize at broadcast.jl:873 [inlined]\" role=\"graphics-symbol\" aria-roledescription=\"rect mark\" d=\"M557.7142857142858,271h13.485714285714153v9h-13.485714285714153Z\" fill=\"#4c78a8\" fill-opacity=\"1\" stroke=\"#505050\" stroke-width=\"0\"/><path aria-label=\"x1: 244; x2: 249.9; level: 13; level2: 13.9; status: Default; sf: copy at broadcast.jl:898 [inlined]\" role=\"graphics-symbol\" aria-roledescription=\"rect mark\" d=\"M557.7142857142858,261h13.485714285714153v9h-13.485714285714153Z\" fill=\"#4c78a8\" fill-opacity=\"1\" stroke=\"#505050\" stroke-width=\"0\"/><path aria-label=\"x1: 244; x2: 249.9; level: 14; level2: 14.9; status: Default; sf: similar at broadcast.jl:211 [inlined]\" role=\"graphics-symbol\" aria-roledescription=\"rect mark\" d=\"M557.7142857142858,250.99999999999997h13.485714285714153v9.000000000000028h-13.485714285714153Z\" fill=\"#4c78a8\" fill-opacity=\"1\" stroke=\"#505050\" stroke-width=\"0\"/><path aria-label=\"x1: 244; x2: 249.9; level: 15; level2: 15.9; status: Default; sf: similar at broadcast.jl:212 [inlined]\" role=\"graphics-symbol\" aria-roledescription=\"rect mark\" d=\"M557.7142857142858,241h13.485714285714153v9h-13.485714285714153Z\" fill=\"#4c78a8\" fill-opacity=\"1\" stroke=\"#505050\" stroke-width=\"0\"/><path aria-label=\"x1: 244; x2: 249.9; level: 16; level2: 16.9; status: Default; sf: similar at abstractarray.jl:881 [inlined]\" role=\"graphics-symbol\" aria-roledescription=\"rect mark\" d=\"M557.7142857142858,231h13.485714285714153v9h-13.485714285714153Z\" fill=\"#4c78a8\" fill-opacity=\"1\" stroke=\"#505050\" stroke-width=\"0\"/><path aria-label=\"x1: 244; x2: 249.9; level: 17; level2: 17.9; status: Default; sf: similar at abstractarray.jl:882 [inlined]\" role=\"graphics-symbol\" aria-roledescription=\"rect mark\" d=\"M557.7142857142858,221h13.485714285714153v8.999999999999972h-13.485714285714153Z\" fill=\"#4c78a8\" fill-opacity=\"1\" stroke=\"#505050\" stroke-width=\"0\"/><path aria-label=\"x1: 244; x2: 249.9; level: 18; level2: 18.9; status: Default; sf: Array at boot.jl:494 [inlined]\" role=\"graphics-symbol\" aria-roledescription=\"rect mark\" d=\"M557.7142857142858,211.00000000000003h13.485714285714153v9h-13.485714285714153Z\" fill=\"#4c78a8\" fill-opacity=\"1\" stroke=\"#505050\" stroke-width=\"0\"/><path aria-label=\"x1: 244; x2: 249.9; level: 19; level2: 19.9; status: Default; sf: Array at boot.jl:486 [inlined]\" role=\"graphics-symbol\" aria-roledescription=\"rect mark\" d=\"M557.7142857142858,201.00000000000003h13.485714285714153v8.999999999999972h-13.485714285714153Z\" fill=\"#4c78a8\" fill-opacity=\"1\" stroke=\"#505050\" stroke-width=\"0\"/><path aria-label=\"x1: 244; x2: 249.9; level: 20; level2: 20.9; status: Garbage collection; sf: Array at boot.jl:477 [inlined]\" role=\"graphics-symbol\" aria-roledescription=\"rect mark\" d=\"M557.7142857142858,191h13.485714285714153v9h-13.485714285714153Z\" fill=\"#f58518\" fill-opacity=\"1\" stroke=\"#505050\" stroke-width=\"0\"/><path aria-label=\"x1: 251; x2: 265.9; level: 9; level2: 9.9; status: Default; sf: sub_fast at fastmath.jl:265 [inlined]\" role=\"graphics-symbol\" aria-roledescription=\"rect mark\" d=\"M573.7142857142858,301h34.05714285714271v9h-34.05714285714271Z\" fill=\"#4c78a8\" fill-opacity=\"1\" stroke=\"#505050\" stroke-width=\"0\"/><path aria-label=\"x1: 251; x2: 265.9; level: 10; level2: 10.9; status: Default; sf: -(A::Vector{Float64}, B::Vector{Float64}) at arraymath.jl:8\" role=\"graphics-symbol\" aria-roledescription=\"rect mark\" d=\"M573.7142857142858,291h34.05714285714271v9h-34.05714285714271Z\" fill=\"#4c78a8\" fill-opacity=\"1\" stroke=\"#505050\" stroke-width=\"0\"/><path aria-label=\"x1: 251; x2: 264.9; level: 11; level2: 11.9; status: Default; sf: broadcast_preserving_zero_d at broadcast.jl:862 [inlined]\" role=\"graphics-symbol\" aria-roledescription=\"rect mark\" d=\"M573.7142857142858,281h31.771428571428487v9h-31.771428571428487Z\" fill=\"#4c78a8\" fill-opacity=\"1\" stroke=\"#505050\" stroke-width=\"0\"/><path aria-label=\"x1: 251; x2: 264.9; level: 12; level2: 12.9; status: Default; sf: materialize at broadcast.jl:873 [inlined]\" role=\"graphics-symbol\" aria-roledescription=\"rect mark\" d=\"M573.7142857142858,271h31.771428571428487v9h-31.771428571428487Z\" fill=\"#4c78a8\" fill-opacity=\"1\" stroke=\"#505050\" stroke-width=\"0\"/><path aria-label=\"x1: 251; x2: 264.9; level: 13; level2: 13.9; status: Default; sf: copy at broadcast.jl:898 [inlined]\" role=\"graphics-symbol\" aria-roledescription=\"rect mark\" d=\"M573.7142857142858,261h31.771428571428487v9h-31.771428571428487Z\" fill=\"#4c78a8\" fill-opacity=\"1\" stroke=\"#505050\" stroke-width=\"0\"/><path aria-label=\"x1: 251; x2: 252.9; level: 14; level2: 14.9; status: Default; sf: copyto! at broadcast.jl:926 [inlined]\" role=\"graphics-symbol\" aria-roledescription=\"rect mark\" d=\"M573.7142857142858,250.99999999999997h4.342857142857156v9.000000000000028h-4.342857142857156Z\" fill=\"#4c78a8\" fill-opacity=\"1\" stroke=\"#505050\" stroke-width=\"0\"/><path aria-label=\"x1: 251; x2: 251.9; level: 15; level2: 15.9; status: Default; sf: copyto! at broadcast.jl:962 [inlined]\" role=\"graphics-symbol\" aria-roledescription=\"rect mark\" d=\"M573.7142857142858,241h2.0571428571428214v9h-2.0571428571428214Z\" fill=\"#4c78a8\" fill-opacity=\"1\" stroke=\"#505050\" stroke-width=\"0\"/><path aria-label=\"x1: 251; x2: 251.9; level: 16; level2: 16.9; status: Default; sf: == at tuple.jl:458 [inlined]\" role=\"graphics-symbol\" aria-roledescription=\"rect mark\" d=\"M573.7142857142858,231h2.0571428571428214v9h-2.0571428571428214Z\" fill=\"#4c78a8\" fill-opacity=\"1\" stroke=\"#505050\" stroke-width=\"0\"/><path aria-label=\"x1: 251; x2: 251.9; level: 17; level2: 17.9; status: Default; sf: _eq at tuple.jl:462 [inlined]\" role=\"graphics-symbol\" aria-roledescription=\"rect mark\" d=\"M573.7142857142858,221h2.0571428571428214v8.999999999999972h-2.0571428571428214Z\" fill=\"#4c78a8\" fill-opacity=\"1\" stroke=\"#505050\" stroke-width=\"0\"/><path aria-label=\"x1: 251; x2: 251.9; level: 18; level2: 18.9; status: Default; sf: == at range.jl:1119 [inlined]\" role=\"graphics-symbol\" aria-roledescription=\"rect mark\" d=\"M573.7142857142858,211.00000000000003h2.0571428571428214v9h-2.0571428571428214Z\" fill=\"#4c78a8\" fill-opacity=\"1\" stroke=\"#505050\" stroke-width=\"0\"/><path aria-label=\"x1: 251; x2: 251.9; level: 19; level2: 19.9; status: Default; sf: == at promotion.jl:499 [inlined]\" role=\"graphics-symbol\" aria-roledescription=\"rect mark\" d=\"M573.7142857142858,201.00000000000003h2.0571428571428214v8.999999999999972h-2.0571428571428214Z\" fill=\"#4c78a8\" fill-opacity=\"1\" stroke=\"#505050\" stroke-width=\"0\"/><path aria-label=\"x1: 252; x2: 252.9; level: 15; level2: 15.9; status: Default; sf: copyto! at broadcast.jl:970 [inlined]\" role=\"graphics-symbol\" aria-roledescription=\"rect mark\" d=\"M576,241h2.057142857142935v9h-2.057142857142935Z\" fill=\"#4c78a8\" fill-opacity=\"1\" stroke=\"#505050\" stroke-width=\"0\"/><path aria-label=\"x1: 252; x2: 252.9; level: 16; level2: 16.9; status: Default; sf: preprocess at broadcast.jl:953 [inlined]\" role=\"graphics-symbol\" aria-roledescription=\"rect mark\" d=\"M576,231h2.057142857142935v9h-2.057142857142935Z\" fill=\"#4c78a8\" fill-opacity=\"1\" stroke=\"#505050\" stroke-width=\"0\"/><path aria-label=\"x1: 252; x2: 252.9; level: 17; level2: 17.9; status: Default; sf: preprocess_args at broadcast.jl:956 [inlined]\" role=\"graphics-symbol\" aria-roledescription=\"rect mark\" d=\"M576,221h2.057142857142935v8.999999999999972h-2.057142857142935Z\" fill=\"#4c78a8\" fill-opacity=\"1\" stroke=\"#505050\" stroke-width=\"0\"/><path aria-label=\"x1: 252; x2: 252.9; level: 18; level2: 18.9; status: Default; sf: preprocess at broadcast.jl:954 [inlined]\" role=\"graphics-symbol\" aria-roledescription=\"rect mark\" d=\"M576,211.00000000000003h2.057142857142935v9h-2.057142857142935Z\" fill=\"#4c78a8\" fill-opacity=\"1\" stroke=\"#505050\" stroke-width=\"0\"/><path aria-label=\"x1: 252; x2: 252.9; level: 19; level2: 19.9; status: Default; sf: broadcast_unalias at broadcast.jl:947 [inlined]\" role=\"graphics-symbol\" aria-roledescription=\"rect mark\" d=\"M576,201.00000000000003h2.057142857142935v8.999999999999972h-2.057142857142935Z\" fill=\"#4c78a8\" fill-opacity=\"1\" stroke=\"#505050\" stroke-width=\"0\"/><path aria-label=\"x1: 253; x2: 264.9; level: 14; level2: 14.9; status: Default; sf: similar at broadcast.jl:211 [inlined]\" role=\"graphics-symbol\" aria-roledescription=\"rect mark\" d=\"M578.2857142857143,250.99999999999997h27.199999999999932v9.000000000000028h-27.199999999999932Z\" fill=\"#4c78a8\" fill-opacity=\"1\" stroke=\"#505050\" stroke-width=\"0\"/><path aria-label=\"x1: 253; x2: 264.9; level: 15; level2: 15.9; status: Default; sf: similar at broadcast.jl:212 [inlined]\" role=\"graphics-symbol\" aria-roledescription=\"rect mark\" d=\"M578.2857142857143,241h27.199999999999932v9h-27.199999999999932Z\" fill=\"#4c78a8\" fill-opacity=\"1\" stroke=\"#505050\" stroke-width=\"0\"/><path aria-label=\"x1: 253; x2: 264.9; level: 16; level2: 16.9; status: Default; sf: similar at abstractarray.jl:881 [inlined]\" role=\"graphics-symbol\" aria-roledescription=\"rect mark\" d=\"M578.2857142857143,231h27.199999999999932v9h-27.199999999999932Z\" fill=\"#4c78a8\" fill-opacity=\"1\" stroke=\"#505050\" stroke-width=\"0\"/><path aria-label=\"x1: 253; x2: 264.9; level: 17; level2: 17.9; status: Default; sf: similar at abstractarray.jl:882 [inlined]\" role=\"graphics-symbol\" aria-roledescription=\"rect mark\" d=\"M578.2857142857143,221h27.199999999999932v8.999999999999972h-27.199999999999932Z\" fill=\"#4c78a8\" fill-opacity=\"1\" stroke=\"#505050\" stroke-width=\"0\"/><path aria-label=\"x1: 253; x2: 264.9; level: 18; level2: 18.9; status: Default; sf: Array at boot.jl:494 [inlined]\" role=\"graphics-symbol\" aria-roledescription=\"rect mark\" d=\"M578.2857142857143,211.00000000000003h27.199999999999932v9h-27.199999999999932Z\" fill=\"#4c78a8\" fill-opacity=\"1\" stroke=\"#505050\" stroke-width=\"0\"/><path aria-label=\"x1: 253; x2: 264.9; level: 19; level2: 19.9; status: Default; sf: Array at boot.jl:486 [inlined]\" role=\"graphics-symbol\" aria-roledescription=\"rect mark\" d=\"M578.2857142857143,201.00000000000003h27.199999999999932v8.999999999999972h-27.199999999999932Z\" fill=\"#4c78a8\" fill-opacity=\"1\" stroke=\"#505050\" stroke-width=\"0\"/><path aria-label=\"x1: 253; x2: 264.9; level: 20; level2: 20.9; status: Garbage collection; sf: Array at boot.jl:477 [inlined]\" role=\"graphics-symbol\" aria-roledescription=\"rect mark\" d=\"M578.2857142857143,191h27.199999999999932v9h-27.199999999999932Z\" fill=\"#f58518\" fill-opacity=\"1\" stroke=\"#505050\" stroke-width=\"0\"/><path aria-label=\"x1: 266; x2: 269.9; level: 6; level2: 6.9; status: Default; sf: bhmie(x::Float64, refrel::ComplexF64, nang::UInt32) at miemfp.jl:249\" role=\"graphics-symbol\" aria-roledescription=\"rect mark\" d=\"M608,331h8.914285714285711v9h-8.914285714285711Z\" fill=\"#4c78a8\" fill-opacity=\"1\" stroke=\"#505050\" stroke-width=\"0\"/><path aria-label=\"x1: 266; x2: 266.9; level: 7; level2: 7.9; status: Default; sf: getindex at array.jl:944 [inlined]\" role=\"graphics-symbol\" aria-roledescription=\"rect mark\" d=\"M608,321h2.0571428571427077v9h-2.0571428571427077Z\" fill=\"#4c78a8\" fill-opacity=\"1\" stroke=\"#505050\" stroke-width=\"0\"/><path aria-label=\"x1: 266; x2: 266.9; level: 8; level2: 8.9; status: Default; sf: _array_for at array.jl:674 [inlined]\" role=\"graphics-symbol\" aria-roledescription=\"rect mark\" d=\"M608,311h2.0571428571427077v9h-2.0571428571427077Z\" fill=\"#4c78a8\" fill-opacity=\"1\" stroke=\"#505050\" stroke-width=\"0\"/><path aria-label=\"x1: 266; x2: 266.9; level: 9; level2: 9.9; status: Default; sf: _array_for at array.jl:671 [inlined]\" role=\"graphics-symbol\" aria-roledescription=\"rect mark\" d=\"M608,301h2.0571428571427077v9h-2.0571428571427077Z\" fill=\"#4c78a8\" fill-opacity=\"1\" stroke=\"#505050\" stroke-width=\"0\"/><path aria-label=\"x1: 266; x2: 266.9; level: 10; level2: 10.9; status: Default; sf: similar at abstractarray.jl:881 [inlined]\" role=\"graphics-symbol\" aria-roledescription=\"rect mark\" d=\"M608,291h2.0571428571427077v9h-2.0571428571427077Z\" fill=\"#4c78a8\" fill-opacity=\"1\" stroke=\"#505050\" stroke-width=\"0\"/><path aria-label=\"x1: 266; x2: 266.9; level: 11; level2: 11.9; status: Default; sf: similar at abstractarray.jl:882 [inlined]\" role=\"graphics-symbol\" aria-roledescription=\"rect mark\" d=\"M608,281h2.0571428571427077v9h-2.0571428571427077Z\" fill=\"#4c78a8\" fill-opacity=\"1\" stroke=\"#505050\" stroke-width=\"0\"/><path aria-label=\"x1: 266; x2: 266.9; level: 12; level2: 12.9; status: Default; sf: Array at boot.jl:486 [inlined]\" role=\"graphics-symbol\" aria-roledescription=\"rect mark\" d=\"M608,271h2.0571428571427077v9h-2.0571428571427077Z\" fill=\"#4c78a8\" fill-opacity=\"1\" stroke=\"#505050\" stroke-width=\"0\"/><path aria-label=\"x1: 266; x2: 266.9; level: 13; level2: 13.9; status: Default; sf: Array at boot.jl:477 [inlined]\" role=\"graphics-symbol\" aria-roledescription=\"rect mark\" d=\"M608,261h2.0571428571427077v9h-2.0571428571427077Z\" fill=\"#4c78a8\" fill-opacity=\"1\" stroke=\"#505050\" stroke-width=\"0\"/><path aria-label=\"x1: 267; x2: 268.9; level: 7; level2: 7.9; status: Default; sf: vcat(::Vector{ComplexF64}, ::Vector{ComplexF64}) at array.jl:1940\" role=\"graphics-symbol\" aria-roledescription=\"rect mark\" d=\"M610.2857142857143,321h4.342857142857042v9h-4.342857142857042Z\" fill=\"#4c78a8\" fill-opacity=\"1\" stroke=\"#505050\" stroke-width=\"0\"/><path aria-label=\"x1: 267; x2: 268.9; level: 8; level2: 8.9; status: Default; sf: Array at boot.jl:477 [inlined]\" role=\"graphics-symbol\" aria-roledescription=\"rect mark\" d=\"M610.2857142857143,311h4.342857142857042v9h-4.342857142857042Z\" fill=\"#4c78a8\" fill-opacity=\"1\" stroke=\"#505050\" stroke-width=\"0\"/><path aria-label=\"x1: 269; x2: 269.9; level: 7; level2: 7.9; status: Default; sf: vcat(::Vector{ComplexF64}, ::Vector{ComplexF64}) at array.jl:1947\" role=\"graphics-symbol\" aria-roledescription=\"rect mark\" d=\"M614.8571428571429,321h2.0571428571428214v9h-2.0571428571428214Z\" fill=\"#4c78a8\" fill-opacity=\"1\" stroke=\"#505050\" stroke-width=\"0\"/><path aria-label=\"x1: 269; x2: 269.9; level: 8; level2: 8.9; status: Default; sf: iterate at tuple.jl:68 [inlined]\" role=\"graphics-symbol\" aria-roledescription=\"rect mark\" d=\"M614.8571428571429,311h2.0571428571428214v9h-2.0571428571428214Z\" fill=\"#4c78a8\" fill-opacity=\"1\" stroke=\"#505050\" stroke-width=\"0\"/><path aria-label=\"x1: 269; x2: 269.9; level: 9; level2: 9.9; status: Default; sf: getindex at tuple.jl:29 [inlined]\" role=\"graphics-symbol\" aria-roledescription=\"rect mark\" d=\"M614.8571428571429,301h2.0571428571428214v9h-2.0571428571428214Z\" fill=\"#4c78a8\" fill-opacity=\"1\" stroke=\"#505050\" stroke-width=\"0\"/><path aria-label=\"x1: 270; x2: 273.9; level: 6; level2: 6.9; status: Default; sf: bhmie(x::Float64, refrel::ComplexF64, nang::UInt32) at miemfp.jl:250\" role=\"graphics-symbol\" aria-roledescription=\"rect mark\" d=\"M617.1428571428572,331h8.914285714285597v9h-8.914285714285597Z\" fill=\"#4c78a8\" fill-opacity=\"1\" stroke=\"#505050\" stroke-width=\"0\"/><path aria-label=\"x1: 270; x2: 270.9; level: 7; level2: 7.9; status: Default; sf: getindex at array.jl:944 [inlined]\" role=\"graphics-symbol\" aria-roledescription=\"rect mark\" d=\"M617.1428571428572,321h2.0571428571427077v9h-2.0571428571427077Z\" fill=\"#4c78a8\" fill-opacity=\"1\" stroke=\"#505050\" stroke-width=\"0\"/><path aria-label=\"x1: 270; x2: 270.9; level: 8; level2: 8.9; status: Default; sf: _array_for at array.jl:674 [inlined]\" role=\"graphics-symbol\" aria-roledescription=\"rect mark\" d=\"M617.1428571428572,311h2.0571428571427077v9h-2.0571428571427077Z\" fill=\"#4c78a8\" fill-opacity=\"1\" stroke=\"#505050\" stroke-width=\"0\"/><path aria-label=\"x1: 270; x2: 270.9; level: 9; level2: 9.9; status: Default; sf: _array_for at array.jl:671 [inlined]\" role=\"graphics-symbol\" aria-roledescription=\"rect mark\" d=\"M617.1428571428572,301h2.0571428571427077v9h-2.0571428571427077Z\" fill=\"#4c78a8\" fill-opacity=\"1\" stroke=\"#505050\" stroke-width=\"0\"/><path aria-label=\"x1: 270; x2: 270.9; level: 10; level2: 10.9; status: Default; sf: similar at abstractarray.jl:881 [inlined]\" role=\"graphics-symbol\" aria-roledescription=\"rect mark\" d=\"M617.1428571428572,291h2.0571428571427077v9h-2.0571428571427077Z\" fill=\"#4c78a8\" fill-opacity=\"1\" stroke=\"#505050\" stroke-width=\"0\"/><path aria-label=\"x1: 270; x2: 270.9; level: 11; level2: 11.9; status: Default; sf: similar at abstractarray.jl:882 [inlined]\" role=\"graphics-symbol\" aria-roledescription=\"rect mark\" d=\"M617.1428571428572,281h2.0571428571427077v9h-2.0571428571427077Z\" fill=\"#4c78a8\" fill-opacity=\"1\" stroke=\"#505050\" stroke-width=\"0\"/><path aria-label=\"x1: 270; x2: 270.9; level: 12; level2: 12.9; status: Default; sf: Array at boot.jl:486 [inlined]\" role=\"graphics-symbol\" aria-roledescription=\"rect mark\" d=\"M617.1428571428572,271h2.0571428571427077v9h-2.0571428571427077Z\" fill=\"#4c78a8\" fill-opacity=\"1\" stroke=\"#505050\" stroke-width=\"0\"/><path aria-label=\"x1: 270; x2: 270.9; level: 13; level2: 13.9; status: Default; sf: Array at boot.jl:477 [inlined]\" role=\"graphics-symbol\" aria-roledescription=\"rect mark\" d=\"M617.1428571428572,261h2.0571428571427077v9h-2.0571428571427077Z\" fill=\"#4c78a8\" fill-opacity=\"1\" stroke=\"#505050\" stroke-width=\"0\"/><path aria-label=\"x1: 271; x2: 273.9; level: 7; level2: 7.9; status: Default; sf: vcat(::Vector{ComplexF64}, ::Vector{ComplexF64}) at array.jl:1940\" role=\"graphics-symbol\" aria-roledescription=\"rect mark\" d=\"M619.4285714285714,321h6.628571428571377v9h-6.628571428571377Z\" fill=\"#4c78a8\" fill-opacity=\"1\" stroke=\"#505050\" stroke-width=\"0\"/><path aria-label=\"x1: 271; x2: 273.9; level: 8; level2: 8.9; status: Default; sf: Array at boot.jl:477 [inlined]\" role=\"graphics-symbol\" aria-roledescription=\"rect mark\" d=\"M619.4285714285714,311h6.628571428571377v9h-6.628571428571377Z\" fill=\"#4c78a8\" fill-opacity=\"1\" stroke=\"#505050\" stroke-width=\"0\"/><path aria-label=\"x1: 275; x2: 295.9; level: 5; level2: 5.9; status: Default; sf: _mfp at miemfp.jl:312 [inlined]\" role=\"graphics-symbol\" aria-roledescription=\"rect mark\" d=\"M628.5714285714286,341h47.7714285714286v9h-47.7714285714286Z\" fill=\"#4c78a8\" fill-opacity=\"1\" stroke=\"#505050\" stroke-width=\"0\"/><path aria-label=\"x1: 275; x2: 295.9; level: 6; level2: 6.9; status: Default; sf: mfp(fv::Float64, wavel::Float64, radcor::Float64, omp::Float64, om0::Float64, rn::Float64, rk::Float64) at miemfp.jl:74\" role=\"graphics-symbol\" aria-roledescription=\"rect mark\" d=\"M628.5714285714286,331h47.7714285714286v9h-47.7714285714286Z\" fill=\"#4c78a8\" fill-opacity=\"1\" stroke=\"#505050\" stroke-width=\"0\"/><path aria-label=\"x1: 275; x2: 283.9; level: 7; level2: 7.9; status: Default; sf: _om_manipulations(wavel::Float64, fv::Float64, radcor::Float64, omp::Float64, om0::Float64) at miemfp.jl:56\" role=\"graphics-symbol\" aria-roledescription=\"rect mark\" d=\"M628.5714285714286,321h20.342857142857042v9h-20.342857142857042Z\" fill=\"#4c78a8\" fill-opacity=\"1\" stroke=\"#505050\" stroke-width=\"0\"/><path aria-label=\"x1: 275; x2: 283.9; level: 8; level2: 8.9; status: Default; sf: _om_calc at Memoize.jl:61 [inlined]\" role=\"graphics-symbol\" aria-roledescription=\"rect mark\" d=\"M628.5714285714286,311h20.342857142857042v9h-20.342857142857042Z\" fill=\"#4c78a8\" fill-opacity=\"1\" stroke=\"#505050\" stroke-width=\"0\"/><path aria-label=\"x1: 275; x2: 283.9; level: 9; level2: 9.9; status: Default; sf: get! at iddict.jl:176 [inlined]\" role=\"graphics-symbol\" aria-roledescription=\"rect mark\" d=\"M628.5714285714286,301h20.342857142857042v9h-20.342857142857042Z\" fill=\"#4c78a8\" fill-opacity=\"1\" stroke=\"#505050\" stroke-width=\"0\"/><path aria-label=\"x1: 284; x2: 290.9; level: 7; level2: 7.9; status: Default; sf: _om_manipulations(wavel::Float64, fv::Float64, radcor::Float64, omp::Float64, om0::Float64) at miemfp.jl:58\" role=\"graphics-symbol\" aria-roledescription=\"rect mark\" d=\"M649.1428571428571,321h15.7714285714286v9h-15.7714285714286Z\" fill=\"#4c78a8\" fill-opacity=\"1\" stroke=\"#505050\" stroke-width=\"0\"/><path aria-label=\"x1: 284; x2: 290.9; level: 8; level2: 8.9; status: Default; sf: _om_sq_calc at Memoize.jl:61 [inlined]\" role=\"graphics-symbol\" aria-roledescription=\"rect mark\" d=\"M649.1428571428571,311h15.7714285714286v9h-15.7714285714286Z\" fill=\"#4c78a8\" fill-opacity=\"1\" stroke=\"#505050\" stroke-width=\"0\"/><path aria-label=\"x1: 284; x2: 290.9; level: 9; level2: 9.9; status: Garbage collection; sf: get! at iddict.jl:176 [inlined]\" role=\"graphics-symbol\" aria-roledescription=\"rect mark\" d=\"M649.1428571428571,301h15.7714285714286v9h-15.7714285714286Z\" fill=\"#f58518\" fill-opacity=\"1\" stroke=\"#505050\" stroke-width=\"0\"/><path aria-label=\"x1: 291; x2: 291.9; level: 7; level2: 7.9; status: Default; sf: _om_manipulations(wavel::Float64, fv::Float64, radcor::Float64, omp::Float64, om0::Float64) at miemfp.jl:59\" role=\"graphics-symbol\" aria-roledescription=\"rect mark\" d=\"M665.1428571428571,321h2.0571428571428214v9h-2.0571428571428214Z\" fill=\"#4c78a8\" fill-opacity=\"1\" stroke=\"#505050\" stroke-width=\"0\"/><path aria-label=\"x1: 291; x2: 291.9; level: 8; level2: 8.9; status: Default; sf: _om0_sq_calc at Memoize.jl:61 [inlined]\" role=\"graphics-symbol\" aria-roledescription=\"rect mark\" d=\"M665.1428571428571,311h2.0571428571428214v9h-2.0571428571428214Z\" fill=\"#4c78a8\" fill-opacity=\"1\" stroke=\"#505050\" stroke-width=\"0\"/><path aria-label=\"x1: 291; x2: 291.9; level: 9; level2: 9.9; status: Default; sf: get! at iddict.jl:176 [inlined]\" role=\"graphics-symbol\" aria-roledescription=\"rect mark\" d=\"M665.1428571428571,301h2.0571428571428214v9h-2.0571428571428214Z\" fill=\"#4c78a8\" fill-opacity=\"1\" stroke=\"#505050\" stroke-width=\"0\"/><path aria-label=\"x1: 292; x2: 294.9; level: 7; level2: 7.9; status: Default; sf: _om_manipulations(wavel::Float64, fv::Float64, radcor::Float64, omp::Float64, om0::Float64) at miemfp.jl:60\" role=\"graphics-symbol\" aria-roledescription=\"rect mark\" d=\"M667.4285714285714,321h6.628571428571377v9h-6.628571428571377Z\" fill=\"#4c78a8\" fill-opacity=\"1\" stroke=\"#505050\" stroke-width=\"0\"/><path aria-label=\"x1: 292; x2: 294.9; level: 8; level2: 8.9; status: Default; sf: _omp_sq_calc at Memoize.jl:61 [inlined]\" role=\"graphics-symbol\" aria-roledescription=\"rect mark\" d=\"M667.4285714285714,311h6.628571428571377v9h-6.628571428571377Z\" fill=\"#4c78a8\" fill-opacity=\"1\" stroke=\"#505050\" stroke-width=\"0\"/><path aria-label=\"x1: 292; x2: 294.9; level: 9; level2: 9.9; status: Default; sf: get! at iddict.jl:176 [inlined]\" role=\"graphics-symbol\" aria-roledescription=\"rect mark\" d=\"M667.4285714285714,301h6.628571428571377v9h-6.628571428571377Z\" fill=\"#4c78a8\" fill-opacity=\"1\" stroke=\"#505050\" stroke-width=\"0\"/><path aria-label=\"x1: 295; x2: 295.9; level: 7; level2: 7.9; status: Default; sf: _om_manipulations(wavel::Float64, fv::Float64, radcor::Float64, omp::Float64, om0::Float64) at miemfp.jl:61\" role=\"graphics-symbol\" aria-roledescription=\"rect mark\" d=\"M674.2857142857143,321h2.0571428571428214v9h-2.0571428571428214Z\" fill=\"#4c78a8\" fill-opacity=\"1\" stroke=\"#505050\" stroke-width=\"0\"/><path aria-label=\"x1: 295; x2: 295.9; level: 8; level2: 8.9; status: Default; sf: _om0r_sq_calc at Memoize.jl:61 [inlined]\" role=\"graphics-symbol\" aria-roledescription=\"rect mark\" d=\"M674.2857142857143,311h2.0571428571428214v9h-2.0571428571428214Z\" fill=\"#4c78a8\" fill-opacity=\"1\" stroke=\"#505050\" stroke-width=\"0\"/><path aria-label=\"x1: 295; x2: 295.9; level: 9; level2: 9.9; status: Default; sf: get! at iddict.jl:176 [inlined]\" role=\"graphics-symbol\" aria-roledescription=\"rect mark\" d=\"M674.2857142857143,301h2.0571428571428214v9h-2.0571428571428214Z\" fill=\"#4c78a8\" fill-opacity=\"1\" stroke=\"#505050\" stroke-width=\"0\"/><path aria-label=\"x1: 299; x2: 304.9; level: 1; level2: 1.9; status: Default; sf: _start() at client.jl:522\" role=\"graphics-symbol\" aria-roledescription=\"rect mark\" d=\"M683.4285714285714,381h13.485714285714266v9h-13.485714285714266Z\" fill=\"#4c78a8\" fill-opacity=\"1\" stroke=\"#505050\" stroke-width=\"0\"/><path aria-label=\"x1: 299; x2: 304.9; level: 2; level2: 2.9; status: Runtime dispatch; sf: exec_options(opts::Base.JLOptions) at client.jl:307\" role=\"graphics-symbol\" aria-roledescription=\"rect mark\" d=\"M683.4285714285714,371h13.485714285714266v9h-13.485714285714266Z\" fill=\"#e45756\" fill-opacity=\"1\" stroke=\"#505050\" stroke-width=\"0\"/><path aria-label=\"x1: 299; x2: 304.9; level: 3; level2: 3.9; status: Default; sf: include(mod::Module, _path::String) at Base.jl:457\" role=\"graphics-symbol\" aria-roledescription=\"rect mark\" d=\"M683.4285714285714,361h13.485714285714266v9h-13.485714285714266Z\" fill=\"#4c78a8\" fill-opacity=\"1\" stroke=\"#505050\" stroke-width=\"0\"/><path aria-label=\"x1: 299; x2: 304.9; level: 4; level2: 4.9; status: Runtime dispatch; sf: _include(mapexpr::Function, mod::Module, _path::String) at loading.jl:1959\" role=\"graphics-symbol\" aria-roledescription=\"rect mark\" d=\"M683.4285714285714,351h13.485714285714266v9h-13.485714285714266Z\" fill=\"#e45756\" fill-opacity=\"1\" stroke=\"#505050\" stroke-width=\"0\"/><path aria-label=\"x1: 299; x2: 304.9; level: 5; level2: 5.9; status: Default; sf: include_string(mapexpr::typeof(identity), mod::Module, code::String, filename::String) at loading.jl:1899\" role=\"graphics-symbol\" aria-roledescription=\"rect mark\" d=\"M683.4285714285714,341h13.485714285714266v9h-13.485714285714266Z\" fill=\"#4c78a8\" fill-opacity=\"1\" stroke=\"#505050\" stroke-width=\"0\"/><path aria-label=\"x1: 299; x2: 304.9; level: 6; level2: 6.9; status: Default; sf: eval at boot.jl:370 [inlined]\" role=\"graphics-symbol\" aria-roledescription=\"rect mark\" d=\"M683.4285714285714,331h13.485714285714266v9h-13.485714285714266Z\" fill=\"#4c78a8\" fill-opacity=\"1\" stroke=\"#505050\" stroke-width=\"0\"/><path aria-label=\"x1: 299; x2: 304.9; level: 7; level2: 7.9; status: Runtime dispatch; sf: top-level scope at notebook.jl:32\" role=\"graphics-symbol\" aria-roledescription=\"rect mark\" d=\"M683.4285714285714,321h13.485714285714266v9h-13.485714285714266Z\" fill=\"#e45756\" fill-opacity=\"1\" stroke=\"#505050\" stroke-width=\"0\"/><path aria-label=\"x1: 299; x2: 304.9; level: 8; level2: 8.9; status: Default; sf: kwcall(::NamedTuple{(:crashreporting_pipename,), Tuple{String}}, ::typeof(VSCodeServer.serve_notebook), pipename::String, outputchannel_logger::Base.CoreLogging.SimpleLogger) at serve_notebook.jl:75\" role=\"graphics-symbol\" aria-roledescription=\"rect mark\" d=\"M683.4285714285714,311h13.485714285714266v9h-13.485714285714266Z\" fill=\"#4c78a8\" fill-opacity=\"1\" stroke=\"#505050\" stroke-width=\"0\"/><path aria-label=\"x1: 299; x2: 304.9; level: 9; level2: 9.9; status: Runtime dispatch; sf: serve_notebook(pipename::String, outputchannel_logger::Base.CoreLogging.SimpleLogger; crashreporting_pipename::String) at serve_notebook.jl:139\" role=\"graphics-symbol\" aria-roledescription=\"rect mark\" d=\"M683.4285714285714,301h13.485714285714266v9h-13.485714285714266Z\" fill=\"#e45756\" fill-opacity=\"1\" stroke=\"#505050\" stroke-width=\"0\"/><path aria-label=\"x1: 299; x2: 304.9; level: 10; level2: 10.9; status: Runtime dispatch; sf: dispatch_msg(x::VSCodeServer.JSONRPC.JSONRPCEndpoint{Base.PipeEndpoint, Base.PipeEndpoint}, dispatcher::VSCodeServer.JSONRPC.MsgDispatcher, msg::Dict{String, Any}) at typed.jl:67\" role=\"graphics-symbol\" aria-roledescription=\"rect mark\" d=\"M683.4285714285714,291h13.485714285714266v9h-13.485714285714266Z\" fill=\"#e45756\" fill-opacity=\"1\" stroke=\"#505050\" stroke-width=\"0\"/><path aria-label=\"x1: 299; x2: 304.9; level: 11; level2: 11.9; status: Default; sf: notebook_runcell_request(conn::VSCodeServer.JSONRPC.JSONRPCEndpoint{Base.PipeEndpoint, Base.PipeEndpoint}, params::VSCodeServer.NotebookRunCellArguments) at serve_notebook.jl:13\" role=\"graphics-symbol\" aria-roledescription=\"rect mark\" d=\"M683.4285714285714,281h13.485714285714266v9h-13.485714285714266Z\" fill=\"#4c78a8\" fill-opacity=\"1\" stroke=\"#505050\" stroke-width=\"0\"/><path aria-label=\"x1: 299; x2: 304.9; level: 12; level2: 12.9; status: Default; sf: withpath(f::VSCodeServer.var&quot;#198#199&quot;{VSCodeServer.NotebookRunCellArguments, String}, path::String) at repl.jl:249\" role=\"graphics-symbol\" aria-roledescription=\"rect mark\" d=\"M683.4285714285714,271h13.485714285714266v9h-13.485714285714266Z\" fill=\"#4c78a8\" fill-opacity=\"1\" stroke=\"#505050\" stroke-width=\"0\"/><path aria-label=\"x1: 299; x2: 304.9; level: 13; level2: 13.9; status: Default; sf: (::VSCodeServer.var&quot;#198#199&quot;{VSCodeServer.NotebookRunCellArguments, String})() at serve_notebook.jl:19\" role=\"graphics-symbol\" aria-roledescription=\"rect mark\" d=\"M683.4285714285714,261h13.485714285714266v9h-13.485714285714266Z\" fill=\"#4c78a8\" fill-opacity=\"1\" stroke=\"#505050\" stroke-width=\"0\"/><path aria-label=\"x1: 299; x2: 304.9; level: 14; level2: 14.9; status: Default; sf: invokelatest at essentials.jl:813 [inlined]\" role=\"graphics-symbol\" aria-roledescription=\"rect mark\" d=\"M683.4285714285714,250.99999999999997h13.485714285714266v9.000000000000028h-13.485714285714266Z\" fill=\"#4c78a8\" fill-opacity=\"1\" stroke=\"#505050\" stroke-width=\"0\"/><path aria-label=\"x1: 299; x2: 304.9; level: 15; level2: 15.9; status: Runtime dispatch; sf: #invokelatest#2 at essentials.jl:816 [inlined]\" role=\"graphics-symbol\" aria-roledescription=\"rect mark\" d=\"M683.4285714285714,241h13.485714285714266v9h-13.485714285714266Z\" fill=\"#e45756\" fill-opacity=\"1\" stroke=\"#505050\" stroke-width=\"0\"/><path aria-label=\"x1: 299; x2: 304.9; level: 16; level2: 16.9; status: Default; sf: include_string(mapexpr::typeof(REPL.softscope), mod::Module, code::String, filename::String) at loading.jl:1899\" role=\"graphics-symbol\" aria-roledescription=\"rect mark\" d=\"M683.4285714285714,231h13.485714285714266v9h-13.485714285714266Z\" fill=\"#4c78a8\" fill-opacity=\"1\" stroke=\"#505050\" stroke-width=\"0\"/><path aria-label=\"x1: 299; x2: 304.9; level: 17; level2: 17.9; status: Runtime dispatch; sf: eval at boot.jl:370 [inlined]\" role=\"graphics-symbol\" aria-roledescription=\"rect mark\" d=\"M683.4285714285714,221h13.485714285714266v8.999999999999972h-13.485714285714266Z\" fill=\"#e45756\" fill-opacity=\"1\" stroke=\"#505050\" stroke-width=\"0\"/><path aria-label=\"x1: 299; x2: 299.9; level: 18; level2: 18.9; status: Default; sf: abspredict(refmed::Float64, wavel1::Float64, wavel2::Float64, numval::UInt32, particledata::Matrix{Float64}, materialdata::Tuple{Float64, Float64, Float64, Matrix{Float64}}, ppml::Float64, d0::Float64) at nanoconc.jl:275\" role=\"graphics-symbol\" aria-roledescription=\"rect mark\" d=\"M683.4285714285714,211.00000000000003h2.0571428571428214v9h-2.0571428571428214Z\" fill=\"#4c78a8\" fill-opacity=\"1\" stroke=\"#505050\" stroke-width=\"0\"/><path aria-label=\"x1: 299; x2: 299.9; level: 19; level2: 19.9; status: Default; sf: materialize at broadcast.jl:873 [inlined]\" role=\"graphics-symbol\" aria-roledescription=\"rect mark\" d=\"M683.4285714285714,201.00000000000003h2.0571428571428214v8.999999999999972h-2.0571428571428214Z\" fill=\"#4c78a8\" fill-opacity=\"1\" stroke=\"#505050\" stroke-width=\"0\"/><path aria-label=\"x1: 299; x2: 299.9; level: 20; level2: 20.9; status: Default; sf: copy at broadcast.jl:898 [inlined]\" role=\"graphics-symbol\" aria-roledescription=\"rect mark\" d=\"M683.4285714285714,191h2.0571428571428214v9h-2.0571428571428214Z\" fill=\"#4c78a8\" fill-opacity=\"1\" stroke=\"#505050\" stroke-width=\"0\"/><path aria-label=\"x1: 299; x2: 299.9; level: 21; level2: 21.9; status: Default; sf: copyto! at broadcast.jl:926 [inlined]\" role=\"graphics-symbol\" aria-roledescription=\"rect mark\" d=\"M683.4285714285714,181h2.0571428571428214v9h-2.0571428571428214Z\" fill=\"#4c78a8\" fill-opacity=\"1\" stroke=\"#505050\" stroke-width=\"0\"/><path aria-label=\"x1: 299; x2: 299.9; level: 22; level2: 22.9; status: Default; sf: copyto! at broadcast.jl:973 [inlined]\" role=\"graphics-symbol\" aria-roledescription=\"rect mark\" d=\"M683.4285714285714,171h2.0571428571428214v8.999999999999972h-2.0571428571428214Z\" fill=\"#4c78a8\" fill-opacity=\"1\" stroke=\"#505050\" stroke-width=\"0\"/><path aria-label=\"x1: 299; x2: 299.9; level: 23; level2: 23.9; status: Default; sf: macro expansion at simdloop.jl:77 [inlined]\" role=\"graphics-symbol\" aria-roledescription=\"rect mark\" d=\"M683.4285714285714,161.00000000000003h2.0571428571428214v9h-2.0571428571428214Z\" fill=\"#4c78a8\" fill-opacity=\"1\" stroke=\"#505050\" stroke-width=\"0\"/><path aria-label=\"x1: 299; x2: 299.9; level: 24; level2: 24.9; status: Default; sf: macro expansion at broadcast.jl:974 [inlined]\" role=\"graphics-symbol\" aria-roledescription=\"rect mark\" d=\"M683.4285714285714,151.00000000000003h2.0571428571428214v8.999999999999972h-2.0571428571428214Z\" fill=\"#4c78a8\" fill-opacity=\"1\" stroke=\"#505050\" stroke-width=\"0\"/><path aria-label=\"x1: 299; x2: 299.9; level: 25; level2: 25.9; status: Default; sf: getindex at broadcast.jl:610 [inlined]\" role=\"graphics-symbol\" aria-roledescription=\"rect mark\" d=\"M683.4285714285714,141h2.0571428571428214v9h-2.0571428571428214Z\" fill=\"#4c78a8\" fill-opacity=\"1\" stroke=\"#505050\" stroke-width=\"0\"/><path aria-label=\"x1: 299; x2: 299.9; level: 26; level2: 26.9; status: Default; sf: _broadcast_getindex at broadcast.jl:656 [inlined]\" role=\"graphics-symbol\" aria-roledescription=\"rect mark\" d=\"M683.4285714285714,131h2.0571428571428214v9h-2.0571428571428214Z\" fill=\"#4c78a8\" fill-opacity=\"1\" stroke=\"#505050\" stroke-width=\"0\"/><path aria-label=\"x1: 299; x2: 299.9; level: 27; level2: 27.9; status: Default; sf: _broadcast_getindex_evalf at broadcast.jl:683 [inlined]\" role=\"graphics-symbol\" aria-roledescription=\"rect mark\" d=\"M683.4285714285714,121h2.0571428571428214v8.999999999999972h-2.0571428571428214Z\" fill=\"#4c78a8\" fill-opacity=\"1\" stroke=\"#505050\" stroke-width=\"0\"/><path aria-label=\"x1: 299; x2: 299.9; level: 28; level2: 28.9; status: Default; sf: (::Main.nanoconc.var&quot;#predict#22&quot;{Matrix{Float64}, Float64, Float64})(qext::Float64) at nanoconc.jl:269\" role=\"graphics-symbol\" aria-roledescription=\"rect mark\" d=\"M683.4285714285714,111.00000000000003h2.0571428571428214v8.999999999999986h-2.0571428571428214Z\" fill=\"#4c78a8\" fill-opacity=\"1\" stroke=\"#505050\" stroke-width=\"0\"/><path aria-label=\"x1: 299; x2: 299.9; level: 29; level2: 29.9; status: Default; sf: sum at reducedim.jl:994 [inlined]\" role=\"graphics-symbol\" aria-roledescription=\"rect mark\" d=\"M683.4285714285714,101.00000000000003h2.0571428571428214v8.999999999999986h-2.0571428571428214Z\" fill=\"#4c78a8\" fill-opacity=\"1\" stroke=\"#505050\" stroke-width=\"0\"/><path aria-label=\"x1: 299; x2: 299.9; level: 30; level2: 30.9; status: Default; sf: #sum#807 at reducedim.jl:994 [inlined]\" role=\"graphics-symbol\" aria-roledescription=\"rect mark\" d=\"M683.4285714285714,91.00000000000001h2.0571428571428214v8.999999999999986h-2.0571428571428214Z\" fill=\"#4c78a8\" fill-opacity=\"1\" stroke=\"#505050\" stroke-width=\"0\"/><path aria-label=\"x1: 299; x2: 299.9; level: 31; level2: 31.9; status: Default; sf: _sum at reducedim.jl:998 [inlined]\" role=\"graphics-symbol\" aria-roledescription=\"rect mark\" d=\"M683.4285714285714,81h2.0571428571428214v8.999999999999986h-2.0571428571428214Z\" fill=\"#4c78a8\" fill-opacity=\"1\" stroke=\"#505050\" stroke-width=\"0\"/><path aria-label=\"x1: 299; x2: 299.9; level: 32; level2: 32.9; status: Default; sf: #_sum#809 at reducedim.jl:998 [inlined]\" role=\"graphics-symbol\" aria-roledescription=\"rect mark\" d=\"M683.4285714285714,71h2.0571428571428214v8.999999999999986h-2.0571428571428214Z\" fill=\"#4c78a8\" fill-opacity=\"1\" stroke=\"#505050\" stroke-width=\"0\"/><path aria-label=\"x1: 299; x2: 299.9; level: 33; level2: 33.9; status: Default; sf: _sum at reducedim.jl:999 [inlined]\" role=\"graphics-symbol\" aria-roledescription=\"rect mark\" d=\"M683.4285714285714,61.00000000000003h2.0571428571428214v8.999999999999986h-2.0571428571428214Z\" fill=\"#4c78a8\" fill-opacity=\"1\" stroke=\"#505050\" stroke-width=\"0\"/><path aria-label=\"x1: 299; x2: 299.9; level: 34; level2: 34.9; status: Default; sf: #_sum#810 at reducedim.jl:999 [inlined]\" role=\"graphics-symbol\" aria-roledescription=\"rect mark\" d=\"M683.4285714285714,51.00000000000002h2.0571428571428214v8.999999999999986h-2.0571428571428214Z\" fill=\"#4c78a8\" fill-opacity=\"1\" stroke=\"#505050\" stroke-width=\"0\"/><path aria-label=\"x1: 299; x2: 299.9; level: 35; level2: 35.9; status: Default; sf: mapreduce at reducedim.jl:357 [inlined]\" role=\"graphics-symbol\" aria-roledescription=\"rect mark\" d=\"M683.4285714285714,41.000000000000014h2.0571428571428214v8.999999999999986h-2.0571428571428214Z\" fill=\"#4c78a8\" fill-opacity=\"1\" stroke=\"#505050\" stroke-width=\"0\"/><path aria-label=\"x1: 299; x2: 299.9; level: 36; level2: 36.9; status: Default; sf: #mapreduce#800 at reducedim.jl:357 [inlined]\" role=\"graphics-symbol\" aria-roledescription=\"rect mark\" d=\"M683.4285714285714,31.000000000000007h2.0571428571428214v8.999999999999986h-2.0571428571428214Z\" fill=\"#4c78a8\" fill-opacity=\"1\" stroke=\"#505050\" stroke-width=\"0\"/><path aria-label=\"x1: 299; x2: 299.9; level: 37; level2: 37.9; status: Default; sf: _mapreduce_dim at reducedim.jl:365 [inlined]\" role=\"graphics-symbol\" aria-roledescription=\"rect mark\" d=\"M683.4285714285714,20.999999999999996h2.0571428571428214v8.999999999999986h-2.0571428571428214Z\" fill=\"#4c78a8\" fill-opacity=\"1\" stroke=\"#505050\" stroke-width=\"0\"/><path aria-label=\"x1: 299; x2: 299.9; level: 38; level2: 38.9; status: Default; sf: _mapreduce at reduce.jl:437 [inlined]\" role=\"graphics-symbol\" aria-roledescription=\"rect mark\" d=\"M683.4285714285714,11.000000000000032h2.0571428571428214v8.999999999999986h-2.0571428571428214Z\" fill=\"#4c78a8\" fill-opacity=\"1\" stroke=\"#505050\" stroke-width=\"0\"/><path aria-label=\"x1: 299; x2: 299.9; level: 39; level2: 39.9; status: Default; sf: + at int.jl:87 [inlined]\" role=\"graphics-symbol\" aria-roledescription=\"rect mark\" d=\"M683.4285714285714,1.000000000000023h2.0571428571428214v8.999999999999986h-2.0571428571428214Z\" fill=\"#4c78a8\" fill-opacity=\"1\" stroke=\"#505050\" stroke-width=\"0\"/></g><g class=\"mark-group role-legend\" role=\"graphics-symbol\" aria-roledescription=\"legend\" aria-label=\"Symbol legend for fill color with 3 values: Default, Garbage collection, Runtime dispatch\"><g transform=\"translate(0,418)\"><path class=\"background\" aria-hidden=\"true\" d=\"M0,0h280v13h-280Z\" pointer-events=\"none\"/><g><g class=\"mark-group role-legend-entry\"><g transform=\"translate(0,0)\"><path class=\"background\" aria-hidden=\"true\" d=\"M0,0h0v0h0Z\" pointer-events=\"none\"/><g><g class=\"mark-group role-scope\" role=\"graphics-object\" aria-roledescription=\"group mark container\"><g transform=\"translate(0,0.25)\"><path class=\"background\" aria-hidden=\"true\" d=\"M0,0h51v12.5h-51Z\" pointer-events=\"none\" opacity=\"1\"/><g><g class=\"mark-symbol role-legend-symbol\" pointer-events=\"none\"><path transform=\"translate(6,6)\" d=\"M-5,-5h10v10h-10Z\" fill=\"#4c78a8\" stroke=\"#505050\" stroke-width=\"1.5\" opacity=\"1\"/></g><g class=\"mark-text role-legend-label\" pointer-events=\"none\"><text text-anchor=\"start\" transform=\"translate(16,9)\" font-family=\"sans-serif\" font-size=\"10px\" fill=\"#000\" opacity=\"1\">Default</text></g></g><path class=\"foreground\" aria-hidden=\"true\" d=\"\" pointer-events=\"none\" display=\"none\"/></g><g transform=\"translate(62,0.25)\"><path class=\"background\" aria-hidden=\"true\" d=\"M0,0h107v12.5h-107Z\" pointer-events=\"none\" opacity=\"1\"/><g><g class=\"mark-symbol role-legend-symbol\" pointer-events=\"none\"><path transform=\"translate(6,6)\" d=\"M-5,-5h10v10h-10Z\" fill=\"#f58518\" stroke=\"#505050\" stroke-width=\"1.5\" opacity=\"1\"/></g><g class=\"mark-text role-legend-label\" pointer-events=\"none\"><text text-anchor=\"start\" transform=\"translate(16,9)\" font-family=\"sans-serif\" font-size=\"10px\" fill=\"#000\" opacity=\"1\">Garbage collection</text></g></g><path class=\"foreground\" aria-hidden=\"true\" d=\"\" pointer-events=\"none\" display=\"none\"/></g><g transform=\"translate(180,0.25)\"><path class=\"background\" aria-hidden=\"true\" d=\"M0,0h100v12.5h-100Z\" pointer-events=\"none\" opacity=\"1\"/><g><g class=\"mark-symbol role-legend-symbol\" pointer-events=\"none\"><path transform=\"translate(6,6)\" d=\"M-5,-5h10v10h-10Z\" fill=\"#e45756\" stroke=\"#505050\" stroke-width=\"1.5\" opacity=\"1\"/></g><g class=\"mark-text role-legend-label\" pointer-events=\"none\"><text text-anchor=\"start\" transform=\"translate(16,9)\" font-family=\"sans-serif\" font-size=\"10px\" fill=\"#000\" opacity=\"1\">Runtime dispatch</text></g></g><path class=\"foreground\" aria-hidden=\"true\" d=\"\" pointer-events=\"none\" display=\"none\"/></g></g></g><path class=\"foreground\" aria-hidden=\"true\" d=\"\" pointer-events=\"none\" display=\"none\"/></g></g></g><path class=\"foreground\" aria-hidden=\"true\" d=\"\" pointer-events=\"none\" display=\"none\"/></g></g><g class=\"mark-group role-title\"><g transform=\"translate(400,-17)\"><path class=\"background\" aria-hidden=\"true\" d=\"M0,0h0v0h0Z\" pointer-events=\"none\"/><g><g class=\"mark-text role-title-text\" role=\"graphics-symbol\" aria-roledescription=\"title\" aria-label=\"Title text 'Profile Results'\" pointer-events=\"none\"><text text-anchor=\"middle\" transform=\"translate(0,10)\" font-family=\"sans-serif\" font-size=\"13px\" font-weight=\"bold\" fill=\"#000\" opacity=\"1\">Profile Results</text></g></g><path class=\"foreground\" aria-hidden=\"true\" d=\"\" pointer-events=\"none\" display=\"none\"/></g></g></g><path class=\"foreground\" aria-hidden=\"true\" d=\"\" display=\"none\"/></g></g></g><defs><clipPath id=\"clip1\"><rect x=\"0\" y=\"0\" width=\"800\" height=\"400\"/></clipPath></defs></svg>\n"
      ],
      "text/plain": [
       "@vlplot(\n",
       "    mark={\n",
       "        type=\"rect\",\n",
       "        stroke=\"#505050\"\n",
       "    },\n",
       "    transform=[\n",
       "        {\n",
       "            calculate=\"datum.level+0.9\",\n",
       "            as=\"level2\"\n",
       "        }\n",
       "    ],\n",
       "    selection={\n",
       "        grid={\n",
       "            type=\"interval\",\n",
       "            bind=\"scales\"\n",
       "        },\n",
       "        highlight={\n",
       "            type=\"single\",\n",
       "            on=\"mouseover\",\n",
       "            empty=\"none\"\n",
       "        },\n",
       "        select={\n",
       "            type=\"multi\",\n",
       "            empty=\"none\"\n",
       "        }\n",
       "    },\n",
       "    width=800,\n",
       "    height=400,\n",
       "    title=\"Profile Results\",\n",
       "    encoding={\n",
       "        x={\n",
       "            axis=nothing,\n",
       "            field=\"x1\"\n",
       "        },\n",
       "        x2={\n",
       "            field=\"x2\"\n",
       "        },\n",
       "        y={\n",
       "            axis=nothing,\n",
       "            field=\"level\",\n",
       "            type=\"quantitative\"\n",
       "        },\n",
       "        y2={\n",
       "            field=\"level2\",\n",
       "            type=\"quantitative\"\n",
       "        },\n",
       "        fillOpacity={\n",
       "            condition=[\n",
       "                {\n",
       "                    selection=\"highlight\",\n",
       "                    value=0.6\n",
       "                },\n",
       "                {\n",
       "                    selection=\"select\",\n",
       "                    value=0.5\n",
       "                }\n",
       "            ],\n",
       "            value=1\n",
       "        },\n",
       "        strokeWidth={\n",
       "            condition=[\n",
       "                {\n",
       "                    selection=\"highlight\",\n",
       "                    value=0.5\n",
       "                },\n",
       "                {\n",
       "                    selection=\"select\",\n",
       "                    value=0.5\n",
       "                }\n",
       "            ],\n",
       "            value=0\n",
       "        },\n",
       "        color={\n",
       "            legend={\n",
       "                title=nothing,\n",
       "                orient=\"bottom\"\n",
       "            },\n",
       "            field=\"status\",\n",
       "            type=\"nominal\"\n",
       "        },\n",
       "        tooltip={\n",
       "            field=\"sf\"\n",
       "        }\n",
       "    },\n",
       "    data={\n",
       "        values=...\n",
       "    }\n",
       ")"
      ]
     },
     "metadata": {},
     "output_type": "display_data"
    }
   ],
   "source": [
    "println(\"\\nImporting modules...\")\n",
    "\n",
    "include(\"src/nanoconc.jl\")\n",
    "using CSV\n",
    "using DataFrames\n",
    "using Profile, ProfileVega\n",
    "\n",
    "println(\"Loading parameters...\")\n",
    "\n",
    "refmed = 1.333 # refractive index of the medium\n",
    "wavel1, wavel2 = 250.0, 900.0 # wavelengths to calculate between\n",
    "numval = 0x00001000 # number of values to calculate in spectrum\n",
    "particledata = [2.5 1.0\n",
    "    5.0 1.0\n",
    "    10.0 1.0\n",
    "    20.0 1.0\n",
    "    30.0 1.0\n",
    "    40.0 1.0\n",
    "    50.0 1.0\n",
    "    60.0 1.0\n",
    "    70.0 1.0\n",
    "    80.0 1.0\n",
    "    90.0 1.0\n",
    "    100.0 1.0]\n",
    "materialdata = nanoconc.loadmaterial(\"Gold\", disp=false)\n",
    "ppml = 10000.0 # particles per ml nanoconc.quantumcalc.numtomol(ppml) -> conc\n",
    "d0 = 1.0 # path length\n",
    "params = (refmed, wavel1, wavel2, numval, particledata, materialdata, ppml, d0)\n",
    "spectrum = nanoconc.abspredict(params...)\n",
    "\n",
    "println(\"Calculating absorbance spectrum...\")\n",
    "print(\"Calculation time: \")\n",
    "\n",
    "@time spectrum = nanoconc.abspredict(params...)\n",
    "CSV.write(\"abs.csv\", DataFrame(spectrum, :auto), writeheader=false)\n",
    "\n",
    "ProfileVega.@profview nanoconc.abspredict(params...)"
   ]
  },
  {
   "cell_type": "code",
   "execution_count": null,
   "metadata": {},
   "outputs": [],
   "source": []
  }
 ],
 "metadata": {
  "kernelspec": {
   "display_name": "Julia 1.9.1",
   "language": "julia",
   "name": "julia-1.9"
  },
  "language_info": {
   "file_extension": ".jl",
   "mimetype": "application/julia",
   "name": "julia",
   "version": "1.9.1"
  },
  "orig_nbformat": 4
 },
 "nbformat": 4,
 "nbformat_minor": 2
}
